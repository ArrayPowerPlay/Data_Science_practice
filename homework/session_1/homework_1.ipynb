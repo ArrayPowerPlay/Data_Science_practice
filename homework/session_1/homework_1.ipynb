{
 "cells": [
  {
   "cell_type": "markdown",
   "id": "5b60607d",
   "metadata": {},
   "source": [
    "***Sử dụng ChormeDriver để crawl dữ liệu title và link của 10-20 bài báo trên đường link:***\n",
    "https://cafef.vn/tai-chinh-quoc-te.chn"
   ]
  },
  {
   "cell_type": "markdown",
   "id": "34b0eccb",
   "metadata": {},
   "source": [
    "**Lời giải bài tập sử dụng thư viện selenium và beautifulsoup để crawl dữ liệu**"
   ]
  },
  {
   "cell_type": "markdown",
   "id": "eff51744",
   "metadata": {},
   "source": [
    "1. Import các thư viện cần dùng"
   ]
  },
  {
   "cell_type": "code",
   "execution_count": 18,
   "id": "147b5d66",
   "metadata": {},
   "outputs": [],
   "source": [
    "from selenium import webdriver\n",
    "from selenium.webdriver.chrome.options import Options \n",
    "from selenium.webdriver.chrome.service import Service \n",
    "from bs4 import BeautifulSoup\n",
    "import pandas as pd \n",
    "import time\n",
    "import chromedriver_autoinstaller\n",
    "import random"
   ]
  },
  {
   "cell_type": "markdown",
   "id": "9b2cb246",
   "metadata": {},
   "source": [
    "2. Khởi tạo driver"
   ]
  },
  {
   "cell_type": "code",
   "execution_count": 19,
   "id": "9bd0fd2b",
   "metadata": {},
   "outputs": [],
   "source": [
    "# lấy đường dẫn driver phù hợp với phiên bản chrome hiện tại\n",
    "driver_path = chromedriver_autoinstaller.install()\n",
    "# thiết lập các tùy chọn cho driver\n",
    "option = Options()\n",
    "# khi lấy dữ liệu thì ẩn việc chrome được lấy dữ liệu sử dụng selenium\n",
    "option.add_argument(\"--disable-blink-features=AutomationControlled\")\n",
    "# chạy cửa sổ chrome ở trạng thái toàn màn hình\n",
    "option.add_argument(\"start-maximized\")\n",
    "# giả mạo user-agent gửi tới server\n",
    "option.add_argument(\"user-agent=Mozilla/5.0 (Windows NT 10.0; Win64; x64)\"\n",
    "                    \"AppleWebKit/537.36 (KHTML, like Gecko)\"\n",
    "                    \"Chrome/124.0.0.0 Safari/537.36\")\n",
    "service = Service(driver_path)\n",
    "\n",
    "# sử dụng driver với các tham số khởi tạo\n",
    "driver = webdriver.Chrome(service=service, options=option)\n",
    "# thời gian đợi trang web phản hồi trước khi báo lỗi\n",
    "driver.set_page_load_timeout(60)\n",
    "\n",
    "# url cần crawl\n",
    "url = 'https://cafef.vn/tai-chinh-quoc-te.chn'"
   ]
  },
  {
   "cell_type": "markdown",
   "id": "1159030b",
   "metadata": {},
   "source": [
    "3. Sử dụng beautifulsoup để phân tích mã HTML của trang web"
   ]
  },
  {
   "cell_type": "code",
   "execution_count": 20,
   "id": "592ad400",
   "metadata": {},
   "outputs": [],
   "source": [
    "driver.get(url)\n",
    "# tạo độ ngẫu nhiên giữa các lần truy cập (để không làm quá tải trang web cần crawl)\n",
    "time.sleep(random.uniform(1, 3))\n",
    "\n",
    "# lấy mã HTML của toàn bộ web\n",
    "html = driver.page_source\n",
    "# khởi tạo đối tượng beautifulsoup để phân tích thông tin mã HTML\n",
    "soup = BeautifulSoup(html, 'html.parser')\n",
    "# lấy ra các mục bài báo\n",
    "contents = soup.find_all(\"div\", class_=\"tlitem box-category-item\")\n",
    "\n",
    "# tạo list để chứa dữ liệu của từng bài báo\n",
    "data = []\n",
    "# đếm số bài báo được crawl (giới hạn 20 bài báo)\n",
    "cnt = 0\n",
    "\n",
    "for content in contents:\n",
    "    if cnt == 20:\n",
    "        break\n",
    "    # tiêu đề bài báo\n",
    "    title = content.h3.a.get_text(strip=True)\n",
    "    # đường dẫn tới bài báo\n",
    "    base_link = 'https://cafef.vn'\n",
    "    link = content.h3.a[\"href\"]\n",
    "    link = base_link + link\n",
    "    cnt += 1\n",
    "    # lưu dưới dạng dictionary\n",
    "    data.append({\n",
    "        \"Index\": cnt,\n",
    "        \"Title\": title,\n",
    "        \"Link\": link\n",
    "    })"
   ]
  },
  {
   "cell_type": "markdown",
   "id": "dd38add2",
   "metadata": {},
   "source": [
    "4. Lưu dữ liệu crawl vào file excel sử dụng thư viện pandas"
   ]
  },
  {
   "cell_type": "code",
   "execution_count": 21,
   "id": "28778b13",
   "metadata": {},
   "outputs": [],
   "source": [
    "df = pd.DataFrame(data)\n",
    "df.to_excel(\"homework_1.xlsx\", index=False)"
   ]
  },
  {
   "cell_type": "markdown",
   "id": "18cbd490",
   "metadata": {},
   "source": [
    "5. Tắt chrome và tắt phiên làm việc với webdriver\n"
   ]
  },
  {
   "cell_type": "code",
   "execution_count": 22,
   "id": "d4ab52e8",
   "metadata": {},
   "outputs": [],
   "source": [
    "driver.quit()"
   ]
  },
  {
   "cell_type": "code",
   "execution_count": null,
   "id": "5760b1c6",
   "metadata": {},
   "outputs": [],
   "source": []
  }
 ],
 "metadata": {
  "kernelspec": {
   "display_name": "practice_DS",
   "language": "python",
   "name": "python3"
  },
  "language_info": {
   "codemirror_mode": {
    "name": "ipython",
    "version": 3
   },
   "file_extension": ".py",
   "mimetype": "text/x-python",
   "name": "python",
   "nbconvert_exporter": "python",
   "pygments_lexer": "ipython3",
   "version": "3.13.7"
  }
 },
 "nbformat": 4,
 "nbformat_minor": 5
}
