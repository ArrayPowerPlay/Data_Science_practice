{
 "cells": [
  {
   "cell_type": "markdown",
   "id": "f5b7b642",
   "metadata": {},
   "source": [
    "# PRACTICE: DATA PROCESSING FOR PREDICTING LOAN STATUS PROBLEM #"
   ]
  },
  {
   "cell_type": "markdown",
   "id": "5bd9c0bf",
   "metadata": {},
   "source": [
    "## STEP 1: IMPORT LIBRARIES ##"
   ]
  },
  {
   "cell_type": "code",
   "execution_count": 77,
   "id": "64d623de",
   "metadata": {},
   "outputs": [],
   "source": [
    "import numpy as np\n",
    "import pandas as pd\n",
    "from sklearn import preprocessing"
   ]
  },
  {
   "cell_type": "markdown",
   "id": "2f082cd3",
   "metadata": {},
   "source": [
    "## STEP 2: DATASET INTRODUCTION"
   ]
  },
  {
   "cell_type": "markdown",
   "id": "dbf224ff",
   "metadata": {},
   "source": [
    "### REAL WORLD PROBLEM: Predicting loan status"
   ]
  },
  {
   "cell_type": "markdown",
   "id": "ead53590",
   "metadata": {},
   "source": [
    "### Problem Description"
   ]
  },
  {
   "cell_type": "markdown",
   "id": "b983e275",
   "metadata": {},
   "source": [
    "Based on information from students such as gender, education, loan amount to predict his/her loan status"
   ]
  },
  {
   "cell_type": "markdown",
   "id": "f82eecf7",
   "metadata": {},
   "source": [
    "### Objective"
   ]
  },
  {
   "cell_type": "markdown",
   "id": "498a8614",
   "metadata": {},
   "source": [
    "Build a Machine Learning model to predict a student's loan status"
   ]
  },
  {
   "cell_type": "markdown",
   "id": "5e8170f9",
   "metadata": {},
   "source": [
    "## STEP 3: LOAD AND READ DATA"
   ]
  },
  {
   "cell_type": "markdown",
   "id": "9d3d2f18",
   "metadata": {},
   "source": [
    "### STEP 3.1. Load dataset"
   ]
  },
  {
   "cell_type": "code",
   "execution_count": 78,
   "id": "a39545e4",
   "metadata": {},
   "outputs": [
    {
     "data": {
      "text/html": [
       "<div>\n",
       "<style scoped>\n",
       "    .dataframe tbody tr th:only-of-type {\n",
       "        vertical-align: middle;\n",
       "    }\n",
       "\n",
       "    .dataframe tbody tr th {\n",
       "        vertical-align: top;\n",
       "    }\n",
       "\n",
       "    .dataframe thead th {\n",
       "        text-align: right;\n",
       "    }\n",
       "</style>\n",
       "<table border=\"1\" class=\"dataframe\">\n",
       "  <thead>\n",
       "    <tr style=\"text-align: right;\">\n",
       "      <th></th>\n",
       "      <th>Loan_ID</th>\n",
       "      <th>Gender</th>\n",
       "      <th>Married</th>\n",
       "      <th>Dependents</th>\n",
       "      <th>Education</th>\n",
       "      <th>Self_Employed</th>\n",
       "      <th>ApplicantIncome</th>\n",
       "      <th>CoapplicantIncome</th>\n",
       "      <th>LoanAmount</th>\n",
       "      <th>Loan_Amount_Term</th>\n",
       "      <th>Credit_History</th>\n",
       "      <th>Property_Area</th>\n",
       "      <th>Loan_Status</th>\n",
       "    </tr>\n",
       "  </thead>\n",
       "  <tbody>\n",
       "    <tr>\n",
       "      <th>0</th>\n",
       "      <td>LP001002</td>\n",
       "      <td>Male</td>\n",
       "      <td>No</td>\n",
       "      <td>0</td>\n",
       "      <td>Graduate</td>\n",
       "      <td>No</td>\n",
       "      <td>5849</td>\n",
       "      <td>0.0</td>\n",
       "      <td>NaN</td>\n",
       "      <td>360.0</td>\n",
       "      <td>1.0</td>\n",
       "      <td>Urban</td>\n",
       "      <td>Y</td>\n",
       "    </tr>\n",
       "    <tr>\n",
       "      <th>1</th>\n",
       "      <td>LP001003</td>\n",
       "      <td>Male</td>\n",
       "      <td>Yes</td>\n",
       "      <td>1</td>\n",
       "      <td>Graduate</td>\n",
       "      <td>No</td>\n",
       "      <td>4583</td>\n",
       "      <td>1508.0</td>\n",
       "      <td>128.0</td>\n",
       "      <td>360.0</td>\n",
       "      <td>1.0</td>\n",
       "      <td>Rural</td>\n",
       "      <td>N</td>\n",
       "    </tr>\n",
       "    <tr>\n",
       "      <th>2</th>\n",
       "      <td>LP001005</td>\n",
       "      <td>Male</td>\n",
       "      <td>Yes</td>\n",
       "      <td>0</td>\n",
       "      <td>Graduate</td>\n",
       "      <td>Yes</td>\n",
       "      <td>3000</td>\n",
       "      <td>0.0</td>\n",
       "      <td>66.0</td>\n",
       "      <td>360.0</td>\n",
       "      <td>1.0</td>\n",
       "      <td>Urban</td>\n",
       "      <td>Y</td>\n",
       "    </tr>\n",
       "    <tr>\n",
       "      <th>3</th>\n",
       "      <td>LP001006</td>\n",
       "      <td>Male</td>\n",
       "      <td>Yes</td>\n",
       "      <td>0</td>\n",
       "      <td>Not Graduate</td>\n",
       "      <td>No</td>\n",
       "      <td>2583</td>\n",
       "      <td>2358.0</td>\n",
       "      <td>120.0</td>\n",
       "      <td>360.0</td>\n",
       "      <td>1.0</td>\n",
       "      <td>Urban</td>\n",
       "      <td>Y</td>\n",
       "    </tr>\n",
       "    <tr>\n",
       "      <th>4</th>\n",
       "      <td>LP001008</td>\n",
       "      <td>Male</td>\n",
       "      <td>No</td>\n",
       "      <td>0</td>\n",
       "      <td>Graduate</td>\n",
       "      <td>No</td>\n",
       "      <td>6000</td>\n",
       "      <td>0.0</td>\n",
       "      <td>141.0</td>\n",
       "      <td>360.0</td>\n",
       "      <td>1.0</td>\n",
       "      <td>Urban</td>\n",
       "      <td>Y</td>\n",
       "    </tr>\n",
       "  </tbody>\n",
       "</table>\n",
       "</div>"
      ],
      "text/plain": [
       "    Loan_ID Gender Married  ... Credit_History Property_Area Loan_Status\n",
       "0  LP001002   Male      No  ...            1.0         Urban           Y\n",
       "1  LP001003   Male     Yes  ...            1.0         Rural           N\n",
       "2  LP001005   Male     Yes  ...            1.0         Urban           Y\n",
       "3  LP001006   Male     Yes  ...            1.0         Urban           Y\n",
       "4  LP001008   Male      No  ...            1.0         Urban           Y\n",
       "\n",
       "[5 rows x 13 columns]"
      ]
     },
     "execution_count": 78,
     "metadata": {},
     "output_type": "execute_result"
    }
   ],
   "source": [
    "data = pd.read_csv('train_u6lujuX_CVtuZ9i.csv')\n",
    "# Print first 5 rows of the dataset\n",
    "data.head()"
   ]
  },
  {
   "cell_type": "markdown",
   "id": "518ea8cc",
   "metadata": {},
   "source": [
    "### STEP 3.2. Check dataset size"
   ]
  },
  {
   "cell_type": "code",
   "execution_count": 79,
   "id": "a065b5ab",
   "metadata": {},
   "outputs": [
    {
     "name": "stdout",
     "output_type": "stream",
     "text": [
      "Information of the dataset:\n",
      "--------------------------------------------------\n",
      "Number of examples: 614\n",
      "Number of features: 13\n",
      "Total number of cells: 7982\n",
      "Dataset shape: (614, 13)\n"
     ]
    }
   ],
   "source": [
    "print(\"Information of the dataset:\")\n",
    "print('-' * 50)\n",
    "print(f\"Number of examples: {data.shape[0]}\")\n",
    "print(f\"Number of features: {data.shape[1]}\")\n",
    "print(f\"Total number of cells: {data.shape[0] * data.shape[1]}\")\n",
    "print(f\"Dataset shape: {data.shape}\")"
   ]
  },
  {
   "cell_type": "markdown",
   "id": "b7fd7efa",
   "metadata": {},
   "source": [
    "## STEP 4: DATA EXPLORATION"
   ]
  },
  {
   "cell_type": "markdown",
   "id": "49ca9fd6",
   "metadata": {},
   "source": [
    "### STEP 4.1. Data overview"
   ]
  },
  {
   "cell_type": "code",
   "execution_count": 80,
   "id": "116382d7",
   "metadata": {},
   "outputs": [
    {
     "name": "stdout",
     "output_type": "stream",
     "text": [
      "DETAILED DATA INFORMATION\n",
      "==================================================\n",
      "<class 'pandas.core.frame.DataFrame'>\n",
      "RangeIndex: 614 entries, 0 to 613\n",
      "Data columns (total 13 columns):\n",
      " #   Column             Non-Null Count  Dtype  \n",
      "---  ------             --------------  -----  \n",
      " 0   Loan_ID            614 non-null    object \n",
      " 1   Gender             601 non-null    object \n",
      " 2   Married            611 non-null    object \n",
      " 3   Dependents         599 non-null    object \n",
      " 4   Education          614 non-null    object \n",
      " 5   Self_Employed      582 non-null    object \n",
      " 6   ApplicantIncome    614 non-null    int64  \n",
      " 7   CoapplicantIncome  614 non-null    float64\n",
      " 8   LoanAmount         592 non-null    float64\n",
      " 9   Loan_Amount_Term   600 non-null    float64\n",
      " 10  Credit_History     564 non-null    float64\n",
      " 11  Property_Area      614 non-null    object \n",
      " 12  Loan_Status        614 non-null    object \n",
      "dtypes: float64(4), int64(1), object(8)\n",
      "memory usage: 62.5+ KB\n",
      "\n",
      "EXPLANATION:\n",
      "• Non-Null Count: Number of non-missing values\n",
      "• Dtype: Data type (object = text, int64 = integer, float64 = float)\n",
      "• Memory usage: Memory used by the DataFrame\n"
     ]
    }
   ],
   "source": [
    "# Data Overview \n",
    "print(\"DETAILED DATA INFORMATION\")\n",
    "print(\"=\" * 50)\n",
    "\n",
    "# Show DataFrame info\n",
    "data.info()\n",
    "\n",
    "# Explanation of results\n",
    "print(\"\\nEXPLANATION:\")\n",
    "print(\"• Non-Null Count: Number of non-missing values\")\n",
    "print(\"• Dtype: Data type (object = text, int64 = integer, float64 = float)\")\n",
    "print(\"• Memory usage: Memory used by the DataFrame\")\n"
   ]
  },
  {
   "cell_type": "markdown",
   "id": "61ddfbed",
   "metadata": {},
   "source": [
    "### STEP 4.2. Descriptive statistics for numeric data"
   ]
  },
  {
   "cell_type": "code",
   "execution_count": 81,
   "id": "949e62ad",
   "metadata": {},
   "outputs": [
    {
     "name": "stdout",
     "output_type": "stream",
     "text": [
      "DESCRIPTIVE STATISTICS FOR NUMERIC COLUMNS\n",
      "==================================================\n",
      "       ApplicantIncome  CoapplicantIncome  ...  Loan_Amount_Term  Credit_History\n",
      "count       614.000000         614.000000  ...         600.00000      564.000000\n",
      "mean       5403.459283        1621.245798  ...         342.00000        0.842199\n",
      "std        6109.041673        2926.248369  ...          65.12041        0.364878\n",
      "min         150.000000           0.000000  ...          12.00000        0.000000\n",
      "25%        2877.500000           0.000000  ...         360.00000        1.000000\n",
      "50%        3812.500000        1188.500000  ...         360.00000        1.000000\n",
      "75%        5795.000000        2297.250000  ...         360.00000        1.000000\n",
      "max       81000.000000       41667.000000  ...         480.00000        1.000000\n",
      "\n",
      "[8 rows x 5 columns]\n",
      "\n",
      "Observations of some numeric features:\n",
      "• ApplicantIncome: range from 150 to 81000, mean ~5400, high variance ~6100\n",
      "• CoapplicantIncome: range from 0 to ~42000, mean ~1600\n"
     ]
    }
   ],
   "source": [
    "# Descriptive statistics for numeric columns \n",
    "print(\"DESCRIPTIVE STATISTICS FOR NUMERIC COLUMNS\")\n",
    "print(\"=\" * 50)\n",
    "\n",
    "# Compute descriptive statistics\n",
    "numeric_stats = data.describe()\n",
    "print(numeric_stats)\n",
    "\n",
    "# Observations\n",
    "print(\"\\nObservations of some numeric features:\")\n",
    "print(\"• ApplicantIncome: range from 150 to 81000, mean ~5400, high variance ~6100\")\n",
    "print(\"• CoapplicantIncome: range from 0 to ~42000, mean ~1600\")"
   ]
  },
  {
   "cell_type": "markdown",
   "id": "761da909",
   "metadata": {},
   "source": [
    "### STEP 4.3. Exploring categorical data"
   ]
  },
  {
   "cell_type": "code",
   "execution_count": 82,
   "id": "e1257935",
   "metadata": {},
   "outputs": [
    {
     "name": "stdout",
     "output_type": "stream",
     "text": [
      "CATEGORICAL DATA ANALYSIS\n",
      "==================================================\n",
      "\n",
      "Column 'Loan_ID':\n",
      "  Unique values: ['LP001002' 'LP001003' 'LP001005' 'LP001006' 'LP001008']\n",
      "  Number of unique values: 614\n",
      "  Distribution:\n",
      "    • LP001002: 1 (0.2%)\n",
      "    • LP001003: 1 (0.2%)\n",
      "    • LP001005: 1 (0.2%)\n",
      "    • LP001006: 1 (0.2%)\n",
      "    • LP001008: 1 (0.2%)\n",
      "\n",
      "Column 'Gender':\n",
      "  Unique values: ['Male' 'Female' nan]\n",
      "  Number of unique values: 3\n",
      "  Distribution:\n",
      "    • Male: 489 (79.6%)\n",
      "    • Female: 112 (18.2%)\n",
      "\n",
      "Column 'Married':\n",
      "  Unique values: ['No' 'Yes' nan]\n",
      "  Number of unique values: 3\n",
      "  Distribution:\n",
      "    • Yes: 398 (64.8%)\n",
      "    • No: 213 (34.7%)\n",
      "\n",
      "Column 'Dependents':\n",
      "  Unique values: ['0' '1' '2' '3+' nan]\n",
      "  Number of unique values: 5\n",
      "  Distribution:\n",
      "    • 0: 345 (56.2%)\n",
      "    • 1: 102 (16.6%)\n",
      "    • 2: 101 (16.4%)\n",
      "    • 3+: 51 (8.3%)\n",
      "\n",
      "Column 'Education':\n",
      "  Unique values: ['Graduate' 'Not Graduate']\n",
      "  Number of unique values: 2\n",
      "  Distribution:\n",
      "    • Graduate: 480 (78.2%)\n",
      "    • Not Graduate: 134 (21.8%)\n",
      "\n",
      "Column 'Self_Employed':\n",
      "  Unique values: ['No' 'Yes' nan]\n",
      "  Number of unique values: 3\n",
      "  Distribution:\n",
      "    • No: 500 (81.4%)\n",
      "    • Yes: 82 (13.4%)\n",
      "\n",
      "Column 'Property_Area':\n",
      "  Unique values: ['Urban' 'Rural' 'Semiurban']\n",
      "  Number of unique values: 3\n",
      "  Distribution:\n",
      "    • Semiurban: 233 (37.9%)\n",
      "    • Urban: 202 (32.9%)\n",
      "    • Rural: 179 (29.2%)\n",
      "\n",
      "Column 'Loan_Status':\n",
      "  Unique values: ['Y' 'N']\n",
      "  Number of unique values: 2\n",
      "  Distribution:\n",
      "    • Y: 422 (68.7%)\n",
      "    • N: 192 (31.3%)\n",
      "\n",
      "KEY OBSERVATIONS:\n",
      "• All categorical data needs to be converted to numeric\n",
      "• Output to be predicted: Y (yes) or N (no)\n"
     ]
    }
   ],
   "source": [
    "# Explore categorical data\n",
    "print(\"CATEGORICAL DATA ANALYSIS\")\n",
    "print(\"=\" * 50)\n",
    "\n",
    "categorical_columns = data.select_dtypes(include='object').columns\n",
    "\n",
    "for col in categorical_columns:\n",
    "    print(f\"\\nColumn '{col}':\")\n",
    "\n",
    "    # Unique values\n",
    "    unique_values = data[col].unique()\n",
    "    # Show first 5 unique values\n",
    "    print(f\"  Unique values: {unique_values[:5]}\")\n",
    "    print(f\"  Number of unique values: {len(unique_values)}\")\n",
    "\n",
    "    # Value counts and percentages\n",
    "    print(\"  Distribution:\")\n",
    "    value_counts = data[col].value_counts()\n",
    "    # Show first 5 distributions of a feature\n",
    "    i = 0 \n",
    "    for value, count in value_counts.items():\n",
    "        i += 1\n",
    "        percentage = (count / len(data)) * 100\n",
    "        print(f\"    • {value}: {count} ({percentage:.1f}%)\")\n",
    "        if i == 5: break\n",
    "\n",
    "print(\"\\nKEY OBSERVATIONS:\")\n",
    "print(\"• All categorical data needs to be converted to numeric\")\n",
    "print(\"• Output to be predicted: Y (yes) or N (no)\")"
   ]
  },
  {
   "cell_type": "markdown",
   "id": "b286eb85",
   "metadata": {},
   "source": [
    "## STEP 5: DATA PREPROCESSING"
   ]
  },
  {
   "cell_type": "markdown",
   "id": "a54e1bb7",
   "metadata": {},
   "source": [
    "### OVERVIEW OBJECTIVE"
   ]
  },
  {
   "cell_type": "markdown",
   "id": "c213148a",
   "metadata": {},
   "source": [
    "Tranform raw data into ready-ML data\n",
    "1. Split data into X (feature) and y (target)\n",
    "2. Encode categorical data\n",
    "3. Standardize numberic data"
   ]
  },
  {
   "cell_type": "markdown",
   "id": "ef21d6c5",
   "metadata": {},
   "source": [
    "### Why we need to preprocess data before applying ML/DL model?"
   ]
  },
  {
   "cell_type": "markdown",
   "id": "2e911501",
   "metadata": {},
   "source": [
    "Machine Learning algorithms only understand numerical data. Howerver, raw data contains:\n",
    "-  **Text data**: \"Male\", \"Female\", \"Graduate\", \"Not Graduate\"  \n",
    "-  **Mixed scales**: ApplicantIncome (150-81000) vs CoapplicantIncome (0-42000)\n",
    "-  **Different formats**: Need to unify format\n",
    "\n",
    "After preprocessing:\n",
    "-  **All numeric**: Ready-ML data\n",
    "-  **Same scale**: No more range of values problem\n",
    "-  **ML-ready**: Data can be fed into ML model directly"
   ]
  },
  {
   "cell_type": "markdown",
   "id": "4eadf754",
   "metadata": {},
   "source": [
    "**Clean data**"
   ]
  },
  {
   "cell_type": "code",
   "execution_count": 83,
   "id": "ba2a68d1",
   "metadata": {},
   "outputs": [
    {
     "name": "stdout",
     "output_type": "stream",
     "text": [
      "Percentage of NaN values:\n",
      "Column Loan_ID:\n",
      " 0.00%\n",
      "Column Gender:\n",
      " 2.12%\n",
      "Column Married:\n",
      " 0.49%\n",
      "Column Dependents:\n",
      " 2.44%\n",
      "Column Education:\n",
      " 0.00%\n",
      "Column Self_Employed:\n",
      " 5.21%\n",
      "Column ApplicantIncome:\n",
      " 0.00%\n",
      "Column CoapplicantIncome:\n",
      " 0.00%\n",
      "Column LoanAmount:\n",
      " 3.58%\n",
      "Column Loan_Amount_Term:\n",
      " 2.28%\n",
      "Column Credit_History:\n",
      " 8.14%\n",
      "Column Property_Area:\n",
      " 0.00%\n",
      "Column Loan_Status:\n",
      " 0.00%\n"
     ]
    }
   ],
   "source": [
    "# -----------------------------\n",
    "# 1) Exlore the percentage of NaN values in all columns \n",
    "# -----------------------------\n",
    "num_rows = data.shape[0]\n",
    "print(\"Percentage of NaN values:\")\n",
    "\n",
    "for col in data.columns:\n",
    "    percentage = data[col].isna().sum() / num_rows * 100\n",
    "    print(f\"Column {col}:\\n {percentage:.2f}%\")"
   ]
  },
  {
   "cell_type": "markdown",
   "id": "b0e6b651",
   "metadata": {},
   "source": [
    "As the number of missing values is quite small compare to the number of examples, we will try to fill these missing values by there mean (with numerical data) and mode (with categorical data)"
   ]
  },
  {
   "cell_type": "code",
   "execution_count": 84,
   "id": "656f1229",
   "metadata": {},
   "outputs": [
    {
     "name": "stdout",
     "output_type": "stream",
     "text": [
      "=== AFTER HANDLING MISSING VALUES ===\n",
      "<class 'pandas.core.frame.DataFrame'>\n",
      "RangeIndex: 614 entries, 0 to 613\n",
      "Data columns (total 13 columns):\n",
      " #   Column             Non-Null Count  Dtype  \n",
      "---  ------             --------------  -----  \n",
      " 0   Loan_ID            614 non-null    object \n",
      " 1   Gender             614 non-null    object \n",
      " 2   Married            614 non-null    object \n",
      " 3   Dependents         614 non-null    object \n",
      " 4   Education          614 non-null    object \n",
      " 5   Self_Employed      614 non-null    object \n",
      " 6   ApplicantIncome    614 non-null    int64  \n",
      " 7   CoapplicantIncome  614 non-null    float64\n",
      " 8   LoanAmount         614 non-null    float64\n",
      " 9   Loan_Amount_Term   614 non-null    float64\n",
      " 10  Credit_History     614 non-null    float64\n",
      " 11  Property_Area      614 non-null    object \n",
      " 12  Loan_Status        614 non-null    object \n",
      "dtypes: float64(4), int64(1), object(8)\n",
      "memory usage: 62.5+ KB\n"
     ]
    }
   ],
   "source": [
    "# -----------------------------\n",
    "# 2) Handle missing values \n",
    "# -----------------------------\n",
    "# Fill numeric columns with mean\n",
    "num_cols = data.select_dtypes(include=[np.number]).columns            # Select numeric columns\n",
    "for col in num_cols:\n",
    "    data[col] = data[col].fillna(data[col].mean())                    # Fill missing values with median\n",
    "\n",
    "# Categorical → điền mode / Fill categorical columns with mode\n",
    "cat_cols = data.select_dtypes(exclude=[np.number]).columns            # Select object columns\n",
    "for col in cat_cols:\n",
    "    mode_val = data[col].mode().iloc[0]                               # Get most frequent value\n",
    "    data[col] = data[col].fillna(mode_val)                            # Fill missing values with mode\n",
    "\n",
    "print(\"=== AFTER HANDLING MISSING VALUES ===\")\n",
    "data.info()  # Show information of features of data after filling missing values"
   ]
  },
  {
   "cell_type": "code",
   "execution_count": 85,
   "id": "c0ce324e",
   "metadata": {},
   "outputs": [
    {
     "name": "stdout",
     "output_type": "stream",
     "text": [
      "Removed 0 duplicate rows.\n",
      "\n",
      "As we can see, our data has no duplicate values\n",
      "=== FINAL CLEANED DATA ===\n",
      "      Loan_ID  Gender Married  ... Credit_History Property_Area Loan_Status\n",
      "0    LP001002    Male      No  ...            1.0         Urban           Y\n",
      "1    LP001003    Male     Yes  ...            1.0         Rural           N\n",
      "2    LP001005    Male     Yes  ...            1.0         Urban           Y\n",
      "3    LP001006    Male     Yes  ...            1.0         Urban           Y\n",
      "4    LP001008    Male      No  ...            1.0         Urban           Y\n",
      "..        ...     ...     ...  ...            ...           ...         ...\n",
      "609  LP002978  Female      No  ...            1.0         Rural           Y\n",
      "610  LP002979    Male     Yes  ...            1.0         Rural           Y\n",
      "611  LP002983    Male     Yes  ...            1.0         Urban           Y\n",
      "612  LP002984    Male     Yes  ...            1.0         Urban           Y\n",
      "613  LP002990  Female      No  ...            0.0     Semiurban           N\n",
      "\n",
      "[614 rows x 13 columns]\n"
     ]
    }
   ],
   "source": [
    "# -----------------------------\n",
    "# 3) Remove duplicates \n",
    "# -----------------------------\n",
    "before = data.shape[0]               # Rows before removing duplicates\n",
    "data = data.drop_duplicates()        # Remove duplicate rows\n",
    "after = data.shape[0]                # Rows after removing duplicates\n",
    "print(f\"Removed {before - after} duplicate rows.\\n\")\n",
    "\n",
    "# -----------------------------\n",
    "# Final cleaned data\n",
    "# -----------------------------\n",
    "print(\"As we can see, our data has no duplicate values\")\n",
    "print(\"=== FINAL CLEANED DATA ===\")\n",
    "print(data)"
   ]
  },
  {
   "cell_type": "markdown",
   "id": "61827646",
   "metadata": {},
   "source": [
    "### STEP 5.1. Split data into X and y"
   ]
  },
  {
   "cell_type": "markdown",
   "id": "0dd7f6f7",
   "metadata": {},
   "source": [
    "**X:** Features used for prediction\n",
    "\n",
    "**y:** Target to be predicted"
   ]
  },
  {
   "cell_type": "markdown",
   "id": "64fc7ec4",
   "metadata": {},
   "source": [
    "In this section, we will utilized the method '.values', this method converts a DataFrame into a NumPy array as NumPy arrays are faster to process than DataFrame"
   ]
  },
  {
   "cell_type": "code",
   "execution_count": 86,
   "id": "26439ec6",
   "metadata": {},
   "outputs": [
    {
     "name": "stdout",
     "output_type": "stream",
     "text": [
      "=== SPLIT DATA INTO X AND Y ===\n",
      "==================================================\n",
      "=== Feature matrix info ===\n",
      "   Shape: (614, 11)\n",
      "   Data type: object\n",
      "   First 5 rows:\n",
      "   Student 0: ['Male' 'No' '0' 'Graduate' 'No' 5849 0.0 146.41216216216216 360.0 1.0\n",
      " 'Urban']\n",
      "   Student 1: ['Male' 'Yes' '1' 'Graduate' 'No' 4583 1508.0 128.0 360.0 1.0 'Rural']\n",
      "   Student 2: ['Male' 'Yes' '0' 'Graduate' 'Yes' 3000 0.0 66.0 360.0 1.0 'Urban']\n",
      "   Student 3: ['Male' 'Yes' '0' 'Not Graduate' 'No' 2583 2358.0 120.0 360.0 1.0 'Urban']\n",
      "   Student 4: ['Male' 'No' '0' 'Graduate' 'No' 6000 0.0 141.0 360.0 1.0 'Urban']\n",
      "\n",
      "EXPLANATION:\n",
      "   • Each row = Information of a student\n",
      "   • Each column = 1 feature\n",
      "   • Columns 0, 1, 3, 4, 10 contain text → need encoding\n"
     ]
    },
    {
     "data": {
      "text/plain": [
       "array([['Male', 'No', '0', 'Graduate', 'No', 5849, 0.0,\n",
       "        146.41216216216216, 360.0, 1.0, 'Urban'],\n",
       "       ['Male', 'Yes', '1', 'Graduate', 'No', 4583, 1508.0, 128.0, 360.0,\n",
       "        1.0, 'Rural'],\n",
       "       ['Male', 'Yes', '0', 'Graduate', 'Yes', 3000, 0.0, 66.0, 360.0,\n",
       "        1.0, 'Urban'],\n",
       "       ['Male', 'Yes', '0', 'Not Graduate', 'No', 2583, 2358.0, 120.0,\n",
       "        360.0, 1.0, 'Urban'],\n",
       "       ['Male', 'No', '0', 'Graduate', 'No', 6000, 0.0, 141.0, 360.0,\n",
       "        1.0, 'Urban']], dtype=object)"
      ]
     },
     "execution_count": 86,
     "metadata": {},
     "output_type": "execute_result"
    }
   ],
   "source": [
    "# Create feature matrix X\n",
    "print(\"=== SPLIT DATA INTO X AND Y ===\")\n",
    "print(\"=\" * 50)\n",
    "\n",
    "# Select feature columns and convert to NumPy array\n",
    "# Drop 'Loan_ID' as it has no predictive power\n",
    "X = data.drop(columns=['Loan_Status', 'Loan_ID']).values\n",
    "\n",
    "print(\"=== Feature matrix info ===\")\n",
    "print(f\"   Shape: {X.shape}\")\n",
    "print(f\"   Data type: {X.dtype}\")\n",
    "print(f\"   First 5 rows:\")\n",
    "# Display first 5 rows neatly\n",
    "for i in range(5):\n",
    "    print(f\"   Student {i}: {X[i]}\")\n",
    "\n",
    "print(\"\\nEXPLANATION:\")\n",
    "print(\"   • Each row = Information of a student\")\n",
    "print(\"   • Each column = 1 feature\")\n",
    "print(\"   • Columns 0, 1, 3, 4, 10 contain text → need encoding\")\n",
    "\n",
    "# Show directly for comparison\n",
    "X[0:5]"
   ]
  },
  {
   "cell_type": "markdown",
   "id": "1f4de908",
   "metadata": {},
   "source": [
    "### STEP 5.2. Label Encoding"
   ]
  },
  {
   "cell_type": "markdown",
   "id": "ef5a92ee",
   "metadata": {},
   "source": [
    "As ML algorithms cannot understand categorical data, we need a way to encode each text value to a unique integer\n",
    "\n",
    "In this section, we will use LabelEncoder from sklearn library to help to us do this task"
   ]
  },
  {
   "cell_type": "code",
   "execution_count": 87,
   "id": "773e0749",
   "metadata": {},
   "outputs": [
    {
     "name": "stdout",
     "output_type": "stream",
     "text": [
      "=== LABEL ENCODING FOR CATEGORICAL DATA ===\n",
      "============================================================\n",
      "\n",
      "=== RESULT AFTER ENCODING ===\n",
      "   Shape of X: (614, 11)\n",
      "   First 5 rows:\n",
      "   Student 0: [1 0 0 0 0 5849 0.0 146.41216216216216 360.0 1.0 2]\n",
      "   Student 1: [1 1 1 0 0 4583 1508.0 128.0 360.0 1.0 0]\n",
      "   Student 2: [1 1 0 0 1 3000 0.0 66.0 360.0 1.0 2]\n",
      "   Student 3: [1 1 0 1 0 2583 2358.0 120.0 360.0 1.0 2]\n",
      "   Student 4: [1 0 0 0 0 6000 0.0 141.0 360.0 1.0 2]\n",
      "\n",
      "DONE: All text data have been converted to numbers!\n"
     ]
    },
    {
     "data": {
      "text/plain": [
       "array([[1, 0, 0, 0, 0, 5849, 0.0, 146.41216216216216, 360.0, 1.0, 2],\n",
       "       [1, 1, 1, 0, 0, 4583, 1508.0, 128.0, 360.0, 1.0, 0],\n",
       "       [1, 1, 0, 0, 1, 3000, 0.0, 66.0, 360.0, 1.0, 2],\n",
       "       [1, 1, 0, 1, 0, 2583, 2358.0, 120.0, 360.0, 1.0, 2],\n",
       "       [1, 0, 0, 0, 0, 6000, 0.0, 141.0, 360.0, 1.0, 2]], dtype=object)"
      ]
     },
     "execution_count": 87,
     "metadata": {},
     "output_type": "execute_result"
    }
   ],
   "source": [
    "print(\"=== LABEL ENCODING FOR CATEGORICAL DATA ===\")\n",
    "print(\"=\" * 60)\n",
    "\n",
    "X_df = data.drop(columns=['Loan_Status', 'Loan_ID'])\n",
    "df = X_df.select_dtypes(include='object')\n",
    "\n",
    "for col in df.columns:\n",
    "    col_idx = X_df.columns.get_loc(col)\n",
    "    # Initialize LabelEncoder\n",
    "    scaler = preprocessing.LabelEncoder()\n",
    "    # Fit - learn unique values\n",
    "    le_scale = scaler.fit(X[:, col_idx])\n",
    "    # Transform - convert to numbers\n",
    "    X[:, col_idx] = le_scale.transform(X[:, col_idx])\n",
    "\n",
    "# ===== FINAL RESULT =====\n",
    "print(f\"\\n=== RESULT AFTER ENCODING ===\")\n",
    "print(f\"   Shape of X: {X.shape}\")\n",
    "print(f\"   First 5 rows:\")\n",
    "for i in range(5):\n",
    "    print(f\"   Student {i}: {X[i]}\")\n",
    "\n",
    "print(f\"\\nDONE: All text data have been converted to numbers!\")\n",
    "\n",
    "# Show final result\n",
    "X[0:5]\n"
   ]
  },
  {
   "cell_type": "markdown",
   "id": "ddf45aa9",
   "metadata": {},
   "source": [
    "### STEP 5.3. Standardization - Numeric data scaling"
   ]
  },
  {
   "cell_type": "markdown",
   "id": "568c4c51",
   "metadata": {},
   "source": [
    "Problem with different scales:"
   ]
  },
  {
   "cell_type": "markdown",
   "id": "b0628d4b",
   "metadata": {},
   "source": [
    "ML algoriths can bias features with larger values\n",
    "\n",
    "**Solution:** Z-Score Normalization"
   ]
  },
  {
   "cell_type": "markdown",
   "id": "d1cf2728",
   "metadata": {},
   "source": [
    "Standardization converts data into normal distribution:\n",
    "- **Mean (μ) = 0**: Average = 0\n",
    "- **Standard Deviation (σ) = 1**: Standard deviation = 1"
   ]
  },
  {
   "cell_type": "markdown",
   "id": "9f58c099",
   "metadata": {},
   "source": [
    "Benefits of standardization:\n",
    "1. Balance: All features have equal importance\n",
    "2. Speed: Algorithm converges faster\n",
    "3. Accuracy: Better prediction result"
   ]
  },
  {
   "cell_type": "code",
   "execution_count": 88,
   "id": "9dbe6d67",
   "metadata": {},
   "outputs": [
    {
     "name": "stdout",
     "output_type": "stream",
     "text": [
      "=== CHUẨN HÓA DỮ LIỆU SỐ / STANDARDIZATION ===\n",
      "============================================================\n",
      "BEFORE STANDARDIZATION:\n",
      "Some information of feature 'ApplicantIncome'\n",
      "   5 giá trị đầu / First 5 values: [5849 4583 3000 2583 6000]\n",
      "   Giá trị min / Min: 150.00\n",
      "   Giá trị max / Max: 81000.00\n",
      "   Trung bình / Mean: 5403.46\n",
      "   Độ lệch chuẩn / Std: 6104.06\n",
      "\n",
      "CALCULATE PARAMETERS:\n",
      "   μ (mean) = 5403.4593\n",
      "   σ (std)  = 6104.0649\n",
      "\n",
      "APPLY STANDARDIZATION:\n",
      "   Formula: z = (x - 5403.46) / 6104.06\n",
      "\n",
      "CALCULATE PARAMETERS:\n",
      "   μ (mean) = 1621.2458\n",
      "   σ (std)  = 2923.8645\n",
      "\n",
      "APPLY STANDARDIZATION:\n",
      "   Formula: z = (x - 1621.25) / 2923.86\n",
      "\n",
      "CALCULATE PARAMETERS:\n",
      "   μ (mean) = 146.4122\n",
      "   σ (std)  = 83.9690\n",
      "\n",
      "APPLY STANDARDIZATION:\n",
      "   Formula: z = (x - 146.41) / 83.97\n",
      "\n",
      "CALCULATE PARAMETERS:\n",
      "   μ (mean) = 342.0000\n",
      "   σ (std)  = 64.3200\n",
      "\n",
      "APPLY STANDARDIZATION:\n",
      "   Formula: z = (x - 342.00) / 64.32\n",
      "\n",
      "AFTER STANDARDIZATION:\n",
      "Some information of feature 'ApplicantIncome'\n",
      "   First 5 values: [0.0729908228506884 -0.1344119537834513 -0.3937473372051284\n",
      " -0.4620624697931507 0.09772843680942071]\n",
      "   Min: -0.86\n",
      "   Max: 12.38\n",
      "   New mean: -0.000000 ≈ 0\n",
      "   New std: 1.000000 ≈ 1\n",
      "\n",
      "SO SÁNH TRƯỚC VÀ SAU / BEFORE VS AFTER:\n",
      "Index | Before | After\n",
      "---------------------------------------------\n",
      "     0       |        5849.00       |        0.07\n",
      "     1       |        4583.00       |       -0.13\n",
      "     2       |        3000.00       |       -0.39\n",
      "     3       |        2583.00       |       -0.46\n",
      "     4       |        6000.00       |        0.10\n",
      "\n",
      "MA TRẬN X SAU TIỀN XỬ LÝ HOÀN CHỈNH / FINAL X MATRIX AFTER PREPROCESSING:\n"
     ]
    },
    {
     "data": {
      "text/plain": [
       "array([[1, 0, 0, 0, 0, 0.0729908228506884, -0.5544873301529847,\n",
       "        3.3847857674402117e-16, 0.27985054320228187, 1.0, 2],\n",
       "       [1, 1, 1, 0, 0, -0.1344119537834513, -0.03873154846446161,\n",
       "        -0.21927331495275829, 0.27985054320228187, 1.0, 0],\n",
       "       [1, 1, 0, 0, 1, -0.3937473372051284, -0.5544873301529847,\n",
       "        -0.9576409986248733, 0.27985054320228187, 1.0, 2],\n",
       "       [1, 1, 0, 1, 0, -0.4620624697931507, 0.25197960169153616,\n",
       "        -0.31454656445883766, 0.27985054320228187, 1.0, 2],\n",
       "       [1, 0, 0, 0, 0, 0.09772843680942071, -0.5544873301529847,\n",
       "        -0.06445428450537935, 0.27985054320228187, 1.0, 2]], dtype=object)"
      ]
     },
     "execution_count": 88,
     "metadata": {},
     "output_type": "execute_result"
    }
   ],
   "source": [
    "# Standardize some numberic features: 'ApplicantIncome', 'CoapplicantIncome', 'LoanAmount', 'Loan_Amount_Term'\n",
    "print(\"=== CHUẨN HÓA DỮ LIỆU SỐ / STANDARDIZATION ===\")\n",
    "print(\"=\" * 60)\n",
    "\n",
    "# Show data before standardization\n",
    "# As we standardize many features, to keep it short, we only show 'ApplicantIncome' information\n",
    "print(\"BEFORE STANDARDIZATION:\")\n",
    "print(\"Some information of feature 'ApplicantIncome'\")\n",
    "ApplicantIncome_original = X[:, 5].copy()  # Lưu bản gốc để so sánh / Keep original for comparison\n",
    "print(f\"   5 giá trị đầu / First 5 values: {ApplicantIncome_original[0:5]}\")\n",
    "print(f\"   Giá trị min / Min: {ApplicantIncome_original.min():.2f}\")\n",
    "print(f\"   Giá trị max / Max: {ApplicantIncome_original.max():.2f}\")\n",
    "print(f\"   Trung bình / Mean: {ApplicantIncome_original.mean():.2f}\")\n",
    "print(f\"   Độ lệch chuẩn / Std: {ApplicantIncome_original.std():.2f}\")\n",
    "\n",
    "scale_features = ['ApplicantIncome', 'CoapplicantIncome', 'LoanAmount', 'Loan_Amount_Term']\n",
    "for col in scale_features:\n",
    "    # Step 1: Compute mean and std\n",
    "    col_idx = X_df.columns.get_loc(col)\n",
    "    mean = X[:, col_idx].mean()\n",
    "    std = X[:, col_idx].std()\n",
    "\n",
    "    print(f\"\\nCALCULATE PARAMETERS:\")\n",
    "    print(f\"   μ (mean) = {mean:.4f}\")\n",
    "    print(f\"   σ (std)  = {std:.4f}\")\n",
    "\n",
    "    # Step 2: Apply formula z = (x - μ)/σ\n",
    "    print(f\"\\nAPPLY STANDARDIZATION:\")\n",
    "    print(f\"   Formula: z = (x - {mean:.2f}) / {std:.2f}\")\n",
    "\n",
    "    X[:, col_idx] = (X[:, col_idx] - mean) / std\n",
    "\n",
    "# Show data after standardization\n",
    "# As we standardize many features, to keep it short, we only show 'ApplicantIncome' information\n",
    "print(f\"\\nAFTER STANDARDIZATION:\")\n",
    "print(\"Some information of feature 'ApplicantIncome'\")\n",
    "print(f\"   First 5 values: {X[0:5, 5]}\")\n",
    "print(f\"   Min: {X[:, 5].min():.2f}\")\n",
    "print(f\"   Max: {X[:, 5].max():.2f}\")\n",
    "print(f\"   New mean: {X[:, 5].mean():.6f} ≈ 0\")\n",
    "print(f\"   New std: {X[:, 5].std():.6f} ≈ 1\")\n",
    "\n",
    "# Compare before and after\n",
    "print(f\"\\nSO SÁNH TRƯỚC VÀ SAU / BEFORE VS AFTER:\")\n",
    "print(\"Index | Before | After\")\n",
    "print(\"-\" * 45)\n",
    "for i in range(5):\n",
    "    print(f\"     {i}       |       {ApplicantIncome_original[i]:8.2f}       |    {X[i, 5]:8.2f}\")\n",
    "\n",
    "# Show final feature matrix X\n",
    "print(f\"\\nMA TRẬN X SAU TIỀN XỬ LÝ HOÀN CHỈNH / FINAL X MATRIX AFTER PREPROCESSING:\")\n",
    "X[0:5]\n"
   ]
  },
  {
   "cell_type": "markdown",
   "id": "d71b9886",
   "metadata": {},
   "source": [
    "### STEP 5.4. Handling Target Variable"
   ]
  },
  {
   "cell_type": "markdown",
   "id": "c13baf43",
   "metadata": {},
   "source": [
    "**Create vector y from the 'Loan_Status' column**"
   ]
  },
  {
   "cell_type": "code",
   "execution_count": 89,
   "id": "780475ba",
   "metadata": {},
   "outputs": [
    {
     "name": "stdout",
     "output_type": "stream",
     "text": [
      "=== CREATE TARGET VECTOR Y ===\n",
      "========================================\n",
      "TARGET INFORMATION:\n",
      "   Shape: (614,)\n",
      "   Data type: object\n",
      "   First 5 values: ['Y', 'N', 'Y', 'Y', 'Y']\n",
      "\n",
      "CLASS DISTRIBUTION:\n",
      "   Y: 422 (68.7%)\n",
      "   N: 192 (31.3%)\n",
      "\n",
      "COMMENTS:\n",
      "   • There are 2 different loan status\n",
      "   • This is a 2-class classification problem\n"
     ]
    },
    {
     "data": {
      "text/plain": [
       "0    Y\n",
       "1    N\n",
       "2    Y\n",
       "3    Y\n",
       "4    Y\n",
       "Name: Loan_Status, dtype: object"
      ]
     },
     "execution_count": 89,
     "metadata": {},
     "output_type": "execute_result"
    }
   ],
   "source": [
    "# Create target vector y\n",
    "print(\"=== CREATE TARGET VECTOR Y ===\")\n",
    "print(\"=\" * 40)\n",
    "\n",
    "# Take 'Loan_Status' column as target\n",
    "y = data['Loan_Status']\n",
    "\n",
    "print(\"TARGET INFORMATION:\")\n",
    "print(f\"   Shape: {y.shape}\")\n",
    "print(f\"   Data type: {y.dtype}\")\n",
    "print(f\"   First 5 values: {list(y[0:5])}\")\n",
    "\n",
    "print(f\"\\nCLASS DISTRIBUTION:\")\n",
    "class_counts = y.value_counts()\n",
    "for drug, count in class_counts.items():\n",
    "    percentage = (count/len(y)) * 100\n",
    "    print(f\"   {drug}: {count} ({percentage:.1f}%)\")\n",
    "\n",
    "print(f\"\\nCOMMENTS:\")\n",
    "print(f\"   • There are {len(class_counts)} different loan status\")\n",
    "print(f\"   • This is a 2-class classification problem\")\n",
    "\n",
    "# Show values directly\n",
    "y[0:5]\n"
   ]
  },
  {
   "cell_type": "markdown",
   "id": "60180a67",
   "metadata": {},
   "source": [
    "**Encoding the target variable**"
   ]
  },
  {
   "cell_type": "markdown",
   "id": "bd8093c5",
   "metadata": {},
   "source": [
    "Most ML algorithms require target variable as numberic, not text. Therefore, we need to encoding the target variable from text to integer"
   ]
  },
  {
   "cell_type": "code",
   "execution_count": 90,
   "id": "a8e9e1b1",
   "metadata": {},
   "outputs": [
    {
     "name": "stdout",
     "output_type": "stream",
     "text": [
      "=== ENCODING TARGET VARIABLE Y / LABEL ENCODING TARGET Y ===\n",
      "==================================================\n",
      "LABEL ENCODER INFORMATION:\n",
      "   Classes learned: ['N' 'Y']\n",
      "\n",
      "MAPPING TABLE:\n",
      "   N → 0\n",
      "   Y → 1\n",
      "\n",
      "BEFORE ENCODING:\n",
      "   First 5 values: ['Y', 'N', 'Y', 'Y', 'Y']\n",
      "\n",
      "AFTER ENCODING:\n",
      "   First 5 values: [1 0 1 1 1]\n",
      "   Data type: int64\n",
      "   Shape: (614,)\n",
      "\n",
      "COMPLETED: Target y has been converted to numeric!\n",
      "\n",
      "CLASS DISTRIBUTION AFTER ENCODING:\n",
      "   0 (N): 192 (31.3%)\n",
      "   1 (Y): 422 (68.7%)\n"
     ]
    }
   ],
   "source": [
    "# Encoding target variable y\n",
    "print(\"=== ENCODING TARGET VARIABLE Y / LABEL ENCODING TARGET Y ===\")\n",
    "print(\"=\" * 50)\n",
    "\n",
    "# Fit with all status\n",
    "le_status = scaler.fit(y.unique())\n",
    "\n",
    "print(\"LABEL ENCODER INFORMATION:\")\n",
    "print(f\"   Classes learned: {le_status.classes_}\")\n",
    "\n",
    "# Hiển thị mapping / Show mapping\n",
    "print(f\"\\nMAPPING TABLE:\")\n",
    "for i, status in enumerate(le_status.classes_):\n",
    "    print(f\"   {status} → {i}\")\n",
    "\n",
    "# Perform encoding\n",
    "print(f\"\\nBEFORE ENCODING:\")\n",
    "print(f\"   First 5 values: {list(y[0:5])}\")\n",
    "\n",
    "y_encoded = le_status.transform(y)\n",
    "\n",
    "print(f\"\\nAFTER ENCODING:\")\n",
    "print(f\"   First 5 values: {y_encoded[0:5]}\")\n",
    "print(f\"   Data type: {y_encoded.dtype}\")\n",
    "print(f\"   Shape: {y_encoded.shape}\")\n",
    "\n",
    "# Update y\n",
    "y = y_encoded\n",
    "\n",
    "print(f\"\\nCOMPLETED: Target y has been converted to numeric!\")\n",
    "\n",
    "# Check distribution after encoding\n",
    "print(f\"\\nCLASS DISTRIBUTION AFTER ENCODING:\")\n",
    "unique, counts = np.unique(y, return_counts=True)\n",
    "for val, count in zip(unique, counts):\n",
    "    status_name = le_status.classes_[val]\n",
    "    percentage = (count/len(y)) * 100\n",
    "    print(f\"   {val} ({status_name}): {count} ({percentage:.1f}%)\")\n"
   ]
  },
  {
   "cell_type": "code",
   "execution_count": 91,
   "id": "d04a17d8",
   "metadata": {},
   "outputs": [
    {
     "name": "stdout",
     "output_type": "stream",
     "text": [
      "=== FINAL DATA AFTER PREPROCESSING ===\n",
      "==================================================\n",
      "Feature matrix X:\n",
      "   Shape: (614, 11)\n",
      "   First 5 rows:\n",
      "     Student 0: [1 0 0 0 0 0.0729908228506884 -0.5544873301529847 3.3847857674402117e-16\n",
      " 0.27985054320228187 1.0 2]\n",
      "     Student 1: [1 1 1 0 0 -0.1344119537834513 -0.03873154846446161 -0.21927331495275829\n",
      " 0.27985054320228187 1.0 0]\n",
      "     Student 2: [1 1 0 0 1 -0.3937473372051284 -0.5544873301529847 -0.9576409986248733\n",
      " 0.27985054320228187 1.0 2]\n",
      "     Student 3: [1 1 0 1 0 -0.4620624697931507 0.25197960169153616 -0.31454656445883766\n",
      " 0.27985054320228187 1.0 2]\n",
      "     Student 4: [1 0 0 0 0 0.09772843680942071 -0.5544873301529847 -0.06445428450537935\n",
      " 0.27985054320228187 1.0 2]\n",
      "\n",
      "Vector y (Target) / Target vector y:\n",
      "   Shape: (614,)\n",
      "   First 5 values: [1 0 1 1 1]\n",
      "\n",
      "DATA IS ML-READY!\n",
      "    All values are numeric\n",
      "    Data has been standardized\n",
      "    No missing values remaining\n",
      "    Format is ready for ML algorithms\n"
     ]
    },
    {
     "data": {
      "text/plain": [
       "array([1, 0, 1, 1, 1])"
      ]
     },
     "execution_count": 91,
     "metadata": {},
     "output_type": "execute_result"
    }
   ],
   "source": [
    "# Show final results\n",
    "print(\"=== FINAL DATA AFTER PREPROCESSING ===\")\n",
    "print(\"=\" * 50)\n",
    "\n",
    "print(\"Feature matrix X:\")\n",
    "print(f\"   Shape: {X.shape}\")\n",
    "print(f\"   First 5 rows:\")\n",
    "for i in range(5):\n",
    "    print(f\"     Student {i}: {X[i]}\")\n",
    "\n",
    "print(f\"\\nVector y (Target) / Target vector y:\")\n",
    "print(f\"   Shape: {y.shape}\")\n",
    "print(f\"   First 5 values: {y[0:5]}\")\n",
    "\n",
    "print(f\"\\nDATA IS ML-READY!\")\n",
    "print(f\"    All values are numeric\")\n",
    "print(f\"    Data has been standardized\")\n",
    "print(f\"    No missing values remaining\")\n",
    "print(f\"    Format is ready for ML algorithms\")\n",
    "\n",
    "# Display y directly\n",
    "y[0:5]\n"
   ]
  },
  {
   "cell_type": "markdown",
   "id": "54b9523e",
   "metadata": {},
   "source": []
  }
 ],
 "metadata": {
  "kernelspec": {
   "display_name": "practice_DS",
   "language": "python",
   "name": "python3"
  },
  "language_info": {
   "codemirror_mode": {
    "name": "ipython",
    "version": 3
   },
   "file_extension": ".py",
   "mimetype": "text/x-python",
   "name": "python",
   "nbconvert_exporter": "python",
   "pygments_lexer": "ipython3",
   "version": "3.13.7"
  }
 },
 "nbformat": 4,
 "nbformat_minor": 5
}
