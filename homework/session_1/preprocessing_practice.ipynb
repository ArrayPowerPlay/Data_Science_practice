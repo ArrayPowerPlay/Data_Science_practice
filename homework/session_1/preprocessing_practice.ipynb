{
 "cells": [
  {
   "cell_type": "markdown",
   "id": "f5b7b642",
   "metadata": {},
   "source": [
    "# THỰC HÀNH: XỬ LÝ DỮ LIỆU ĐỂ DỰ ĐOÁN VẤN ĐỀ VỀ TÌNH TRẠNG KHOẢN VAY #"
   ]
  },
  {
   "cell_type": "markdown",
   "id": "db82b0b6",
   "metadata": {},
   "source": [
    "## MỤC TIÊU BÀI LÀM ##"
   ]
  },
  {
   "cell_type": "markdown",
   "id": "ecdb9de1",
   "metadata": {},
   "source": [
    "### Hoàn thành tiền xử lý dữ liệu cho tập dữ liệu về tình trạng khoản vay của các sinh viên"
   ]
  },
  {
   "cell_type": "markdown",
   "id": "5bd9c0bf",
   "metadata": {},
   "source": [
    "## BƯỚC 1: IMPORT CÁC THƯ VIỆN CẦN THIẾT ##"
   ]
  },
  {
   "cell_type": "code",
   "execution_count": 31,
   "id": "64d623de",
   "metadata": {},
   "outputs": [],
   "source": [
    "import numpy as np\n",
    "import pandas as pd\n",
    "from sklearn import preprocessing"
   ]
  },
  {
   "cell_type": "markdown",
   "id": "2f082cd3",
   "metadata": {},
   "source": [
    "## BƯỚC 2: GIỚI THIỆU VỀ TẬP DỮ LIỆU"
   ]
  },
  {
   "cell_type": "markdown",
   "id": "dbf224ff",
   "metadata": {},
   "source": [
    "### VẤN ĐỀ THỰC TẾ: Dự đoán tình trạng khoản vay"
   ]
  },
  {
   "cell_type": "markdown",
   "id": "ead53590",
   "metadata": {},
   "source": [
    "### Mô tả bài toán"
   ]
  },
  {
   "cell_type": "markdown",
   "id": "b983e275",
   "metadata": {},
   "source": [
    "Dựa trên thông tin từ sinh viên như giới tính, trình độ học vấn, số tiền vay để dự đoán tình trạng vay của sinh viên"
   ]
  },
  {
   "cell_type": "markdown",
   "id": "f82eecf7",
   "metadata": {},
   "source": [
    "### Mục tiêu"
   ]
  },
  {
   "cell_type": "markdown",
   "id": "498a8614",
   "metadata": {},
   "source": [
    "Xây dựng mô hình Học máy để dự đoán tình trạng vay vốn của sinh viên"
   ]
  },
  {
   "cell_type": "markdown",
   "id": "5e8170f9",
   "metadata": {},
   "source": [
    "## BƯỚC 3: TẢI VÀ ĐỌC DỮ LIỆU"
   ]
  },
  {
   "cell_type": "markdown",
   "id": "9d3d2f18",
   "metadata": {},
   "source": [
    "### BƯỚC 3.1. Tải dữ liệu"
   ]
  },
  {
   "cell_type": "code",
   "execution_count": 32,
   "id": "a39545e4",
   "metadata": {},
   "outputs": [
    {
     "data": {
      "text/html": [
       "<div>\n",
       "<style scoped>\n",
       "    .dataframe tbody tr th:only-of-type {\n",
       "        vertical-align: middle;\n",
       "    }\n",
       "\n",
       "    .dataframe tbody tr th {\n",
       "        vertical-align: top;\n",
       "    }\n",
       "\n",
       "    .dataframe thead th {\n",
       "        text-align: right;\n",
       "    }\n",
       "</style>\n",
       "<table border=\"1\" class=\"dataframe\">\n",
       "  <thead>\n",
       "    <tr style=\"text-align: right;\">\n",
       "      <th></th>\n",
       "      <th>Loan_ID</th>\n",
       "      <th>Gender</th>\n",
       "      <th>Married</th>\n",
       "      <th>Dependents</th>\n",
       "      <th>Education</th>\n",
       "      <th>Self_Employed</th>\n",
       "      <th>ApplicantIncome</th>\n",
       "      <th>CoapplicantIncome</th>\n",
       "      <th>LoanAmount</th>\n",
       "      <th>Loan_Amount_Term</th>\n",
       "      <th>Credit_History</th>\n",
       "      <th>Property_Area</th>\n",
       "      <th>Loan_Status</th>\n",
       "    </tr>\n",
       "  </thead>\n",
       "  <tbody>\n",
       "    <tr>\n",
       "      <th>0</th>\n",
       "      <td>LP001002</td>\n",
       "      <td>Male</td>\n",
       "      <td>No</td>\n",
       "      <td>0</td>\n",
       "      <td>Graduate</td>\n",
       "      <td>No</td>\n",
       "      <td>5849</td>\n",
       "      <td>0.0</td>\n",
       "      <td>NaN</td>\n",
       "      <td>360.0</td>\n",
       "      <td>1.0</td>\n",
       "      <td>Urban</td>\n",
       "      <td>Y</td>\n",
       "    </tr>\n",
       "    <tr>\n",
       "      <th>1</th>\n",
       "      <td>LP001003</td>\n",
       "      <td>Male</td>\n",
       "      <td>Yes</td>\n",
       "      <td>1</td>\n",
       "      <td>Graduate</td>\n",
       "      <td>No</td>\n",
       "      <td>4583</td>\n",
       "      <td>1508.0</td>\n",
       "      <td>128.0</td>\n",
       "      <td>360.0</td>\n",
       "      <td>1.0</td>\n",
       "      <td>Rural</td>\n",
       "      <td>N</td>\n",
       "    </tr>\n",
       "    <tr>\n",
       "      <th>2</th>\n",
       "      <td>LP001005</td>\n",
       "      <td>Male</td>\n",
       "      <td>Yes</td>\n",
       "      <td>0</td>\n",
       "      <td>Graduate</td>\n",
       "      <td>Yes</td>\n",
       "      <td>3000</td>\n",
       "      <td>0.0</td>\n",
       "      <td>66.0</td>\n",
       "      <td>360.0</td>\n",
       "      <td>1.0</td>\n",
       "      <td>Urban</td>\n",
       "      <td>Y</td>\n",
       "    </tr>\n",
       "    <tr>\n",
       "      <th>3</th>\n",
       "      <td>LP001006</td>\n",
       "      <td>Male</td>\n",
       "      <td>Yes</td>\n",
       "      <td>0</td>\n",
       "      <td>Not Graduate</td>\n",
       "      <td>No</td>\n",
       "      <td>2583</td>\n",
       "      <td>2358.0</td>\n",
       "      <td>120.0</td>\n",
       "      <td>360.0</td>\n",
       "      <td>1.0</td>\n",
       "      <td>Urban</td>\n",
       "      <td>Y</td>\n",
       "    </tr>\n",
       "    <tr>\n",
       "      <th>4</th>\n",
       "      <td>LP001008</td>\n",
       "      <td>Male</td>\n",
       "      <td>No</td>\n",
       "      <td>0</td>\n",
       "      <td>Graduate</td>\n",
       "      <td>No</td>\n",
       "      <td>6000</td>\n",
       "      <td>0.0</td>\n",
       "      <td>141.0</td>\n",
       "      <td>360.0</td>\n",
       "      <td>1.0</td>\n",
       "      <td>Urban</td>\n",
       "      <td>Y</td>\n",
       "    </tr>\n",
       "  </tbody>\n",
       "</table>\n",
       "</div>"
      ],
      "text/plain": [
       "    Loan_ID Gender Married Dependents     Education Self_Employed  \\\n",
       "0  LP001002   Male      No          0      Graduate            No   \n",
       "1  LP001003   Male     Yes          1      Graduate            No   \n",
       "2  LP001005   Male     Yes          0      Graduate           Yes   \n",
       "3  LP001006   Male     Yes          0  Not Graduate            No   \n",
       "4  LP001008   Male      No          0      Graduate            No   \n",
       "\n",
       "   ApplicantIncome  CoapplicantIncome  LoanAmount  Loan_Amount_Term  \\\n",
       "0             5849                0.0         NaN             360.0   \n",
       "1             4583             1508.0       128.0             360.0   \n",
       "2             3000                0.0        66.0             360.0   \n",
       "3             2583             2358.0       120.0             360.0   \n",
       "4             6000                0.0       141.0             360.0   \n",
       "\n",
       "   Credit_History Property_Area Loan_Status  \n",
       "0             1.0         Urban           Y  \n",
       "1             1.0         Rural           N  \n",
       "2             1.0         Urban           Y  \n",
       "3             1.0         Urban           Y  \n",
       "4             1.0         Urban           Y  "
      ]
     },
     "execution_count": 32,
     "metadata": {},
     "output_type": "execute_result"
    }
   ],
   "source": [
    "data = pd.read_csv('train_u6lujuX_CVtuZ9i.csv')\n",
    "# In ra 5 dòng đầu tiên của dữ liệu\n",
    "data.head()"
   ]
  },
  {
   "cell_type": "markdown",
   "id": "518ea8cc",
   "metadata": {},
   "source": [
    "### BƯỚC 3.2. Kiểm tra các kích thước của dữ liệu"
   ]
  },
  {
   "cell_type": "code",
   "execution_count": 33,
   "id": "a065b5ab",
   "metadata": {},
   "outputs": [
    {
     "name": "stdout",
     "output_type": "stream",
     "text": [
      "Thông tin chung của dữ liệu:\n",
      "--------------------------------------------------\n",
      "Số dòng dữ liệu: 614\n",
      "Số thuộc tính: 13\n",
      "Số ô dữ liệu: 7982\n",
      "Số chiều dữ liệu: (614, 13)\n"
     ]
    }
   ],
   "source": [
    "print(\"Thông tin chung của dữ liệu:\")\n",
    "print('-' * 50)\n",
    "print(f\"Số dòng dữ liệu: {data.shape[0]}\")\n",
    "print(f\"Số thuộc tính: {data.shape[1]}\")\n",
    "print(f\"Số ô dữ liệu: {data.shape[0] * data.shape[1]}\")\n",
    "print(f\"Số chiều dữ liệu: {data.shape}\")"
   ]
  },
  {
   "cell_type": "markdown",
   "id": "b7fd7efa",
   "metadata": {},
   "source": [
    "## BƯỚC 4: KHAI PHÁ DỮ LIỆU"
   ]
  },
  {
   "cell_type": "markdown",
   "id": "49ca9fd6",
   "metadata": {},
   "source": [
    "### BƯỚC 4.1. Tổng quan về dữ liệu"
   ]
  },
  {
   "cell_type": "code",
   "execution_count": 34,
   "id": "116382d7",
   "metadata": {},
   "outputs": [
    {
     "name": "stdout",
     "output_type": "stream",
     "text": [
      "THÔNG TIN DỮ LIỆU CHI TIẾT:\n",
      "==================================================\n",
      "<class 'pandas.core.frame.DataFrame'>\n",
      "RangeIndex: 614 entries, 0 to 613\n",
      "Data columns (total 13 columns):\n",
      " #   Column             Non-Null Count  Dtype  \n",
      "---  ------             --------------  -----  \n",
      " 0   Loan_ID            614 non-null    object \n",
      " 1   Gender             601 non-null    object \n",
      " 2   Married            611 non-null    object \n",
      " 3   Dependents         599 non-null    object \n",
      " 4   Education          614 non-null    object \n",
      " 5   Self_Employed      582 non-null    object \n",
      " 6   ApplicantIncome    614 non-null    int64  \n",
      " 7   CoapplicantIncome  614 non-null    float64\n",
      " 8   LoanAmount         592 non-null    float64\n",
      " 9   Loan_Amount_Term   600 non-null    float64\n",
      " 10  Credit_History     564 non-null    float64\n",
      " 11  Property_Area      614 non-null    object \n",
      " 12  Loan_Status        614 non-null    object \n",
      "dtypes: float64(4), int64(1), object(8)\n",
      "memory usage: 62.5+ KB\n",
      "\n",
      "GIẢI THÍCH:\n",
      "• Non-Null Count: Số giá trị không bị thiếu\n",
      "• Dtype: Kiểu dữ liệu (object = text, int64 = integer, float64 = float)\n",
      "• Memory usage: Bộ nhớ dùng bởi DataFrame\n"
     ]
    }
   ],
   "source": [
    "# Tổng quan dữ liệu \n",
    "print(\"THÔNG TIN DỮ LIỆU CHI TIẾT:\")\n",
    "print(\"=\" * 50)\n",
    "\n",
    "# Đưa ra thông tin về DataFrame\n",
    "data.info()\n",
    "\n",
    "# Giải thích kết quả\n",
    "print(\"\\nGIẢI THÍCH:\")\n",
    "print(\"• Non-Null Count: Số giá trị không bị thiếu\")\n",
    "print(\"• Dtype: Kiểu dữ liệu (object = text, int64 = integer, float64 = float)\")\n",
    "print(\"• Memory usage: Bộ nhớ dùng bởi DataFrame\")\n"
   ]
  },
  {
   "cell_type": "markdown",
   "id": "61ddfbed",
   "metadata": {},
   "source": [
    "### BƯỚC 4.2. Thống kê chi tiết cho dữ liệu số"
   ]
  },
  {
   "cell_type": "code",
   "execution_count": 35,
   "id": "949e62ad",
   "metadata": {},
   "outputs": [
    {
     "name": "stdout",
     "output_type": "stream",
     "text": [
      "THỐNG KÊ CHI TIẾT CỦA CÁC CỘT DỮ LIỆU SỐ\n",
      "==================================================\n",
      "       ApplicantIncome  CoapplicantIncome  LoanAmount  Loan_Amount_Term  \\\n",
      "count       614.000000         614.000000  592.000000         600.00000   \n",
      "mean       5403.459283        1621.245798  146.412162         342.00000   \n",
      "std        6109.041673        2926.248369   85.587325          65.12041   \n",
      "min         150.000000           0.000000    9.000000          12.00000   \n",
      "25%        2877.500000           0.000000  100.000000         360.00000   \n",
      "50%        3812.500000        1188.500000  128.000000         360.00000   \n",
      "75%        5795.000000        2297.250000  168.000000         360.00000   \n",
      "max       81000.000000       41667.000000  700.000000         480.00000   \n",
      "\n",
      "       Credit_History  \n",
      "count      564.000000  \n",
      "mean         0.842199  \n",
      "std          0.364878  \n",
      "min          0.000000  \n",
      "25%          1.000000  \n",
      "50%          1.000000  \n",
      "75%          1.000000  \n",
      "max          1.000000  \n",
      "\n",
      "Quan sát một số đặc trưng kiểu số:\n",
      "• ApplicantIncome: phạm vi từ 150 đến 81000, trung bình ~5400, phương sai cao ~6100\n",
      "• CoapplicantIncome: phạm vi từ 0 đến ~42000, trung bình ~1600\n"
     ]
    }
   ],
   "source": [
    "# Thống kê chi tiết của các cột dữ liệu số \n",
    "print(\"THỐNG KÊ CHI TIẾT CỦA CÁC CỘT DỮ LIỆU SỐ\")\n",
    "print(\"=\" * 50)\n",
    "\n",
    "# Tính toán thống kê mô tả\n",
    "numeric_stats = data.describe()\n",
    "print(numeric_stats)\n",
    "\n",
    "# Quan sát\n",
    "print(\"\\nQuan sát một số đặc trưng kiểu số:\")\n",
    "print(\"• ApplicantIncome: phạm vi từ 150 đến 81000, trung bình ~5400, phương sai cao ~6100\")\n",
    "print(\"• CoapplicantIncome: phạm vi từ 0 đến ~42000, trung bình ~1600\")"
   ]
  },
  {
   "cell_type": "markdown",
   "id": "761da909",
   "metadata": {},
   "source": [
    "### BƯỚC 4.3. Khám phá dữ liệu phân loại"
   ]
  },
  {
   "cell_type": "code",
   "execution_count": 36,
   "id": "e1257935",
   "metadata": {},
   "outputs": [
    {
     "name": "stdout",
     "output_type": "stream",
     "text": [
      "PHÂN TÍCH DỮ LIỆU PHÂN LOẠI\n",
      "==================================================\n",
      "\n",
      "Cột 'Loan_ID':\n",
      "  Giá trị phân biệt: ['LP001002' 'LP001003' 'LP001005' 'LP001006' 'LP001008']\n",
      "  Số giá trị phân biệt: 614\n",
      "  PHÂN PHỐI:\n",
      "    • LP001002: 1 (0.2%)\n",
      "    • LP001003: 1 (0.2%)\n",
      "    • LP001005: 1 (0.2%)\n",
      "    • LP001006: 1 (0.2%)\n",
      "    • LP001008: 1 (0.2%)\n",
      "\n",
      "Cột 'Gender':\n",
      "  Giá trị phân biệt: ['Male' 'Female' nan]\n",
      "  Số giá trị phân biệt: 3\n",
      "  PHÂN PHỐI:\n",
      "    • Male: 489 (79.6%)\n",
      "    • Female: 112 (18.2%)\n",
      "\n",
      "Cột 'Married':\n",
      "  Giá trị phân biệt: ['No' 'Yes' nan]\n",
      "  Số giá trị phân biệt: 3\n",
      "  PHÂN PHỐI:\n",
      "    • Yes: 398 (64.8%)\n",
      "    • No: 213 (34.7%)\n",
      "\n",
      "Cột 'Dependents':\n",
      "  Giá trị phân biệt: ['0' '1' '2' '3+' nan]\n",
      "  Số giá trị phân biệt: 5\n",
      "  PHÂN PHỐI:\n",
      "    • 0: 345 (56.2%)\n",
      "    • 1: 102 (16.6%)\n",
      "    • 2: 101 (16.4%)\n",
      "    • 3+: 51 (8.3%)\n",
      "\n",
      "Cột 'Education':\n",
      "  Giá trị phân biệt: ['Graduate' 'Not Graduate']\n",
      "  Số giá trị phân biệt: 2\n",
      "  PHÂN PHỐI:\n",
      "    • Graduate: 480 (78.2%)\n",
      "    • Not Graduate: 134 (21.8%)\n",
      "\n",
      "Cột 'Self_Employed':\n",
      "  Giá trị phân biệt: ['No' 'Yes' nan]\n",
      "  Số giá trị phân biệt: 3\n",
      "  PHÂN PHỐI:\n",
      "    • No: 500 (81.4%)\n",
      "    • Yes: 82 (13.4%)\n",
      "\n",
      "Cột 'Property_Area':\n",
      "  Giá trị phân biệt: ['Urban' 'Rural' 'Semiurban']\n",
      "  Số giá trị phân biệt: 3\n",
      "  PHÂN PHỐI:\n",
      "    • Semiurban: 233 (37.9%)\n",
      "    • Urban: 202 (32.9%)\n",
      "    • Rural: 179 (29.2%)\n",
      "\n",
      "Cột 'Loan_Status':\n",
      "  Giá trị phân biệt: ['Y' 'N']\n",
      "  Số giá trị phân biệt: 2\n",
      "  PHÂN PHỐI:\n",
      "    • Y: 422 (68.7%)\n",
      "    • N: 192 (31.3%)\n",
      "\n",
      "CÁC QUAN SÁT QUAN TRỌNG:\n",
      "• Tất cả dữ liệu phân loại cần được chuyển về dạng số\n",
      "• Đầu ra dự đoán: Y (yes) hoặc N (no)\n"
     ]
    }
   ],
   "source": [
    "# Khám phá dữ liệu phân loại\n",
    "print(\"PHÂN TÍCH DỮ LIỆU PHÂN LOẠI\")\n",
    "print(\"=\" * 50)\n",
    "\n",
    "categorical_columns = data.select_dtypes(include='object').columns\n",
    "\n",
    "for col in categorical_columns:\n",
    "    print(f\"\\nCột '{col}':\")\n",
    "\n",
    "    # Các giá trị phân biệt\n",
    "    unique_values = data[col].unique()\n",
    "    # Đưa ra 5 giá trị phân biệt đầu tiên\n",
    "    print(f\"  Giá trị phân biệt: {unique_values[:5]}\")\n",
    "    print(f\"  Số giá trị phân biệt: {len(unique_values)}\")\n",
    "\n",
    "    # Số lượng giá trị và phân phối của nó\n",
    "    print(\"  PHÂN PHỐI:\")\n",
    "    value_counts = data[col].value_counts()\n",
    "    # In ra 5 giá trị phân biệt đầu tiên và phân phối của nó\n",
    "    i = 0 \n",
    "    for value, count in value_counts.items():\n",
    "        i += 1\n",
    "        percentage = (count / len(data)) * 100\n",
    "        print(f\"    • {value}: {count} ({percentage:.1f}%)\")\n",
    "        if i == 5: break\n",
    "\n",
    "print(\"\\nCÁC QUAN SÁT QUAN TRỌNG:\")\n",
    "print(\"• Tất cả dữ liệu phân loại cần được chuyển về dạng số\")\n",
    "print(\"• Đầu ra dự đoán: Y (yes) hoặc N (no)\")"
   ]
  },
  {
   "cell_type": "markdown",
   "id": "b286eb85",
   "metadata": {},
   "source": [
    "## BƯỚC 5: TIỀN XỬ LÝ DỮ LIỆU"
   ]
  },
  {
   "cell_type": "markdown",
   "id": "a54e1bb7",
   "metadata": {},
   "source": [
    "### MỤC TIÊU TỔNG QUAN"
   ]
  },
  {
   "cell_type": "markdown",
   "id": "c213148a",
   "metadata": {},
   "source": [
    "Chuyển đổi dữ liệu thô thành dữ liệu sẵn sàng cho các thuật toán ML\n",
    "1. Phân tách dữ liệu thành X (đặc trưng) và y (mục tiêu)\n",
    "2. Mã hóa dữ liệu phân loại \n",
    "3. Chuẩn hóa dữ liệu số"
   ]
  },
  {
   "cell_type": "markdown",
   "id": "ef21d6c5",
   "metadata": {},
   "source": [
    "### Tại sao chúng ta cần xử lý dữ liệu trước khi áp dụng mô hình ML/DL?"
   ]
  },
  {
   "cell_type": "markdown",
   "id": "2e911501",
   "metadata": {},
   "source": [
    "Thuật toán Học máy chỉ hiểu dữ liệu số. Tuy nhiên, dữ liệu thô bao gồm:\n",
    "- **Dữ liệu văn bản**: \"Male\", \"Female\", \"Graduate\", \"Not Graduate\"\n",
    "- **Thang điểm hỗn hợp**: ApplicantIncome (150-81000), CoapplicantIncome (0-42000)\n",
    "- **Định dạng khác nhau**: Cần thống nhất định dạng\n",
    "\n",
    "Sau khi xử lý trước:\n",
    "- **Tất cả dữ liệu số**: Dữ liệu ML đã sẵn sàng\n",
    "- **Cùng thang điểm**: Không còn vấn đề về phạm vi giá trị\n",
    "- **Sẵn sàng ML**: Dữ liệu có thể được đưa trực tiếp vào mô hình ML"
   ]
  },
  {
   "cell_type": "markdown",
   "id": "4eadf754",
   "metadata": {},
   "source": [
    "**Làm sạch dữ liệu**"
   ]
  },
  {
   "cell_type": "code",
   "execution_count": 37,
   "id": "ba2a68d1",
   "metadata": {},
   "outputs": [
    {
     "name": "stdout",
     "output_type": "stream",
     "text": [
      "Phần trăm giá trị NaN:\n",
      "Cột Loan_ID:\n",
      " 0.00%\n",
      "Cột Gender:\n",
      " 2.12%\n",
      "Cột Married:\n",
      " 0.49%\n",
      "Cột Dependents:\n",
      " 2.44%\n",
      "Cột Education:\n",
      " 0.00%\n",
      "Cột Self_Employed:\n",
      " 5.21%\n",
      "Cột ApplicantIncome:\n",
      " 0.00%\n",
      "Cột CoapplicantIncome:\n",
      " 0.00%\n",
      "Cột LoanAmount:\n",
      " 3.58%\n",
      "Cột Loan_Amount_Term:\n",
      " 2.28%\n",
      "Cột Credit_History:\n",
      " 8.14%\n",
      "Cột Property_Area:\n",
      " 0.00%\n",
      "Cột Loan_Status:\n",
      " 0.00%\n"
     ]
    }
   ],
   "source": [
    "# -----------------------------\n",
    "# 1) Khám phá phần trăm giá trị NaN trong tất cả các cột\n",
    "# -----------------------------\n",
    "num_rows = data.shape[0]\n",
    "print(\"Phần trăm giá trị NaN:\")\n",
    "\n",
    "for col in data.columns:\n",
    "    percentage = data[col].isna().sum() / num_rows * 100\n",
    "    print(f\"Cột {col}:\\n {percentage:.2f}%\")"
   ]
  },
  {
   "cell_type": "markdown",
   "id": "b0e6b651",
   "metadata": {},
   "source": [
    "Vì số lượng giá trị bị thiếu khá nhỏ so với số lượng hàng, chúng ta sẽ điền vào các giá trị bị thiếu này theo mean (với dữ liệu số) và mode (với dữ liệu phân loại)"
   ]
  },
  {
   "cell_type": "code",
   "execution_count": 38,
   "id": "656f1229",
   "metadata": {},
   "outputs": [
    {
     "name": "stdout",
     "output_type": "stream",
     "text": [
      "=== SAU KHI XỬ LÝ DỮ LIỆU THIẾU ===\n",
      "<class 'pandas.core.frame.DataFrame'>\n",
      "RangeIndex: 614 entries, 0 to 613\n",
      "Data columns (total 13 columns):\n",
      " #   Column             Non-Null Count  Dtype  \n",
      "---  ------             --------------  -----  \n",
      " 0   Loan_ID            614 non-null    object \n",
      " 1   Gender             614 non-null    object \n",
      " 2   Married            614 non-null    object \n",
      " 3   Dependents         614 non-null    object \n",
      " 4   Education          614 non-null    object \n",
      " 5   Self_Employed      614 non-null    object \n",
      " 6   ApplicantIncome    614 non-null    int64  \n",
      " 7   CoapplicantIncome  614 non-null    float64\n",
      " 8   LoanAmount         614 non-null    float64\n",
      " 9   Loan_Amount_Term   614 non-null    float64\n",
      " 10  Credit_History     614 non-null    float64\n",
      " 11  Property_Area      614 non-null    object \n",
      " 12  Loan_Status        614 non-null    object \n",
      "dtypes: float64(4), int64(1), object(8)\n",
      "memory usage: 62.5+ KB\n"
     ]
    }
   ],
   "source": [
    "# -----------------------------\n",
    "# 2) Xử lý các giá trị bị thiếu\n",
    "# -----------------------------\n",
    "# Điền các giá trị dạng số với mean\n",
    "num_cols = data.select_dtypes(include=[np.number]).columns            # Chọn các cột dạng số\n",
    "for col in num_cols:\n",
    "    data[col] = data[col].fillna(data[col].mean())                   \n",
    "\n",
    "# Điền các giá trị phân loại với mode\n",
    "cat_cols = data.select_dtypes(exclude=[np.number]).columns            # Chọn các cột dạng phân loại\n",
    "for col in cat_cols:\n",
    "    mode_val = data[col].mode().iloc[0]                               # Lấy giá trị có tần suất xuất hiện cao nhất\n",
    "    data[col] = data[col].fillna(mode_val)                            \n",
    "\n",
    "print(\"=== SAU KHI XỬ LÝ DỮ LIỆU THIẾU ===\")\n",
    "data.info()  # Hiển thị thông tin về các đặc trưng của dữ liệu sau khi điền các giá trị còn thiếu"
   ]
  },
  {
   "cell_type": "code",
   "execution_count": 39,
   "id": "c0ce324e",
   "metadata": {},
   "outputs": [
    {
     "name": "stdout",
     "output_type": "stream",
     "text": [
      "Đã loại bỏ 0 hàng trùng lặp.\n",
      "\n",
      "Như ta có thể thấy, dữ liệu không có hàng nào trùng lặp\n",
      "=== DỮ LIỆU SAU KHI LÀM SẠCH ===\n",
      "      Loan_ID  Gender Married Dependents     Education Self_Employed  \\\n",
      "0    LP001002    Male      No          0      Graduate            No   \n",
      "1    LP001003    Male     Yes          1      Graduate            No   \n",
      "2    LP001005    Male     Yes          0      Graduate           Yes   \n",
      "3    LP001006    Male     Yes          0  Not Graduate            No   \n",
      "4    LP001008    Male      No          0      Graduate            No   \n",
      "..        ...     ...     ...        ...           ...           ...   \n",
      "609  LP002978  Female      No          0      Graduate            No   \n",
      "610  LP002979    Male     Yes         3+      Graduate            No   \n",
      "611  LP002983    Male     Yes          1      Graduate            No   \n",
      "612  LP002984    Male     Yes          2      Graduate            No   \n",
      "613  LP002990  Female      No          0      Graduate           Yes   \n",
      "\n",
      "     ApplicantIncome  CoapplicantIncome  LoanAmount  Loan_Amount_Term  \\\n",
      "0               5849                0.0  146.412162             360.0   \n",
      "1               4583             1508.0  128.000000             360.0   \n",
      "2               3000                0.0   66.000000             360.0   \n",
      "3               2583             2358.0  120.000000             360.0   \n",
      "4               6000                0.0  141.000000             360.0   \n",
      "..               ...                ...         ...               ...   \n",
      "609             2900                0.0   71.000000             360.0   \n",
      "610             4106                0.0   40.000000             180.0   \n",
      "611             8072              240.0  253.000000             360.0   \n",
      "612             7583                0.0  187.000000             360.0   \n",
      "613             4583                0.0  133.000000             360.0   \n",
      "\n",
      "     Credit_History Property_Area Loan_Status  \n",
      "0               1.0         Urban           Y  \n",
      "1               1.0         Rural           N  \n",
      "2               1.0         Urban           Y  \n",
      "3               1.0         Urban           Y  \n",
      "4               1.0         Urban           Y  \n",
      "..              ...           ...         ...  \n",
      "609             1.0         Rural           Y  \n",
      "610             1.0         Rural           Y  \n",
      "611             1.0         Urban           Y  \n",
      "612             1.0         Urban           Y  \n",
      "613             0.0     Semiurban           N  \n",
      "\n",
      "[614 rows x 13 columns]\n"
     ]
    }
   ],
   "source": [
    "# -----------------------------\n",
    "# 3) Loại bỏ các hàng có giá trị trùng lặp\n",
    "# -----------------------------\n",
    "before = data.shape[0]               # Số hàng trước khi loại bỏ trùng lặp\n",
    "data = data.drop_duplicates()        # Loại bỏ các hàng trùng lặp\n",
    "after = data.shape[0]                # Số hàng sau khi loại bỏ trùng lặp\n",
    "print(f\"Đã loại bỏ {before - after} hàng trùng lặp.\\n\")\n",
    "\n",
    "# -----------------------------\n",
    "# Dữ liệu sau khi làm sạch\n",
    "# -----------------------------\n",
    "print(\"Như ta có thể thấy, dữ liệu không có hàng nào trùng lặp\")\n",
    "print(\"=== DỮ LIỆU SAU KHI LÀM SẠCH ===\")\n",
    "print(data)"
   ]
  },
  {
   "cell_type": "markdown",
   "id": "61827646",
   "metadata": {},
   "source": [
    "### BƯỚC 5.1. Chia dữ liệu thành 2 tập: X và y"
   ]
  },
  {
   "cell_type": "markdown",
   "id": "0dd7f6f7",
   "metadata": {},
   "source": [
    "**X:** Các đặc trưng sử dụng cho việc dự đoán\n",
    "\n",
    "**y:** Giá trị mục tiêu cần được dự đoán"
   ]
  },
  {
   "cell_type": "markdown",
   "id": "64fc7ec4",
   "metadata": {},
   "source": [
    "Trong phần này, chúng ta sẽ sử dụng phương thức '.values', phương thức này chuyển đổi một DataFrame thành một mảng NumPy, điều này thích hợp cho bài toán của chúng ta do mảng NumPy xử lý nhanh hơn DataFrame"
   ]
  },
  {
   "cell_type": "code",
   "execution_count": 40,
   "id": "26439ec6",
   "metadata": {},
   "outputs": [
    {
     "name": "stdout",
     "output_type": "stream",
     "text": [
      "=== CHIA DỮ LIỆU THÀNH TẬP X VÀ Y ===\n",
      "==================================================\n",
      "=== Thông tin về ma trận đặc trưng ===\n",
      "   Chiều dữ liệu: (614, 11)\n",
      "   Kiểu dữ liệu: object\n",
      "   5 hàng đầu tiên:\n",
      "   Student 0: ['Male' 'No' '0' 'Graduate' 'No' 5849 0.0 146.41216216216216 360.0 1.0\n",
      " 'Urban']\n",
      "   Student 1: ['Male' 'Yes' '1' 'Graduate' 'No' 4583 1508.0 128.0 360.0 1.0 'Rural']\n",
      "   Student 2: ['Male' 'Yes' '0' 'Graduate' 'Yes' 3000 0.0 66.0 360.0 1.0 'Urban']\n",
      "   Student 3: ['Male' 'Yes' '0' 'Not Graduate' 'No' 2583 2358.0 120.0 360.0 1.0 'Urban']\n",
      "   Student 4: ['Male' 'No' '0' 'Graduate' 'No' 6000 0.0 141.0 360.0 1.0 'Urban']\n",
      "\n",
      "GIẢI THÍCH:\n",
      "   • Mỗi hàng tương ứng với thông tin của 1 sinh viên\n",
      "   • Mỗi cột đặc tả 1 đặc trưng\n",
      "   • Cột 0, 1, 3, 4, 10 bao gồm văn bản → cần được mã hóa\n"
     ]
    },
    {
     "data": {
      "text/plain": [
       "array([['Male', 'No', '0', 'Graduate', 'No', 5849, 0.0,\n",
       "        146.41216216216216, 360.0, 1.0, 'Urban'],\n",
       "       ['Male', 'Yes', '1', 'Graduate', 'No', 4583, 1508.0, 128.0, 360.0,\n",
       "        1.0, 'Rural'],\n",
       "       ['Male', 'Yes', '0', 'Graduate', 'Yes', 3000, 0.0, 66.0, 360.0,\n",
       "        1.0, 'Urban'],\n",
       "       ['Male', 'Yes', '0', 'Not Graduate', 'No', 2583, 2358.0, 120.0,\n",
       "        360.0, 1.0, 'Urban'],\n",
       "       ['Male', 'No', '0', 'Graduate', 'No', 6000, 0.0, 141.0, 360.0,\n",
       "        1.0, 'Urban']], dtype=object)"
      ]
     },
     "execution_count": 40,
     "metadata": {},
     "output_type": "execute_result"
    }
   ],
   "source": [
    "# Tạo ra ma trận thuộc tính X\n",
    "print(\"=== CHIA DỮ LIỆU THÀNH TẬP X VÀ Y ===\")\n",
    "print(\"=\" * 50)\n",
    "\n",
    "# Chọn các cột và chuyển đổi thành mảng NumPy\n",
    "# Bỏ cột 'Loan_ID' vì nó không mang lại khả năng dự đoán cho các thuật toán ML\n",
    "X = data.drop(columns=['Loan_Status', 'Loan_ID']).values\n",
    "\n",
    "print(\"=== Thông tin về ma trận đặc trưng ===\")\n",
    "print(f\"   Chiều dữ liệu: {X.shape}\")\n",
    "print(f\"   Kiểu dữ liệu: {X.dtype}\")\n",
    "print(f\"   5 hàng đầu tiên:\")\n",
    "# In ra 5 hàng đầu tiên\n",
    "for i in range(5):\n",
    "    print(f\"   Student {i}: {X[i]}\")\n",
    "\n",
    "print(\"\\nGIẢI THÍCH:\")\n",
    "print(\"   • Mỗi hàng tương ứng với thông tin của 1 sinh viên\")\n",
    "print(\"   • Mỗi cột đặc tả 1 đặc trưng\")\n",
    "print(\"   • Cột 0, 1, 3, 4, 10 bao gồm văn bản → cần được mã hóa\")\n",
    "\n",
    "# In ra dữ liệu sau khi chuyển đổi sang mảng NumPy\n",
    "X[0:5]"
   ]
  },
  {
   "cell_type": "markdown",
   "id": "1f4de908",
   "metadata": {},
   "source": [
    "### BƯỚC 5.2. Label Encoding"
   ]
  },
  {
   "cell_type": "markdown",
   "id": "ef5a92ee",
   "metadata": {},
   "source": [
    "Vì các thuật toán ML không thể hiểu dữ liệu phân loại, chúng ta cần một cách để mã hóa mỗi giá trị văn bản thành một số nguyên duy nhất.\n",
    "\n",
    "Trong phần này, chúng ta sẽ sử dụng LabelEncoder từ thư viện sklearn để hỗ trợ thực hiện nhiệm vụ này."
   ]
  },
  {
   "cell_type": "code",
   "execution_count": 41,
   "id": "773e0749",
   "metadata": {},
   "outputs": [
    {
     "name": "stdout",
     "output_type": "stream",
     "text": [
      "=== LABEL ENCODING CHO DỮ LIỆU PHÂN LOẠI ===\n",
      "============================================================\n",
      "\n",
      "=== KẾT QUẢ SAU MÃ HÓA ===\n",
      "   Số chiều của X: (614, 11)\n",
      "   In ra 5 dòng đầu tiên:\n",
      "   Sinh viên 0: [1 0 0 0 0 5849 0.0 146.41216216216216 360.0 1.0 2]\n",
      "   Sinh viên 1: [1 1 1 0 0 4583 1508.0 128.0 360.0 1.0 0]\n",
      "   Sinh viên 2: [1 1 0 0 1 3000 0.0 66.0 360.0 1.0 2]\n",
      "   Sinh viên 3: [1 1 0 1 0 2583 2358.0 120.0 360.0 1.0 2]\n",
      "   Sinh viên 4: [1 0 0 0 0 6000 0.0 141.0 360.0 1.0 2]\n",
      "\n",
      "HOÀN THÀNH: Tất cả dữ liệu đã được chuyển về dạng số!\n"
     ]
    },
    {
     "data": {
      "text/plain": [
       "array([[1, 0, 0, 0, 0, 5849, 0.0, 146.41216216216216, 360.0, 1.0, 2],\n",
       "       [1, 1, 1, 0, 0, 4583, 1508.0, 128.0, 360.0, 1.0, 0],\n",
       "       [1, 1, 0, 0, 1, 3000, 0.0, 66.0, 360.0, 1.0, 2],\n",
       "       [1, 1, 0, 1, 0, 2583, 2358.0, 120.0, 360.0, 1.0, 2],\n",
       "       [1, 0, 0, 0, 0, 6000, 0.0, 141.0, 360.0, 1.0, 2]], dtype=object)"
      ]
     },
     "execution_count": 41,
     "metadata": {},
     "output_type": "execute_result"
    }
   ],
   "source": [
    "print(\"=== LABEL ENCODING CHO DỮ LIỆU PHÂN LOẠI ===\")\n",
    "print(\"=\" * 60)\n",
    "\n",
    "X_df = data.drop(columns=['Loan_Status', 'Loan_ID'])\n",
    "df = X_df.select_dtypes(include='object')\n",
    "\n",
    "for col in df.columns:\n",
    "    col_idx = X_df.columns.get_loc(col)\n",
    "    # Khởi LabelEncoder\n",
    "    scaler = preprocessing.LabelEncoder()\n",
    "    # Fit - học các giá trị khác nhau\n",
    "    le_scale = scaler.fit(X[:, col_idx])\n",
    "    # Transform - chuyển dữ liệu sang dạng số\n",
    "    X[:, col_idx] = le_scale.transform(X[:, col_idx])\n",
    "\n",
    "# ===== KẾT QUẢ CUỐI CÙNG =====\n",
    "print(f\"\\n=== KẾT QUẢ SAU MÃ HÓA ===\")\n",
    "print(f\"   Số chiều của X: {X.shape}\")\n",
    "print(f\"   In ra 5 dòng đầu tiên:\")\n",
    "for i in range(5):\n",
    "    print(f\"   Sinh viên {i}: {X[i]}\")\n",
    "\n",
    "print(f\"\\nHOÀN THÀNH: Tất cả dữ liệu đã được chuyển về dạng số!\")\n",
    "\n",
    "# Đưa ra kết quả cuối cùng\n",
    "X[0:5]\n"
   ]
  },
  {
   "cell_type": "markdown",
   "id": "ddf45aa9",
   "metadata": {},
   "source": [
    "### BƯỚC 5.3. Chuẩn hóa dữ liệu số"
   ]
  },
  {
   "cell_type": "markdown",
   "id": "568c4c51",
   "metadata": {},
   "source": [
    "Vấn đề với các thang đo khác nhau:\n",
    "\n",
    "Thuật toán ML có thể làm sai lệch các đặc trưng với giá trị lớn hơn\n",
    "\n",
    "**Giải pháp:** Chuẩn hóa Z - Score\n",
    "\n",
    "Chuẩn hóa chuyển đổi dữ liệu thành phân phối chuẩn:\n",
    "- **Trung bình (μ) = 0**: Trung bình = 0\n",
    "- **Độ lệch chuẩn (σ) = 1**: Độ lệch chuẩn = 1\n",
    "\n",
    "Lợi ích của chuẩn hóa:\n",
    "1. Cân bằng: Tất cả các đặc trưng đều có tầm quan trọng như nhau\n",
    "2. Tốc độ: Thuật toán hội tụ nhanh hơn\n",
    "3. Độ chính xác: Kết quả dự đoán tốt hơn"
   ]
  },
  {
   "cell_type": "code",
   "execution_count": 42,
   "id": "9dbe6d67",
   "metadata": {},
   "outputs": [
    {
     "name": "stdout",
     "output_type": "stream",
     "text": [
      "=== CHUẨN HÓA DỮ LIỆU SỐ ===\n",
      "============================================================\n",
      "TRƯỚC CHUẨN HÓA:\n",
      "Một số thông tin của đặc trưng 'ApplicantIncome'\n",
      "   5 giá trị đầu: [5849 4583 3000 2583 6000]\n",
      "   Giá trị min: 150.00\n",
      "   Giá trị max: 81000.00\n",
      "   Trung bình: 5403.46\n",
      "   Độ lệch chuẩn: 6104.06\n",
      "\n",
      "TÍNH TOÁN THAM SỐ:\n",
      "   μ (mean) = 5403.4593\n",
      "   σ (std)  = 6104.0649\n",
      "\n",
      "ÁP DỤNG CHUẨN HÓA:\n",
      "   Công thức: z = (x - 5403.46) / 6104.06\n",
      "\n",
      "TÍNH TOÁN THAM SỐ:\n",
      "   μ (mean) = 1621.2458\n",
      "   σ (std)  = 2923.8645\n",
      "\n",
      "ÁP DỤNG CHUẨN HÓA:\n",
      "   Công thức: z = (x - 1621.25) / 2923.86\n",
      "\n",
      "TÍNH TOÁN THAM SỐ:\n",
      "   μ (mean) = 146.4122\n",
      "   σ (std)  = 83.9690\n",
      "\n",
      "ÁP DỤNG CHUẨN HÓA:\n",
      "   Công thức: z = (x - 146.41) / 83.97\n",
      "\n",
      "TÍNH TOÁN THAM SỐ:\n",
      "   μ (mean) = 342.0000\n",
      "   σ (std)  = 64.3200\n",
      "\n",
      "ÁP DỤNG CHUẨN HÓA:\n",
      "   Công thức: z = (x - 342.00) / 64.32\n",
      "\n",
      "SAU CHUẨN HÓA:\n",
      "Một số thông tin của đặc trưng 'ApplicantIncome'\n",
      "   5 giá trị đầu: [0.0729908228506884 -0.1344119537834513 -0.3937473372051284\n",
      " -0.4620624697931507 0.09772843680942071]\n",
      "   Giá trị min: -0.86\n",
      "   Giá trị max: 12.38\n",
      "   Trung bình mới: -0.000000 ≈ 0\n",
      "   Độ lệch chuẩn mới: 1.000000 ≈ 1\n",
      "\n",
      "TRƯỚC VÀ SAU CHUẨN HÓA:\n",
      "Chỉ số | Trước | Sau\n",
      "---------------------------------------------\n",
      "     0       |        5849.00       |        0.07\n",
      "     1       |        4583.00       |       -0.13\n",
      "     2       |        3000.00       |       -0.39\n",
      "     3       |        2583.00       |       -0.46\n",
      "     4       |        6000.00       |        0.10\n",
      "\n",
      "MA TRẬN ĐẶC TRƯNG X SAU KHI CHUẨN HÓA:\n"
     ]
    },
    {
     "data": {
      "text/plain": [
       "array([[1, 0, 0, 0, 0, 0.0729908228506884, -0.5544873301529847,\n",
       "        3.3847857674402117e-16, 0.27985054320228187, 1.0, 2],\n",
       "       [1, 1, 1, 0, 0, -0.1344119537834513, -0.03873154846446161,\n",
       "        -0.21927331495275829, 0.27985054320228187, 1.0, 0],\n",
       "       [1, 1, 0, 0, 1, -0.3937473372051284, -0.5544873301529847,\n",
       "        -0.9576409986248733, 0.27985054320228187, 1.0, 2],\n",
       "       [1, 1, 0, 1, 0, -0.4620624697931507, 0.25197960169153616,\n",
       "        -0.31454656445883766, 0.27985054320228187, 1.0, 2],\n",
       "       [1, 0, 0, 0, 0, 0.09772843680942071, -0.5544873301529847,\n",
       "        -0.06445428450537935, 0.27985054320228187, 1.0, 2]], dtype=object)"
      ]
     },
     "execution_count": 42,
     "metadata": {},
     "output_type": "execute_result"
    }
   ],
   "source": [
    "# Chuẩn hóa một số đặc trưng dạng số: 'ApplicantIncome', 'CoapplicantIncome', 'LoanAmount', 'Loan_Amount_Term'\n",
    "print(\"=== CHUẨN HÓA DỮ LIỆU SỐ ===\")\n",
    "print(\"=\" * 60)\n",
    "\n",
    "# Đưa ra dữ liệu trước khi chuẩn hóa\n",
    "# Vì chúng ta chuẩn hóa nhiều tính năng, để ngắn gọn, ta chỉ hiển thị thông tin 'ApplicantIncome'\n",
    "print(\"TRƯỚC CHUẨN HÓA:\")\n",
    "print(\"Một số thông tin của đặc trưng 'ApplicantIncome'\")\n",
    "ApplicantIncome_original = X[:, 5].copy()            # Lưu bản gốc để so sánh\n",
    "print(f\"   5 giá trị đầu: {ApplicantIncome_original[0:5]}\")\n",
    "print(f\"   Giá trị min: {ApplicantIncome_original.min():.2f}\")\n",
    "print(f\"   Giá trị max: {ApplicantIncome_original.max():.2f}\")\n",
    "print(f\"   Trung bình: {ApplicantIncome_original.mean():.2f}\")\n",
    "print(f\"   Độ lệch chuẩn: {ApplicantIncome_original.std():.2f}\")\n",
    "\n",
    "scale_features = ['ApplicantIncome', 'CoapplicantIncome', 'LoanAmount', 'Loan_Amount_Term']\n",
    "for col in scale_features:\n",
    "    # Bước 1: Tính mean (trung bình) và std (độ lệch chuẩn)\n",
    "    col_idx = X_df.columns.get_loc(col)\n",
    "    mean = X[:, col_idx].mean()\n",
    "    std = X[:, col_idx].std()\n",
    "\n",
    "    print(f\"\\nTÍNH TOÁN THAM SỐ:\")\n",
    "    print(f\"   μ (mean) = {mean:.4f}\")\n",
    "    print(f\"   σ (std)  = {std:.4f}\")\n",
    "\n",
    "    # Bước 2: Áp dụng công thức z = (x - μ)/σ\n",
    "    print(f\"\\nÁP DỤNG CHUẨN HÓA:\")\n",
    "    print(f\"   Công thức: z = (x - {mean:.2f}) / {std:.2f}\")\n",
    "\n",
    "    X[:, col_idx] = (X[:, col_idx] - mean) / std\n",
    "\n",
    "# Đưa ra dữ liệu sau chuẩn hóa\n",
    "# Vì chúng ta chuẩn hóa nhiều tính năng, để ngắn gọn, ta chỉ hiển thị thông tin 'ApplicantIncome'\n",
    "print(f\"\\nSAU CHUẨN HÓA:\")\n",
    "print(\"Một số thông tin của đặc trưng 'ApplicantIncome'\")\n",
    "print(f\"   5 giá trị đầu: {X[0:5, 5]}\")\n",
    "print(f\"   Giá trị min: {X[:, 5].min():.2f}\")\n",
    "print(f\"   Giá trị max: {X[:, 5].max():.2f}\")\n",
    "print(f\"   Trung bình mới: {X[:, 5].mean():.6f} ≈ 0\")\n",
    "print(f\"   Độ lệch chuẩn mới: {X[:, 5].std():.6f} ≈ 1\")\n",
    "\n",
    "# So sánh trước và sau chuẩn hóa\n",
    "print(f\"\\nTRƯỚC VÀ SAU CHUẨN HÓA:\")\n",
    "print(\"Chỉ số | Trước | Sau\")\n",
    "print(\"-\" * 45)\n",
    "for i in range(5):\n",
    "    print(f\"     {i}       |       {ApplicantIncome_original[i]:8.2f}       |    {X[i, 5]:8.2f}\")\n",
    "\n",
    "# Đưa ra ma trận đặc trưng X cuối cùng\n",
    "print(f\"\\nMA TRẬN ĐẶC TRƯNG X SAU KHI CHUẨN HÓA:\")\n",
    "X[0:5]\n"
   ]
  },
  {
   "cell_type": "markdown",
   "id": "d71b9886",
   "metadata": {},
   "source": [
    "### BƯỚC 5.4. Xử lý biến mục tiêu"
   ]
  },
  {
   "cell_type": "markdown",
   "id": "c13baf43",
   "metadata": {},
   "source": [
    "**Tạo vectơ y từ cột 'Loan_Status'**"
   ]
  },
  {
   "cell_type": "code",
   "execution_count": 43,
   "id": "780475ba",
   "metadata": {},
   "outputs": [
    {
     "name": "stdout",
     "output_type": "stream",
     "text": [
      "=== TẠO VECTOR MỤC TIÊU ===\n",
      "========================================\n",
      "THÔNG TIN MỤC TIÊU:\n",
      "   Số chiều: (614,)\n",
      "   Kiểu dữ liệu: object\n",
      "   5 giá trị đầu tiên: ['Y', 'N', 'Y', 'Y', 'Y']\n",
      "\n",
      "PHÂN PHỐI LỚP:\n",
      "   Y: 422 (68.7%)\n",
      "   N: 192 (31.3%)\n",
      "\n",
      "NHẬN XÉT:\n",
      "   • Có 2 trạng thái vay khác nhau\n",
      "   • Đây là bài toán phân loại 2 lớp\n"
     ]
    },
    {
     "data": {
      "text/plain": [
       "0    Y\n",
       "1    N\n",
       "2    Y\n",
       "3    Y\n",
       "4    Y\n",
       "Name: Loan_Status, dtype: object"
      ]
     },
     "execution_count": 43,
     "metadata": {},
     "output_type": "execute_result"
    }
   ],
   "source": [
    "# Tạo vector mục tiêu y\n",
    "print(\"=== TẠO VECTOR MỤC TIÊU ===\")\n",
    "print(\"=\" * 40)\n",
    "\n",
    "# Lấy cột 'Loan_Status' làm mục tiêu\n",
    "y = data['Loan_Status']\n",
    "print(\"THÔNG TIN MỤC TIÊU:\")\n",
    "print(f\"   Số chiều: {y.shape}\")\n",
    "print(f\"   Kiểu dữ liệu: {y.dtype}\")\n",
    "print(f\"   5 giá trị đầu tiên: {list(y[0:5])}\")\n",
    "\n",
    "print(f\"\\nPHÂN PHỐI LỚP:\")\n",
    "class_counts = y.value_counts()\n",
    "for drug, count in class_counts.items():\n",
    "    percentage = (count/len(y)) * 100\n",
    "    print(f\"   {drug}: {count} ({percentage:.1f}%)\")\n",
    "\n",
    "print(f\"\\nNHẬN XÉT:\")\n",
    "print(f\"   • Có {len(class_counts)} trạng thái vay khác nhau\")\n",
    "print(f\"   • Đây là bài toán phân loại 2 lớp\")\n",
    "\n",
    "# Đưa ra một số giá trị ban đầu\n",
    "y[0:5]\n"
   ]
  },
  {
   "cell_type": "markdown",
   "id": "60180a67",
   "metadata": {},
   "source": [
    "**Mã hóa biến mục tiêu**"
   ]
  },
  {
   "cell_type": "markdown",
   "id": "bd8093c5",
   "metadata": {},
   "source": [
    "Hầu hết các thuật toán ML yêu cầu biến mục tiêu là số, không phải văn bản. Do đó, chúng ta cần mã hóa biến mục tiêu từ văn bản sang số nguyên."
   ]
  },
  {
   "cell_type": "code",
   "execution_count": 44,
   "id": "a8e9e1b1",
   "metadata": {},
   "outputs": [
    {
     "name": "stdout",
     "output_type": "stream",
     "text": [
      "=== MÃ HÓA BIẾN MỤC TIÊU Y ===\n",
      "==================================================\n",
      "THÔNG TIN MÃ HÓA NHÃN:\n",
      "   Các lớp học được: ['N' 'Y']\n",
      "\n",
      "BẢNG MAPPING:\n",
      "   N → 0\n",
      "   Y → 1\n",
      "\n",
      "TRƯỚC ENCODING:\n",
      "   5 giá trị đầu tiên: ['Y', 'N', 'Y', 'Y', 'Y']\n",
      "\n",
      "  SAU ENCODING:\n",
      "   5 giá trị đầu tiên: [1 0 1 1 1]\n",
      "   Kiểu dữ liệu: int64\n",
      "   Số chiều: (614,)\n",
      "\n",
      "HOÀN THÀNH: Biến mục tiêu y đã được chuyển về dạng số!\n",
      "\n",
      "PHÂN PHỐI BIẾN MỤC TIÊU SAU MÃ HÓA:\n",
      "   0 (N): 192 (31.3%)\n",
      "   1 (Y): 422 (68.7%)\n"
     ]
    }
   ],
   "source": [
    "# Mã hóa biến mục tiêu y\n",
    "print(\"=== MÃ HÓA BIẾN MỤC TIÊU Y ===\")\n",
    "print(\"=\" * 50)\n",
    "\n",
    "# Fit các trạng thái vay\n",
    "le_status = scaler.fit(y.unique())\n",
    "\n",
    "print(\"THÔNG TIN MÃ HÓA NHÃN:\")\n",
    "print(f\"   Các lớp học được: {le_status.classes_}\")\n",
    "\n",
    "# Hiển thị mapping\n",
    "print(f\"\\nBẢNG MAPPING:\")\n",
    "for i, status in enumerate(le_status.classes_):\n",
    "    print(f\"   {status} → {i}\")\n",
    "\n",
    "# Biểu diễn encoding\n",
    "print(f\"\\nTRƯỚC ENCODING:\")\n",
    "print(f\"   5 giá trị đầu tiên: {list(y[0:5])}\")\n",
    "\n",
    "y_encoded = le_status.transform(y)\n",
    "\n",
    "print(f\"\\n  SAU ENCODING:\")\n",
    "print(f\"   5 giá trị đầu tiên: {y_encoded[0:5]}\")\n",
    "print(f\"   Kiểu dữ liệu: {y_encoded.dtype}\")\n",
    "print(f\"   Số chiều: {y_encoded.shape}\")\n",
    "\n",
    "# Cập nhật y\n",
    "y = y_encoded\n",
    "\n",
    "print(f\"\\nHOÀN THÀNH: Biến mục tiêu y đã được chuyển về dạng số!\")\n",
    "\n",
    "# Kiểm tra phân phối của y sau encoding\n",
    "print(f\"\\nPHÂN PHỐI BIẾN MỤC TIÊU SAU MÃ HÓA:\")\n",
    "unique, counts = np.unique(y, return_counts=True)\n",
    "for val, count in zip(unique, counts):\n",
    "    status_name = le_status.classes_[val]\n",
    "    percentage = (count/len(y)) * 100\n",
    "    print(f\"   {val} ({status_name}): {count} ({percentage:.1f}%)\")\n"
   ]
  },
  {
   "cell_type": "code",
   "execution_count": 45,
   "id": "d04a17d8",
   "metadata": {},
   "outputs": [
    {
     "name": "stdout",
     "output_type": "stream",
     "text": [
      "=== KẾT QUẢ CUỐI CÙNG SAU TIỀN XỬ LÝ DỮ LIỆU ===\n",
      "==================================================\n",
      "Ma trận đặc trưng X:\n",
      "   Số chiều: (614, 11)\n",
      "   5 dòng đầu tiên:\n",
      "     Sinh viên 0: [1 0 0 0 0 0.0729908228506884 -0.5544873301529847 3.3847857674402117e-16\n",
      " 0.27985054320228187 1.0 2]\n",
      "     Sinh viên 1: [1 1 1 0 0 -0.1344119537834513 -0.03873154846446161 -0.21927331495275829\n",
      " 0.27985054320228187 1.0 0]\n",
      "     Sinh viên 2: [1 1 0 0 1 -0.3937473372051284 -0.5544873301529847 -0.9576409986248733\n",
      " 0.27985054320228187 1.0 2]\n",
      "     Sinh viên 3: [1 1 0 1 0 -0.4620624697931507 0.25197960169153616 -0.31454656445883766\n",
      " 0.27985054320228187 1.0 2]\n",
      "     Sinh viên 4: [1 0 0 0 0 0.09772843680942071 -0.5544873301529847 -0.06445428450537935\n",
      " 0.27985054320228187 1.0 2]\n",
      "\n",
      "Vector y (Mục tiêu):\n",
      "   Số chiều: (614,)\n",
      "   5 giá trị đầu tiên: [1 0 1 1 1]\n",
      "\n",
      "DỮ LIỆU ĐÃ SẴN SÀNG CHO ML!\n",
      "    Tất cả các giá trị đều là dạng số\n",
      "    Dữ liệu đã được chuẩn hóa\n",
      "    Không có dữ liệu nào bị thiếu\n",
      "    Định dạng đã sẵn sàng cho các thuật toán ML!\n"
     ]
    },
    {
     "data": {
      "text/plain": [
       "array([1, 0, 1, 1, 1])"
      ]
     },
     "execution_count": 45,
     "metadata": {},
     "output_type": "execute_result"
    }
   ],
   "source": [
    "# Đưa ra kết quả cuối cùng\n",
    "print(\"=== KẾT QUẢ CUỐI CÙNG SAU TIỀN XỬ LÝ DỮ LIỆU ===\")\n",
    "print(\"=\" * 50)\n",
    "\n",
    "print(\"Ma trận đặc trưng X:\")\n",
    "print(f\"   Số chiều: {X.shape}\")\n",
    "print(f\"   5 dòng đầu tiên:\")\n",
    "for i in range(5):\n",
    "    print(f\"     Sinh viên {i}: {X[i]}\")\n",
    "\n",
    "print(f\"\\nVector y (Mục tiêu):\")\n",
    "print(f\"   Số chiều: {y.shape}\")\n",
    "print(f\"   5 giá trị đầu tiên: {y[0:5]}\")\n",
    "\n",
    "print(f\"\\nDỮ LIỆU ĐÃ SẴN SÀNG CHO ML!\")\n",
    "print(f\"    Tất cả các giá trị đều là dạng số\")\n",
    "print(f\"    Dữ liệu đã được chuẩn hóa\")\n",
    "print(f\"    Không có dữ liệu nào bị thiếu\")\n",
    "print(f\"    Định dạng đã sẵn sàng cho các thuật toán ML!\")\n",
    "\n",
    "# In ra các giá trị đầu tiên của y\n",
    "y[0:5]\n"
   ]
  },
  {
   "cell_type": "markdown",
   "id": "54b9523e",
   "metadata": {},
   "source": [
    "## KẾT LUẬN"
   ]
  },
  {
   "cell_type": "markdown",
   "id": "42ea65c7",
   "metadata": {},
   "source": [
    "Đầu ra dữ liệu sau khi tiền xử lý là ma trận NumPy có giá trị ở các cột đều là dạng số, các cột (đặc trưng) đã được chuẩn hóa và các đặc trưng phân loại đã được mã hóa về dạng số. Ngoài ra, dữ liệu bị thiếu cũng đã được điền thông qua mean (đối với dữ liệu số) và mode (đối với dữ liệu phân loại). Các hàng trùng lặp cũng đã được xử lý.\n",
    "\n",
    "Đầu ra này là hoàn toàn phù hợp với các thuật toán ML, do dữ liệu cho ML là dữ liệu sạch, đầy đủ, toàn số, và được chuẩn hoá để mô hình học hiệu quả."
   ]
  }
 ],
 "metadata": {
  "kernelspec": {
   "display_name": "practice_DS",
   "language": "python",
   "name": "python3"
  },
  "language_info": {
   "codemirror_mode": {
    "name": "ipython",
    "version": 3
   },
   "file_extension": ".py",
   "mimetype": "text/x-python",
   "name": "python",
   "nbconvert_exporter": "python",
   "pygments_lexer": "ipython3",
   "version": "3.13.7"
  }
 },
 "nbformat": 4,
 "nbformat_minor": 5
}
