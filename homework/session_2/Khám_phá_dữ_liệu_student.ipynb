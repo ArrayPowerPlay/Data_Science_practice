{
  "cells": [
    {
      "cell_type": "markdown",
      "metadata": {
        "id": "wDDUtOmzxNJh"
      },
      "source": [
        "# THỰC HÀNH: KHAI PHÁ DỮ LIỆU / PRACTICE: DATA EXPLORATION\n",
        "\n",
        "## Tổng quan / Overview\n",
        "\n",
        "**Khai phá dữ liệu / Data Exploration** là bước quan trọng nhất trong quy trình khoa học dữ liệu, giúp chúng ta hiểu sâu về cấu trúc, đặc điểm và mối quan hệ trong dữ liệu trước khi xây dựng mô hình machine learning.  \n",
        "*Data exploration is the most important step in the data science workflow, helping us understand the structure, characteristics, and relationships in the data before building machine learning models.*  \n",
        "\n",
        "Notebook này sẽ hướng dẫn bạn thực hiện Khai phá dữ liệu hoàn chỉnh trên bộ dữ liệu y tế về phản ứng của bệnh nhân với các loại thuốc khác nhau, sử dụng các thư viện **pandas**, **seaborn** và **matplotlib**.  \n",
        "*This notebook will guide you through complete data exploration on a medical dataset about patients' responses to different drugs, using **pandas**, **seaborn**, and **matplotlib** libraries.*  \n",
        "\n",
        "Chúng ta sẽ phân tích một bộ dữ liệu thực tế để dự đoán loại thuốc phù hợp cho từng bệnh nhân dựa trên các đặc điểm như tuổi, giới tính, huyết áp và cholesterol.  \n",
        "*We will analyze a real dataset to predict the suitable drug for each patient based on features like age, gender, blood pressure, and cholesterol.*\n",
        "\n",
        "---\n",
        "## Mục tiêu Học tập / Learning Objectives\n",
        "\n",
        "Sau khi hoàn thành notebook này, bạn sẽ có thể:  \n",
        "*After completing this notebook, you will be able to:*  \n",
        "\n",
        "- **Hiểu bản chất của khai phá dữ liệu và vai trò của nó trong quy trình Data Science / Understand the essence of data exploration and its role in the Data Science workflow**  \n",
        "- **Thực hiện phân tích thống kê mô tả để nắm bắt đặc điểm cơ bản của dữ liệu / Perform descriptive statistical analysis to grasp the basic characteristics of the data**  \n",
        "- **Sử dụng thành thạo pandas cho việc khai phá dữ liệu và thống kê dữ liệu / Use pandas effectively for data exploration and statistical analysis**  \n",
        "- **Tạo các biểu đồ trực quan hóa bằng seaborn và matplotlib / Create visualization plots using seaborn and matplotlib**  \n",
        "- **Phân tích mối quan hệ giữa các biến số và biến phân loại / Analyze relationships between numerical and categorical variables**  \n",
        "- **Phát hiện insights quan trọng từ dữ liệu để hỗ trợ modeling / Discover important insights from the data to support modeling**  \n",
        "- **Diễn giải kết quả một cách chính xác và có ý nghĩa thực tiễn / Interpret results accurately and meaningfully for practical applications**\n",
        "\n",
        "---\n",
        "\n",
        "### Kỹ năng cụ thể / Specific Skills\n",
        "\n",
        "- **Thống kê mô tả: Mean, median, mode, standard deviation, quartiles / Descriptive statistics: mean, median, mode, standard deviation, quartiles**  \n",
        "- **Phân tích phân phối: Histogram, density plots, boxplots / Distribution analysis: histograms, density plots, boxplots**  \n",
        "- **Phân tích tương quan: Correlation matrix, scatter plots / Correlation analysis: correlation matrices, scatter plots**  \n",
        "- **Phân tích nhóm: Group-by operations, cross-tabulation / Group analysis: group-by operations, cross-tabulations**  \n",
        "- **Trực quan hóa nâng cao: Heatmaps, pair plots, categorical plots / Advanced visualization: heatmaps, pair plots, categorical plots**\n",
        "\n",
        "> **Lưu ý / Note**: Khai phá dữ liệu không chỉ là vẽ biểu đồ mà quan trọng hơn là **diễn giải và rút ra insights từ những gì quan sát được / Data exploration is not just about plotting charts; more importantly, it is about interpreting and extracting insights from what is observed.**\n"
      ]
    },
    {
      "cell_type": "markdown",
      "metadata": {
        "id": "uKxd3XN74V2I"
      },
      "source": [
        "## Hướng dẫn Cài đặt Môi trường / Environment Setup\n",
        "\n",
        "### Thư viện cần thiết / Required Libraries\n",
        "\n",
        "Để thực hiện khai phá dữ liệu, chúng ta cần các thư viện Python sau:  \n",
        "*To perform data exploration, we need the following Python libraries:*\n",
        "\n",
        "| Thư viện / Library | Mục đích sử dụng / Purpose | Vai trò trong Khai phá dữ liệu / Role in Data Exploration |\n",
        "|-------------------|---------------------------|----------------------------------------------------------|\n",
        "| **pandas** | Xử lý và thao tác dữ liệu / Data manipulation and handling | Đọc dữ liệu, thống kê mô tả, group operations / Reading data, descriptive statistics, group operations |\n",
        "| **numpy** | Tính toán số học / Numerical computations | Các phép toán mảng, thống kê toán học / Array operations, mathematical statistics |\n",
        "| **matplotlib** | Trực quan hóa cơ bản / Basic visualization | Tạo biểu đồ line, bar, scatter plots / Create line, bar, scatter plots |\n",
        "| **seaborn** | Trực quan hóa nâng cao / Advanced visualization | Biểu đồ thống kê đẹp, heatmaps, distribution plots / Beautiful statistical plots, heatmaps, distribution plots |\n",
        "| **scipy** | Thống kê nâng cao / Advanced statistics | Kiểm định thống kê, probability distributions / Statistical tests, probability distributions |\n",
        "| **scikit-learn** | Machine learning | Preprocessing, model evaluation metrics / Preprocessing, evaluating machine learning models |\n",
        "\n",
        "---\n",
        "\n",
        "### Lệnh cài đặt / Installation Command\n",
        "\n",
        "Chạy lệnh sau để cài đặt tất cả các thư viện cần thiết:  \n",
        "*Run the following command to install all required libraries:*\n",
        "\n",
        "```bash\n",
        "pip install pandas numpy matplotlib seaborn scipy scikit-learn jupyterlab\n",
        "\n",
        "```\n",
        "### Yêu cầu hệ thống / System Requirements\n",
        "\n",
        "- **Python 3.7+** (khuyến nghị Python 3.9+)  \n",
        "  **Python 3.7+** (recommended Python 3.9+)\n",
        "- **Jupyter Lab/Notebook** để chạy interactive cells  \n",
        "  **Jupyter Lab/Notebook** to run interactive cells\n",
        "- **Bộ nhớ RAM**: Tối thiểu 4GB (khuyến nghị 8GB+)  \n",
        "  **RAM**: Minimum 4GB (recommended 8GB+)\n",
        "- **Dữ liệu**: File `drug200.csv` (sẽ được tải trong notebook)  \n",
        "  **Data**: `drug200.csv` file (to be loaded in the notebook)\n",
        "\n",
        "---\n",
        "\n",
        "### Thông tin về môi trường / Environment Notes\n",
        "\n",
        "**Cho người dùng Google Colab / For Google Colab users:**  \n",
        "- Môi trường đã được cài đặt sẵn hầu hết các thư viện  \n",
        "  Most libraries are pre-installed\n",
        "- Chỉ cần chạy cell cài đặt thư viện bên dưới  \n",
        "  You only need to run the installation cell below\n",
        "- Cần upload file dữ liệu thủ công  \n",
        "  You need to upload the dataset manually\n",
        "\n",
        "**Cho người dùng Miniconda/Anaconda / For Miniconda/Anaconda users:**  \n",
        "- Tham khảo hướng dẫn cài đặt / Refer to installation guides:  \n",
        "  - [Windows](https://www.youtube.com/watch?v=EBbcsjBSEi8)  \n",
        "  - [MacOS](https://www.youtube.com/watch?v=WdXdl0C0jfE)  \n",
        "- Tải file code / Download code files: [ML-code.zip](https://users.soict.hust.edu.vn/khoattq/ml-dm-course/ML-code.zip)\n"
      ]
    },
    {
      "cell_type": "markdown",
      "metadata": {
        "id": "ekM7K48IzTYM"
      },
      "source": [
        "## Bước 1: Chuẩn bị Môi trường và Dữ liệu / Step 1: Environment and Data Preparation\n",
        "\n",
        "Trước khi bắt đầu khai phá, chúng ta cần chuẩn bị đầy đủ môi trường làm việc và dữ liệu cần thiết.  \n",
        "*Before starting data exploration, we need to prepare the working environment and the necessary dataset.*  \n",
        "\n",
        "Quá trình này bao gồm:  \n",
        "*This process includes:*\n",
        "\n",
        "1. **Cài đặt các thư viện** cần thiết cho phân tích dữ liệu  \n",
        "   *Installing the required libraries for data analysis*\n",
        "2. **Tải xuống dataset** từ nguồn chính thức  \n",
        "   *Downloading the dataset from the official source*\n",
        "3. **Kiểm tra tính toàn vẹn** của dữ liệu sau khi tải  \n",
        "   *Verifying the integrity of the data after download*\n",
        "\n",
        "---\n",
        "\n",
        "### Thông tin về Dataset / Dataset Information\n",
        "\n",
        "- **Tên dataset / Dataset name**: `drug200.csv`  \n",
        "- **Nguồn / Source**: Course Material - Machine Learning & Data Mining  \n",
        "- **Kích thước / Size**: 200 records × 6 features  \n",
        "- **Mục đích / Purpose**: Dự đoán loại thuốc phù hợp cho bệnh nhân  \n",
        "  *Predict the suitable drug for patients*\n",
        "\n",
        "---\n",
        "\n",
        "**Đặc điểm dữ liệu / Data Characteristics:**\n",
        "\n",
        "- **Dữ liệu y tế thực tế** được ẩn danh hóa  \n",
        "  *Real medical data that has been anonymized*\n",
        "- **Cân bằng giữa các class** (5 loại thuốc)  \n",
        "  *Balanced classes (5 types of drugs)*\n",
        "- **Không có missing values** (dữ liệu đã được làm sạch)  \n",
        "  *No missing values (data has been cleaned)*\n",
        "- **Mix của numeric và categorical features**  \n",
        "  *A mix of numeric and categorical features*\n"
      ]
    },
    {
      "cell_type": "markdown",
      "metadata": {
        "id": "zqLEA7zjzky3"
      },
      "source": [
        "**Bước 1:** Ta thực hiện tải file code phục vụ cho bài học theo nguồn dưới đây\n",
        "\n",
        "**Step 1:** We download the code file for the lesson from the source below\n",
        "\n",
        "====== Nguồn https://users.soict.hust.edu.vn/khoattq/ml-dm-course/ML-code.zip ======"
      ]
    },
    {
      "cell_type": "markdown",
      "metadata": {
        "id": "rV5rOJ3EzpbU"
      },
      "source": [
        "**Bước 2:** Cài đặt thư viện"
      ]
    },
    {
      "cell_type": "code",
      "execution_count": 2,
      "metadata": {
        "colab": {
          "base_uri": "https://localhost:8080/"
        },
        "id": "SigvCOirzqVg",
        "outputId": "35283594-b2b9-43e2-b758-88972f0f3aef"
      },
      "outputs": [
        {
          "name": "stdout",
          "output_type": "stream",
          "text": [
            "All libraries installed successfully!\n",
            "Ready to start data analysis\n"
          ]
        }
      ],
      "source": [
        "# Step 1.1: Install necessary libraries for Data Exploration (Bước 1.1: Cài đặt các thư viện cần thiết cho Khai phá dữ liệu)\n",
        "\n",
        "# pandas: Handle and manipulate tabular data (pandas: Xử lý và thao tác dữ liệu dạng bảng)\n",
        "# numpy: Arithmetic and statistical computations (numpy: Tính toán số học và thống kê)\n",
        "# matplotlib: Basic visualization (matplotlib: Trực quan hóa cơ bản)\n",
        "# seaborn: Attractive statistical visualization (seaborn: Trực quan hóa thống kê đẹp mắt)\n",
        "# scipy: Advanced statistics and tests (scipy: Thống kê nâng cao và kiểm định)\n",
        "# scikit-learn: Machine learning and preprocessing tools (scikit-learn: Công cụ machine learning và preprocessing)\n",
        "# scikit-image: Image processing (scikit-image: Xử lý ảnh)\n",
        "# jupyterlab: Interactive notebook environment (jupyterlab: Môi trường notebook tương tác)\n",
        "# beautifulsoup4: Web scraping (beautifulsoup4: Trích xuất dữ liệu từ web)\n",
        "# PyYAML: YAML file parsing (PyYAML: Phân tích file YAML)\n",
        "\n",
        "# !pip install pandas numpy matplotlib scipy scikit-image seaborn scikit-learn jupyterlab beautifulsoup4 PyYAML\n",
        "\n",
        "print(\"All libraries installed successfully!\")  # Cài đặt thành công tất cả thư viện\n",
        "print(\"Ready to start data analysis\")           # Sẵn sàng bắt đầu phân tích dữ liệu\n"
      ]
    },
    {
      "cell_type": "markdown",
      "metadata": {
        "id": "9o_tZx7Pzwpn"
      },
      "source": [
        "### Bước 1.2: Tải Dataset (Chỉ cho Google Colab)  \n",
        "*Step 1.2: Load Dataset (Only for Google Colab)*\n",
        "\n",
        "**Hướng dẫn tải dữ liệu:**  \n",
        "*Instructions to load data:*\n",
        "\n",
        "1. **Tải file dữ liệu** từ [ML-code.zip](https://users.soict.hust.edu.vn/khoattq/ml-dm-course/ML-code.zip)  \n",
        "   *Download the dataset from the link above*\n",
        "2. **Giải nén** và tìm file `drug200.csv` trong thư mục `data/`  \n",
        "   *Extract the zip file and locate `drug200.csv` inside the `data/` folder*\n",
        "3. **Upload file** bằng cách chạy cell bên dưới (chỉ cho Colab)  \n",
        "   *Upload the file by running the cell below (only for Colab)*\n",
        "\n",
        "> **Lưu ý**: Nếu bạn sử dụng Jupyter Lab/Notebook trên máy tính cá nhân, hãy đặt file `drug200.csv` trong cùng thư mục với notebook này.  \n",
        "> *Note: If you use Jupyter Lab/Notebook on your local computer, place `drug200.csv` in the same folder as this notebook.*\n"
      ]
    },
    {
      "cell_type": "code",
      "execution_count": null,
      "metadata": {
        "colab": {
          "base_uri": "https://localhost:8080/",
          "height": 143
        },
        "id": "7fu_yuxdzxnT",
        "outputId": "983516a1-35ba-4510-8ea0-6abc9486b0bc"
      },
      "outputs": [
        {
          "name": "stdout",
          "output_type": "stream",
          "text": [
            "Đang khởi chạy file uploader...\n",
            "Hãy chọn file 'drug200.csv' từ máy tính của bạn\n"
          ]
        },
        {
          "data": {
            "text/html": [
              "\n",
              "     <input type=\"file\" id=\"files-9dc44ea1-6e82-4f9d-9e14-dec3427c8f17\" name=\"files[]\" multiple disabled\n",
              "        style=\"border:none\" />\n",
              "     <output id=\"result-9dc44ea1-6e82-4f9d-9e14-dec3427c8f17\">\n",
              "      Upload widget is only available when the cell has been executed in the\n",
              "      current browser session. Please rerun this cell to enable.\n",
              "      </output>\n",
              "      <script>// Copyright 2017 Google LLC\n",
              "//\n",
              "// Licensed under the Apache License, Version 2.0 (the \"License\");\n",
              "// you may not use this file except in compliance with the License.\n",
              "// You may obtain a copy of the License at\n",
              "//\n",
              "//      http://www.apache.org/licenses/LICENSE-2.0\n",
              "//\n",
              "// Unless required by applicable law or agreed to in writing, software\n",
              "// distributed under the License is distributed on an \"AS IS\" BASIS,\n",
              "// WITHOUT WARRANTIES OR CONDITIONS OF ANY KIND, either express or implied.\n",
              "// See the License for the specific language governing permissions and\n",
              "// limitations under the License.\n",
              "\n",
              "/**\n",
              " * @fileoverview Helpers for google.colab Python module.\n",
              " */\n",
              "(function(scope) {\n",
              "function span(text, styleAttributes = {}) {\n",
              "  const element = document.createElement('span');\n",
              "  element.textContent = text;\n",
              "  for (const key of Object.keys(styleAttributes)) {\n",
              "    element.style[key] = styleAttributes[key];\n",
              "  }\n",
              "  return element;\n",
              "}\n",
              "\n",
              "// Max number of bytes which will be uploaded at a time.\n",
              "const MAX_PAYLOAD_SIZE = 100 * 1024;\n",
              "\n",
              "function _uploadFiles(inputId, outputId) {\n",
              "  const steps = uploadFilesStep(inputId, outputId);\n",
              "  const outputElement = document.getElementById(outputId);\n",
              "  // Cache steps on the outputElement to make it available for the next call\n",
              "  // to uploadFilesContinue from Python.\n",
              "  outputElement.steps = steps;\n",
              "\n",
              "  return _uploadFilesContinue(outputId);\n",
              "}\n",
              "\n",
              "// This is roughly an async generator (not supported in the browser yet),\n",
              "// where there are multiple asynchronous steps and the Python side is going\n",
              "// to poll for completion of each step.\n",
              "// This uses a Promise to block the python side on completion of each step,\n",
              "// then passes the result of the previous step as the input to the next step.\n",
              "function _uploadFilesContinue(outputId) {\n",
              "  const outputElement = document.getElementById(outputId);\n",
              "  const steps = outputElement.steps;\n",
              "\n",
              "  const next = steps.next(outputElement.lastPromiseValue);\n",
              "  return Promise.resolve(next.value.promise).then((value) => {\n",
              "    // Cache the last promise value to make it available to the next\n",
              "    // step of the generator.\n",
              "    outputElement.lastPromiseValue = value;\n",
              "    return next.value.response;\n",
              "  });\n",
              "}\n",
              "\n",
              "/**\n",
              " * Generator function which is called between each async step of the upload\n",
              " * process.\n",
              " * @param {string} inputId Element ID of the input file picker element.\n",
              " * @param {string} outputId Element ID of the output display.\n",
              " * @return {!Iterable<!Object>} Iterable of next steps.\n",
              " */\n",
              "function* uploadFilesStep(inputId, outputId) {\n",
              "  const inputElement = document.getElementById(inputId);\n",
              "  inputElement.disabled = false;\n",
              "\n",
              "  const outputElement = document.getElementById(outputId);\n",
              "  outputElement.innerHTML = '';\n",
              "\n",
              "  const pickedPromise = new Promise((resolve) => {\n",
              "    inputElement.addEventListener('change', (e) => {\n",
              "      resolve(e.target.files);\n",
              "    });\n",
              "  });\n",
              "\n",
              "  const cancel = document.createElement('button');\n",
              "  inputElement.parentElement.appendChild(cancel);\n",
              "  cancel.textContent = 'Cancel upload';\n",
              "  const cancelPromise = new Promise((resolve) => {\n",
              "    cancel.onclick = () => {\n",
              "      resolve(null);\n",
              "    };\n",
              "  });\n",
              "\n",
              "  // Wait for the user to pick the files.\n",
              "  const files = yield {\n",
              "    promise: Promise.race([pickedPromise, cancelPromise]),\n",
              "    response: {\n",
              "      action: 'starting',\n",
              "    }\n",
              "  };\n",
              "\n",
              "  cancel.remove();\n",
              "\n",
              "  // Disable the input element since further picks are not allowed.\n",
              "  inputElement.disabled = true;\n",
              "\n",
              "  if (!files) {\n",
              "    return {\n",
              "      response: {\n",
              "        action: 'complete',\n",
              "      }\n",
              "    };\n",
              "  }\n",
              "\n",
              "  for (const file of files) {\n",
              "    const li = document.createElement('li');\n",
              "    li.append(span(file.name, {fontWeight: 'bold'}));\n",
              "    li.append(span(\n",
              "        `(${file.type || 'n/a'}) - ${file.size} bytes, ` +\n",
              "        `last modified: ${\n",
              "            file.lastModifiedDate ? file.lastModifiedDate.toLocaleDateString() :\n",
              "                                    'n/a'} - `));\n",
              "    const percent = span('0% done');\n",
              "    li.appendChild(percent);\n",
              "\n",
              "    outputElement.appendChild(li);\n",
              "\n",
              "    const fileDataPromise = new Promise((resolve) => {\n",
              "      const reader = new FileReader();\n",
              "      reader.onload = (e) => {\n",
              "        resolve(e.target.result);\n",
              "      };\n",
              "      reader.readAsArrayBuffer(file);\n",
              "    });\n",
              "    // Wait for the data to be ready.\n",
              "    let fileData = yield {\n",
              "      promise: fileDataPromise,\n",
              "      response: {\n",
              "        action: 'continue',\n",
              "      }\n",
              "    };\n",
              "\n",
              "    // Use a chunked sending to avoid message size limits. See b/62115660.\n",
              "    let position = 0;\n",
              "    do {\n",
              "      const length = Math.min(fileData.byteLength - position, MAX_PAYLOAD_SIZE);\n",
              "      const chunk = new Uint8Array(fileData, position, length);\n",
              "      position += length;\n",
              "\n",
              "      const base64 = btoa(String.fromCharCode.apply(null, chunk));\n",
              "      yield {\n",
              "        response: {\n",
              "          action: 'append',\n",
              "          file: file.name,\n",
              "          data: base64,\n",
              "        },\n",
              "      };\n",
              "\n",
              "      let percentDone = fileData.byteLength === 0 ?\n",
              "          100 :\n",
              "          Math.round((position / fileData.byteLength) * 100);\n",
              "      percent.textContent = `${percentDone}% done`;\n",
              "\n",
              "    } while (position < fileData.byteLength);\n",
              "  }\n",
              "\n",
              "  // All done.\n",
              "  yield {\n",
              "    response: {\n",
              "      action: 'complete',\n",
              "    }\n",
              "  };\n",
              "}\n",
              "\n",
              "scope.google = scope.google || {};\n",
              "scope.google.colab = scope.google.colab || {};\n",
              "scope.google.colab._files = {\n",
              "  _uploadFiles,\n",
              "  _uploadFilesContinue,\n",
              "};\n",
              "})(self);\n",
              "</script> "
            ],
            "text/plain": [
              "<IPython.core.display.HTML object>"
            ]
          },
          "metadata": {},
          "output_type": "display_data"
        },
        {
          "name": "stdout",
          "output_type": "stream",
          "text": [
            "Saving drug200.csv to drug200.csv\n",
            "Upload thành công!\n",
            "File đã upload: drug200.csv (6027 bytes)\n"
          ]
        }
      ],
      "source": [
        "# Step 1.2: Upload the dataset (only for Google Colab)\n",
        "# Bước 1.2: Upload file dữ liệu (chỉ cho Google Colab)\n",
        "# This cell will open a file browser to select and upload 'drug200.csv'\n",
        "# Cell này sẽ tạo một file browser để bạn chọn và upload file drug200.csv\n",
        "\n",
        "try:\n",
        "    from google.colab import files  # Import files module for uploading (Import module files để upload file trên Colab)\n",
        "    print(\"Launching file uploader...\")  # Print message for uploader start (Đang khởi chạy file uploader...)\n",
        "    print(\"Please select the file 'drug200.csv' from your computer\")  # Instruction for user (Hãy chọn file 'drug200.csv' từ máy tính của bạn)\n",
        "\n",
        "    uploaded = files.upload()  # Open file browser and upload (Mở file browser và upload file)\n",
        "\n",
        "    if uploaded:\n",
        "        print(\"Upload successful!\")  # Confirm upload success (Upload thành công!)\n",
        "        for filename in uploaded.keys():\n",
        "            print(f\"Uploaded file: {filename} ({len(uploaded[filename])} bytes)\")  # Show uploaded file info (Hiển thị tên file và dung lượng)\n",
        "    else:\n",
        "        print(\"No file was uploaded\")  # No file selected (Không có file nào được upload)\n",
        "\n",
        "except ImportError:\n",
        "    print(\"Detected Jupyter Lab/Notebook environment\")  # Colab module not found (Phát hiện môi trường Jupyter Lab/Notebook)\n",
        "    print(\"Ensure 'drug200.csv' is in the same folder as this notebook\")  # Instruction for local Jupyter (Đảm bảo file 'drug200.csv' nằm trong cùng thư mục với notebook)\n",
        "    print(\"No upload needed, you can continue to the next step\")  # No upload needed (Không cần upload, có thể tiếp tục bước tiếp theo)\n"
      ]
    },
    {
      "cell_type": "markdown",
      "metadata": {
        "id": "8ZKaJTbl2Cwf"
      },
      "source": [
        "## Khai phá dữ liệu dữ liệu\n",
        "## Data mining data"
      ]
    },
    {
      "cell_type": "markdown",
      "metadata": {
        "id": "kktYxgXM2Me_"
      },
      "source": [
        "### Nội dung thực hành / Practice Contents\n",
        "\n",
        "1. Giới thiệu về dữ liệu / Introduction to the dataset\n",
        "\n",
        "2. Khai phá dữ liệu / Data Exploration"
      ]
    },
    {
      "cell_type": "markdown",
      "metadata": {
        "id": "RJEKJjnG2SiG"
      },
      "source": [
        "## Bước 2: Giới thiệu về Bài toán và Dữ liệu / Step 2: Problem and Dataset Introduction\n",
        "\n",
        "### Bối cảnh bài toán / Problem Context\n",
        "\n",
        "Giả sử bạn là một **Data Scientist** làm việc cho một bệnh viện lớn. Bệnh viện đã thu thập dữ liệu về phản ứng của 200 bệnh nhân với 5 loại thuốc khác nhau cho một căn bệnh cụ thể. Mục tiêu là xây dựng một **hệ thống hỗ trợ quyết định** giúp bác sĩ chọn loại thuốc phù hợp nhất cho bệnh nhân mới.  \n",
        "*Suppose you are a **Data Scientist** working for a large hospital. The hospital collected data on the responses of 200 patients to 5 different drugs for a specific disease. The goal is to build a **decision support system** to help doctors select the most suitable drug for a new patient.*\n",
        "\n",
        "### Mục tiêu phân tích / Analysis Objectives\n",
        "\n",
        "1. **Hiểu đặc điểm bệnh nhân / Understand patient characteristics**: Phân tích phân bố tuổi, giới tính, các chỉ số sức khỏe  \n",
        "2. **Khám phá mối quan hệ / Explore relationships**: Tìm hiểu mối liên hệ giữa các đặc điểm bệnh nhân và loại thuốc hiệu quả  \n",
        "3. **Phát hiện patterns / Discover patterns**: Tìm ra những quy luật ẩn trong dữ liệu  \n",
        "4. **Chuẩn bị cho modeling / Prepare for modeling**: Đánh giá tính khả thi của việc xây dựng mô hình dự đoán  \n",
        "\n",
        "### Mô tả Dataset / Dataset Description\n",
        "\n",
        "**Dataset**: `drug200.csv` - Dữ liệu phản ứng thuốc của 200 bệnh nhân  \n",
        "*Dataset: `drug200.csv` - Drug response data of 200 patients*\n",
        "\n",
        "| Tên cột / Column | Kiểu dữ liệu / Data Type | Mô tả / Description | Giá trị có thể / Possible Values |\n",
        "|-----------------|-------------------------|-------------------|--------------------------------|\n",
        "| **Age** | Numeric | Tuổi của bệnh nhân | 15-74 tuổi / 15-74 years |\n",
        "| **Sex** | Categorical | Giới tính | M (Nam / Male), F (Nữ / Female) |\n",
        "| **BP** | Categorical | Huyết áp | HIGH, NORMAL, LOW |\n",
        "| **Cholesterol** | Categorical | Mức cholesterol | HIGH, NORMAL |\n",
        "| **Na_to_K** | Numeric | Tỷ lệ Natri/Kali trong máu | 6.2 - 38.2 |\n",
        "| **Drug** | Categorical | Loại thuốc hiệu quả | drugA, drugB, drugC, drugX, drugY |\n",
        "\n",
        "### Ý nghĩa y học / Medical Significance\n",
        "\n",
        "- **Na_to_K ratio**: Chỉ số quan trọng phản ánh cân bằng điện giải trong cơ thể  \n",
        "*Important index reflecting electrolyte balance in the body*  \n",
        "- **Blood Pressure**: Yếu tố nguy cơ chính của nhiều bệnh tim mạch  \n",
        "*Major risk factor for many cardiovascular diseases*  \n",
        "- **Cholesterol**: Liên quan đến nguy cơ xơ vữa động mạch  \n",
        "*Related to atherosclerosis risk*  \n",
        "- **Age & Sex**: Các yếu tố nhân khẩu học ảnh hưởng đến chuyển hóa thuốc  \n",
        "*Demographic factors affecting drug metabolism*  \n",
        "\n",
        "> **Insight question / Câu hỏi insight**: Liệu có thể dự đoán loại thuốc phù hợp chỉ dựa trên các đặc điểm cơ bản này không?  \n",
        "*Can we predict the suitable drug solely based on these basic patient characteristics?*\n"
      ]
    },
    {
      "cell_type": "markdown",
      "metadata": {
        "id": "tsqKDbXU2WzI"
      },
      "source": [
        "##### ĐỌC DỮ LIỆU\n",
        "##### READ DATA"
      ]
    },
    {
      "cell_type": "markdown",
      "metadata": {
        "id": "yncvaorH2fdL"
      },
      "source": [
        "Trước khi huấn luyện Random Forest (hoặc bất kỳ mô hình nào), ta cần tiến hành tiền xử lý để đưa dữ liệu về dạng mà mô hình có thể hiểu được\n",
        "\n",
        "*Before training Random Forest (or any model), we need to preprocess the data to get it into a form that the model can understand.*"
      ]
    },
    {
      "cell_type": "code",
      "execution_count": 5,
      "metadata": {
        "colab": {
          "base_uri": "https://localhost:8080/",
          "height": 328
        },
        "id": "i8yBp-a92jrA",
        "outputId": "4512b9f4-c29f-4667-d1ad-f147d69887cc"
      },
      "outputs": [
        {
          "name": "stdout",
          "output_type": "stream",
          "text": [
            "Loading dataset...\n",
            "Dataset loaded successfully!\n",
            "Dataset size: 200 rows × 6 columns\n",
            "Memory usage: 45,580 bytes\n",
            "\n",
            "First 5 records in the dataset:\n",
            "============================================================\n"
          ]
        },
        {
          "data": {
            "text/html": [
              "<div>\n",
              "<style scoped>\n",
              "    .dataframe tbody tr th:only-of-type {\n",
              "        vertical-align: middle;\n",
              "    }\n",
              "\n",
              "    .dataframe tbody tr th {\n",
              "        vertical-align: top;\n",
              "    }\n",
              "\n",
              "    .dataframe thead th {\n",
              "        text-align: right;\n",
              "    }\n",
              "</style>\n",
              "<table border=\"1\" class=\"dataframe\">\n",
              "  <thead>\n",
              "    <tr style=\"text-align: right;\">\n",
              "      <th></th>\n",
              "      <th>Age</th>\n",
              "      <th>Sex</th>\n",
              "      <th>BP</th>\n",
              "      <th>Cholesterol</th>\n",
              "      <th>Na_to_K</th>\n",
              "      <th>Drug</th>\n",
              "    </tr>\n",
              "  </thead>\n",
              "  <tbody>\n",
              "    <tr>\n",
              "      <th>0</th>\n",
              "      <td>23</td>\n",
              "      <td>F</td>\n",
              "      <td>HIGH</td>\n",
              "      <td>HIGH</td>\n",
              "      <td>25.355</td>\n",
              "      <td>drugY</td>\n",
              "    </tr>\n",
              "    <tr>\n",
              "      <th>1</th>\n",
              "      <td>47</td>\n",
              "      <td>M</td>\n",
              "      <td>LOW</td>\n",
              "      <td>HIGH</td>\n",
              "      <td>13.093</td>\n",
              "      <td>drugC</td>\n",
              "    </tr>\n",
              "    <tr>\n",
              "      <th>2</th>\n",
              "      <td>47</td>\n",
              "      <td>M</td>\n",
              "      <td>LOW</td>\n",
              "      <td>HIGH</td>\n",
              "      <td>10.114</td>\n",
              "      <td>drugC</td>\n",
              "    </tr>\n",
              "    <tr>\n",
              "      <th>3</th>\n",
              "      <td>28</td>\n",
              "      <td>F</td>\n",
              "      <td>NORMAL</td>\n",
              "      <td>HIGH</td>\n",
              "      <td>7.798</td>\n",
              "      <td>drugX</td>\n",
              "    </tr>\n",
              "    <tr>\n",
              "      <th>4</th>\n",
              "      <td>61</td>\n",
              "      <td>F</td>\n",
              "      <td>LOW</td>\n",
              "      <td>HIGH</td>\n",
              "      <td>18.043</td>\n",
              "      <td>drugY</td>\n",
              "    </tr>\n",
              "  </tbody>\n",
              "</table>\n",
              "</div>"
            ],
            "text/plain": [
              "   Age Sex      BP Cholesterol  Na_to_K   Drug\n",
              "0   23   F    HIGH        HIGH   25.355  drugY\n",
              "1   47   M     LOW        HIGH   13.093  drugC\n",
              "2   47   M     LOW        HIGH   10.114  drugC\n",
              "3   28   F  NORMAL        HIGH    7.798  drugX\n",
              "4   61   F     LOW        HIGH   18.043  drugY"
            ]
          },
          "execution_count": 5,
          "metadata": {},
          "output_type": "execute_result"
        }
      ],
      "source": [
        "# Step 2.1: Load and Initial Exploration of Data (Bước 2.1: Đọc và khai phá dữ liệu ban đầu)\n",
        "\n",
        "import pandas as pd   # Import pandas library for table-like data processing (Import thư viện pandas, chuyên dùng để xử lý dữ liệu dạng bảng DataFrame)\n",
        "import numpy as np    # Import numpy library for fast numerical computations (Import thư viện numpy, hỗ trợ tính toán số học nhanh và hiệu quả)\n",
        "\n",
        "# Load dataset from CSV file (Đọc dataset từ file CSV)\n",
        "print(\"Loading dataset...\")  # Print message to indicate data loading (In ra thông báo để biết chương trình đang đọc dữ liệu)\n",
        "my_data = pd.read_csv(\"../data/drug200.csv\")  # Read 'drug200.csv' into a DataFrame called my_data (Đọc file \"drug200.csv\" và lưu vào biến my_data dưới dạng DataFrame)\n",
        "\n",
        "# Display basic dataset info (Hiển thị thông tin cơ bản về dataset)\n",
        "print(\"Dataset loaded successfully!\")  # Notify successful loading (Thông báo đã đọc dữ liệu thành công)\n",
        "print(f\"Dataset size: {my_data.shape[0]} rows × {my_data.shape[1]} columns\")\n",
        "# .shape returns (rows, columns). [0] is rows, [1] is columns (In ra dataset có bao nhiêu hàng và bao nhiêu cột)\n",
        "\n",
        "print(f\"Memory usage: {my_data.memory_usage(deep=True).sum():,} bytes\")\n",
        "# .memory_usage(deep=True) calculates memory per column; .sum() sums up total usage\n",
        "# Format with commas for readability (Tính dung lượng bộ nhớ của dataset, định dạng có dấu phẩy để dễ đọc)\n",
        "\n",
        "# Display first 5 records for an overview (Hiển thị 5 records đầu tiên để có cái nhìn tổng quan)\n",
        "print(\"\\nFirst 5 records in the dataset:\")\n",
        "print(\"=\"*60)  # Print 60 \"=\" as separator (In ra 60 dấu \"=\" để làm đường kẻ phân cách)\n",
        "my_data.head()  # Show first 5 rows (Hiển thị 5 hàng đầu tiên trong dataset)\n"
      ]
    },
    {
      "cell_type": "markdown",
      "metadata": {
        "id": "u_3wP-y02p8H"
      },
      "source": [
        "## Bước 3: Khai phá dữ liệu\n",
        "*Step 3: Data Exploration*\n",
        "\n",
        "**Khai phá dữ liệu** là quá trình **đặt câu hỏi** và **tìm kiếm câu trả lời** từ dữ liệu thông qua thống kê và trực quan hóa.  \n",
        "*Data exploration is the process of **asking questions** and **finding answers** from data using statistics and visualization.*\n",
        "\n",
        "Chúng ta sẽ thực hiện Khai phá dữ liệu theo các bước có hệ thống:  \n",
        "*We will perform data exploration following a systematic approach:*\n",
        "\n",
        "### Roadmap Khai phá dữ liệu\n",
        "*Data Exploration Roadmap*\n",
        "\n",
        "1. **Thống kê mô tả cơ bản** - Hiểu tổng quan về dữ liệu  \n",
        "   *Basic descriptive statistics - Understand the overview of the dataset*\n",
        "2. **Kiểm tra chất lượng dữ liệu** - Missing values, outliers, data types  \n",
        "   *Data quality check - Missing values, outliers, data types*\n",
        "3. **Phân tích đơn biến** - Phân phối của từng feature  \n",
        "   *Univariate analysis - Distribution of each feature*\n",
        "4. **Phân tích đa biến** - Mối quan hệ giữa các features  \n",
        "   *Multivariate analysis - Relationships among features*\n",
        "5. **Phân tích theo target** - Features vs Drug relationship  \n",
        "   *Target analysis - Features vs Drug relationship*\n",
        "\n",
        "### Các câu hỏi Khai phá dữ liệu quan trọng\n",
        "*Key Data Exploration Questions*\n",
        "\n",
        "- Dữ liệu có **missing values** không?  \n",
        "  *Are there any missing values in the dataset?*\n",
        "- Phân phối của các biến có **normal** không?  \n",
        "  *Are the feature distributions approximately normal?*\n",
        "- Có **outliers** nào cần xử lý không?  \n",
        "  *Are there any outliers that need handling?*\n",
        "- Features nào có **correlation** cao với target?  \n",
        "  *Which features are highly correlated with the target?*\n",
        "- Có **pattern** hoặc **trend** nào thú vị không?  \n",
        "  *Are there any interesting patterns or trends?*\n",
        "\n",
        "> **Mindset**: Hãy tò mò và đặt câu hỏi! Khai phá dữ liệu là nghệ thuật kể chuyện bằng dữ liệu.  \n",
        "> *Mindset*: Be curious and ask questions! Data exploration is the art of storytelling with data.\n"
      ]
    },
    {
      "cell_type": "code",
      "execution_count": 11,
      "metadata": {
        "colab": {
          "base_uri": "https://localhost:8080/"
        },
        "id": "QmlmkzMKJtKd",
        "outputId": "2f392173-d222-452d-d349-d18dd96f0825"
      },
      "outputs": [
        {
          "name": "stdout",
          "output_type": "stream",
          "text": [
            "Import thành công các thư viện Khai phá dữ liệu!\n",
            "Đã cấu hình style cho các biểu đồ\n"
          ]
        }
      ],
      "source": [
        "# Bước 3.1: Import các thư viện cần thiết cho Khai phá dữ liệu\n",
        "# Step 3.1: Import necessary libraries for Exploratory Data Analysis (EDA)\n",
        "import pandas as pd  # Đã import ở trên, nhưng import lại để đảm bảo / Already imported above, but imported again to ensure\n",
        "import seaborn as sns  # Thư viện trực quan hóa / Visualization library\n",
        "import matplotlib.pyplot as plt  # Thư viện vẽ biểu đồ cơ bản / Basic plotting library\n",
        "import numpy as np  # Tính toán số học / Numerical computations\n",
        "\n",
        "plt.style.use('fivethirtyeight')\n",
        "# TODO: chọn style cho biểu đồ / Choose a style for plots\n",
        "# Gợi ý / Suggestions:\n",
        "# - 'default'           → style mặc định, đơn giản, an toàn khi bắt đầu / Default style, simple and safe\n",
        "# - 'seaborn'           → style mềm mại, thường dùng cho phân tích dữ liệu / Soft style, commonly used for data analysis\n",
        "# - 'ggplot'            → giống ggplot2 trong R, hay dùng trong thống kê / Similar to ggplot2 in R, popular in statistics\n",
        "# - 'dark_background'   → nền đen, dữ liệu nổi bật, thích hợp trình chiếu / Dark background, data pops, good for presentations\n",
        "# - 'fivethirtyeight'   → phong cách giống trang báo FiveThirtyEight (rõ ràng, sắc nét) / Clear, sharp style like FiveThirtyEight\n",
        "\n",
        "sns.set_palette('husl')\n",
        "# TODO: chọn bảng màu / Choose a color palette\n",
        "# Gợi ý / Suggestions:\n",
        "# - \"husl\"   → bảng màu đa dạng, tươi sáng, dễ phân biệt nhiều nhóm / Bright, colorful, good for multiple groups\n",
        "# - \"deep\"   → màu đậm, chuyên nghiệp, hay dùng khi viết báo cáo / Darker, professional, report-friendly\n",
        "# - \"muted\"  → màu dịu, dễ nhìn, ít gây chói mắt / Soft colors, easy on the eyes\n",
        "# - \"pastel\" → màu pastel, nhẹ nhàng, dễ dùng cho trẻ em/học sinh / Pastel, gentle, kid-friendly\n",
        "# - \"bright\" → màu tươi, nổi bật, bắt mắt / Bright, vibrant\n",
        "# - \"dark\"   → bảng màu tối, dùng trong báo cáo kỹ thuật / Dark palette, technical report\n",
        "# - [\"#FF0000\", \"#00FF00\", \"#0000FF\"] → tự định nghĩa bằng mã hex, linh hoạt / Custom colors via hex codes\n",
        "\n",
        "plt.rcParams['figure.figsize'] = (12, 9)\n",
        "# TODO: chỉnh kích thước figure / Set figure size\n",
        "# Gợi ý / Suggestions:\n",
        "# - (10, 6)  → vừa phải, đủ hiển thị dữ liệu / Mod)erate size, good for general plots\n",
        "# - (12, 8)  → rộng hơn, phù hợp với dữ liệu nhiều cột / Wider, suitable for multiple columns\n",
        "# - (8, 5)   → nhỏ gọn, tiết kiệm không gian / Compact, saves space\n",
        "# - (15, 10) → biểu đồ rất lớn, in trong báo cáo hoặc poster / Very large, for reports or posters\n",
        "\n",
        "plt.rcParams['font.size'] = 12\n",
        "# TODO: chỉnh kích thước font / Set font size\n",
        "# Gợi ý / Suggestions:\n",
        "# - 12  → mặc định, cân bằng giữa rõ và gọn / Default, balanced\n",
        "# - 10  → chữ nhỏ, khi muốn hiển thị nhiều thông tin trong 1 biểu đồ / Small font, shows more info\n",
        "# - 14  → chữ to hơn, dễ đọc khi chiếu slide / Slightly larger, good for slides\n",
        "# - 16+ → chữ rất to, phù hợp với poster hoặc thuyết trình trước đông người / Very large, for posters or presentations\n",
        "\n",
        "print(\"Import thành công các thư viện Khai phá dữ liệu!\")  # Libraries imported successfully / Import thư viện thành công\n",
        "print(\"Đã cấu hình style cho các biểu đồ\")  # Plot styles configured / Style biểu đồ đã được cấu hình\n"
      ]
    },
    {
      "cell_type": "markdown",
      "metadata": {
        "id": "g5MH8MaEEREH"
      },
      "source": [
        "### Bước 3.2: Thống kê Mô tả Cơ bản  \n",
        "*Step 3.2: Basic Descriptive Statistics*\n",
        "\n",
        "Trước khi đi sâu vào trực quan hóa, chúng ta cần hiểu các **đặc trưng cơ bản** của dataset:  \n",
        "*Before diving into visualization, we need to understand the **basic characteristics** of the dataset:*\n",
        "\n",
        "- **Kích thước và cấu trúc** của dữ liệu  \n",
        "  *Size and structure of the data*  \n",
        "- **Kiểu dữ liệu** của từng cột  \n",
        "  *Data types of each column*  \n",
        "- **Thống kê tóm tắt** cho các biến số  \n",
        "  *Summary statistics for numeric variables*  \n",
        "- **Giá trị thiếu** và các vấn đề chất lượng dữ liệu  \n",
        "  *Missing values and potential data quality issues*\n",
        "\n",
        "**Mục đích**: Có được cái nhìn tổng quan về dataset trước khi phân tích chi tiết  \n",
        "*Purpose: To have a \"bird's eye view\" of the dataset before detailed analysis*\n"
      ]
    },
    {
      "cell_type": "code",
      "execution_count": 13,
      "metadata": {
        "colab": {
          "base_uri": "https://localhost:8080/"
        },
        "id": "Aitzdwq_JvBd",
        "outputId": "d936bd43-4fe0-4d3b-c580-305972e6650a"
      },
      "outputs": [
        {
          "name": "stdout",
          "output_type": "stream",
          "text": [
            "DATASET OVERVIEW (THÔNG TIN TỔNG QUAN VỀ DATASET)\n",
            "==================================================\n",
            "Size: 200 rows × 6 columns (Kích thước)\n",
            "Memory usage: 45,580 bytes (Dung lượng bộ nhớ)\n",
            "\n",
            "DETAILED COLUMN INFO (THÔNG TIN CHI TIẾT VỀ CÁC CỘT):\n",
            "--------------------------------------------------\n",
            "<class 'pandas.core.frame.DataFrame'>\n",
            "RangeIndex: 200 entries, 0 to 199\n",
            "Data columns (total 6 columns):\n",
            " #   Column       Non-Null Count  Dtype  \n",
            "---  ------       --------------  -----  \n",
            " 0   Age          200 non-null    int64  \n",
            " 1   Sex          200 non-null    object \n",
            " 2   BP           200 non-null    object \n",
            " 3   Cholesterol  200 non-null    object \n",
            " 4   Na_to_K      200 non-null    float64\n",
            " 5   Drug         200 non-null    object \n",
            "dtypes: float64(1), int64(1), object(4)\n",
            "memory usage: 9.5+ KB\n",
            "\n",
            "INITIAL INSIGHTS (INSIGHTS BAN ĐẦU):\n",
            "• Dataset has 6 features and 1 target variable (Dataset có 6 thuộc tính và 1 biến mục tiêu)\n",
            "• Total of 200 patients in the study (Tổng cộng 200 bệnh nhân trong nghiên cứu)\n",
            "• Mix of numeric features (Age, Na_to_K) and categorical features (Kết hợp các thuộc tính số và phân loại)\n",
            "• No missing values - data is cleaned (Không có missing values - dữ liệu đã được làm sạch!)\n"
          ]
        }
      ],
      "source": [
        "# Step 3.2.1: Overview of the dataset (Bước 3.2.1: Thông tin tổng quan về dataset)\n",
        "print(\"DATASET OVERVIEW (THÔNG TIN TỔNG QUAN VỀ DATASET)\")\n",
        "print(\"=\"*50)\n",
        "\n",
        "# Display basic information about dataset structure (Hiển thị thông tin cơ bản về cấu trúc dữ liệu)\n",
        "print(f\"Size: {my_data.shape[0]} rows × {my_data.shape[1]} columns (Kích thước)\")\n",
        "print(f\"Memory usage: {my_data.memory_usage(deep=True).sum():,} bytes (Dung lượng bộ nhớ)\")\n",
        "\n",
        "print(\"\\nDETAILED COLUMN INFO (THÔNG TIN CHI TIẾT VỀ CÁC CỘT):\")\n",
        "print(\"-\"*50)\n",
        "my_data.info()  # Show info about each column (Hiển thị thông tin về từng cột)\n",
        "\n",
        "print(\"\\nINITIAL INSIGHTS (INSIGHTS BAN ĐẦU):\")\n",
        "print(f\"• Dataset has {my_data.shape[1]} features and 1 target variable (Dataset có {my_data.shape[1]} thuộc tính và 1 biến mục tiêu)\")\n",
        "print(f\"• Total of {my_data.shape[0]} patients in the study (Tổng cộng {my_data.shape[0]} bệnh nhân trong nghiên cứu)\")\n",
        "print(f\"• Mix of numeric features (Age, Na_to_K) and categorical features (Kết hợp các thuộc tính số và phân loại)\")\n",
        "print(f\"• No missing values - data is cleaned (Không có missing values - dữ liệu đã được làm sạch!)\")\n"
      ]
    },
    {
      "cell_type": "code",
      "execution_count": 18,
      "metadata": {
        "colab": {
          "base_uri": "https://localhost:8080/",
          "height": 613
        },
        "id": "ZC0dXI4SJxNI",
        "outputId": "f90b159f-8dec-4b60-9826-134d4a08139f"
      },
      "outputs": [
        {
          "name": "stdout",
          "output_type": "stream",
          "text": [
            "THỐNG KÊ MÔ TẢ CHO CÁC BIẾN SỐ\n",
            "==================================================\n",
            "Bảng thống kê tóm tắt:\n"
          ]
        },
        {
          "data": {
            "text/html": [
              "<div>\n",
              "<style scoped>\n",
              "    .dataframe tbody tr th:only-of-type {\n",
              "        vertical-align: middle;\n",
              "    }\n",
              "\n",
              "    .dataframe tbody tr th {\n",
              "        vertical-align: top;\n",
              "    }\n",
              "\n",
              "    .dataframe thead th {\n",
              "        text-align: right;\n",
              "    }\n",
              "</style>\n",
              "<table border=\"1\" class=\"dataframe\">\n",
              "  <thead>\n",
              "    <tr style=\"text-align: right;\">\n",
              "      <th></th>\n",
              "      <th>Age</th>\n",
              "      <th>Na_to_K</th>\n",
              "    </tr>\n",
              "  </thead>\n",
              "  <tbody>\n",
              "    <tr>\n",
              "      <th>count</th>\n",
              "      <td>200.000000</td>\n",
              "      <td>200.000000</td>\n",
              "    </tr>\n",
              "    <tr>\n",
              "      <th>mean</th>\n",
              "      <td>44.315000</td>\n",
              "      <td>16.084485</td>\n",
              "    </tr>\n",
              "    <tr>\n",
              "      <th>std</th>\n",
              "      <td>16.544315</td>\n",
              "      <td>7.223956</td>\n",
              "    </tr>\n",
              "    <tr>\n",
              "      <th>min</th>\n",
              "      <td>15.000000</td>\n",
              "      <td>6.269000</td>\n",
              "    </tr>\n",
              "    <tr>\n",
              "      <th>25%</th>\n",
              "      <td>31.000000</td>\n",
              "      <td>10.445500</td>\n",
              "    </tr>\n",
              "    <tr>\n",
              "      <th>50%</th>\n",
              "      <td>45.000000</td>\n",
              "      <td>13.936500</td>\n",
              "    </tr>\n",
              "    <tr>\n",
              "      <th>75%</th>\n",
              "      <td>58.000000</td>\n",
              "      <td>19.380000</td>\n",
              "    </tr>\n",
              "    <tr>\n",
              "      <th>max</th>\n",
              "      <td>74.000000</td>\n",
              "      <td>38.247000</td>\n",
              "    </tr>\n",
              "  </tbody>\n",
              "</table>\n",
              "</div>"
            ],
            "text/plain": [
              "              Age     Na_to_K\n",
              "count  200.000000  200.000000\n",
              "mean    44.315000   16.084485\n",
              "std     16.544315    7.223956\n",
              "min     15.000000    6.269000\n",
              "25%     31.000000   10.445500\n",
              "50%     45.000000   13.936500\n",
              "75%     58.000000   19.380000\n",
              "max     74.000000   38.247000"
            ]
          },
          "metadata": {},
          "output_type": "display_data"
        },
        {
          "name": "stdout",
          "output_type": "stream",
          "text": [
            "\n",
            "PHÂN TÍCH CHI TIẾT:\n",
            "• AGE: Từ 15 đến 74 tuổi\n",
            "  - Tuổi trung bình: 45.0 tuổi\n",
            "  - Độ lệch chuẩn: 16.5 tuổi\n",
            "\n",
            "• NA_TO_K: Từ 6.269 đến 38.247\n",
            "  - Giá trị trung bình: 16.08\n",
            "  - Độ lệch chuẩn: 7.22\n",
            "\n",
            "QUARTILES (Na_to_K):\n",
            "  - Q1 (25%): 10.45\n",
            "  - Q2 (50% - Median): 13.94\n",
            "  - Q3 (75%): 19.38\n",
            "  - IQR: 8.93\n"
          ]
        }
      ],
      "source": [
        "# Bước 3.2.2: Thống kê mô tả cho các biến số (numeric variables)\n",
        "print(\"THỐNG KÊ MÔ TẢ CHO CÁC BIẾN SỐ\")  # Print header / In tiêu đề\n",
        "print(\"=\"*50)\n",
        "\n",
        "# Tạo bảng thống kê chi tiết cho biến số\n",
        "numeric_stats = my_data.describe()  # TODO: chọn hàm thống kê thích hợp\n",
        "# TODO: choose appropriate function / chọn hàm thống kê thích hợp\n",
        "# Gợi ý / Suggestion:\n",
        "# - .describe() → thống kê cơ bản (mean, std, min, quartiles, max)\n",
        "# - .agg(['mean','std']) → chỉ tính trung bình và độ lệch chuẩn\n",
        "# - .describe(percentiles=[0.1,0.9]) → thêm phân vị khác (10%, 90%)\n",
        "\n",
        "print(\"Bảng thống kê tóm tắt:\")  # Print summary / In bảng tóm tắt\n",
        "display(numeric_stats)  # TODO: hiển thị hoặc lưu kết quả\n",
        "# TODO: display or save result / hiển thị hoặc lưu kết quả\n",
        "# Gợi ý / Suggestion:\n",
        "# - display(numeric_stats) → hiển thị (Jupyter)\n",
        "# - print(numeric_stats) → in ra console\n",
        "# - numeric_stats.to_csv(\"stats.csv\") → lưu ra file\n",
        "\n",
        "# Phân tích chi tiết từng biến số\n",
        "print(\"\\nPHÂN TÍCH CHI TIẾT:\")  # Detailed analysis / Phân tích chi tiết\n",
        "\n",
        "print(f\"• AGE: Từ {my_data['Age'].min()} đến {my_data['Age'].max()} tuổi\")\n",
        "# TODO: điền min(), max(), hoặc thay bằng quantile(0.x)\n",
        "# TODO: fill min(), max(), or quantile(0.x) / điền min(), max() hoặc quantile\n",
        "\n",
        "print(f\"  - Tuổi trung bình: {my_data['Age'].median():.1f} tuổi\")\n",
        "# TODO: điền mean() hoặc median()\n",
        "# TODO: fill mean() or median() / điền mean() hoặc median()\n",
        "\n",
        "print(f\"  - Độ lệch chuẩn: {my_data['Age'].std():.1f} tuổi\")\n",
        "# TODO: điền std() hoặc var()\n",
        "# TODO: fill std() or var() / điền std() hoặc var()\n",
        "\n",
        "print(f\"\\n• NA_TO_K: Từ {my_data['Na_to_K'].min()} đến {my_data['Na_to_K'].max()}\")\n",
        "# TODO: điền min(), max(), hoặc quantile()\n",
        "# TODO: fill min(), max(), or quantile / điền min(), max() hoặc quantile\n",
        "\n",
        "print(f\"  - Giá trị trung bình: {my_data['Na_to_K'].mean():.2f}\")\n",
        "# TODO: điền mean() hoặc median()\n",
        "# TODO: fill mean() or median / điền mean() hoặc median\n",
        "\n",
        "print(f\"  - Độ lệch chuẩn: {my_data['Na_to_K'].std():.2f}\")\n",
        "# TODO: điền std() hoặc var()\n",
        "# TODO: fill std() or var / điền std() hoặc var\n",
        "\n",
        "print(f\"\\nQUARTILES (Na_to_K):\")\n",
        "print(f\"  - Q1 (25%): {my_data['Na_to_K'].quantile(0.25):.2f}\")\n",
        "# TODO: dùng quantile(0.25)\n",
        "# TODO: use quantile(0.25) / dùng quantile(0.25)\n",
        "print(f\"  - Q2 (50% - Median): {my_data['Na_to_K'].quantile(0.5):.2f}\")\n",
        "# TODO: dùng quantile(0.5)\n",
        "# TODO: use quantile(0.5) / dùng quantile(0.5)\n",
        "print(f\"  - Q3 (75%): {my_data['Na_to_K'].quantile(0.75):.2f}\")\n",
        "# TODO: dùng quantile(0.75)\n",
        "# TODO: use quantile(0.75) / dùng quantile(0.75)\n",
        "print(f\"  - IQR: {my_data['Na_to_K'].quantile(0.75) - my_data['Na_to_K'].quantile(0.25):.2f}\")\n",
        "# TODO: tính hiệu giữa Q3 và Q1\n",
        "# TODO: calculate difference between Q3 and Q1 / tính hiệu Q3 - Q1\n"
      ]
    },
    {
      "cell_type": "code",
      "execution_count": 24,
      "metadata": {
        "colab": {
          "base_uri": "https://localhost:8080/"
        },
        "id": "7Y2Xsf7IJzMo",
        "outputId": "f6c9290b-2804-428d-ae26-d690940d959f"
      },
      "outputs": [
        {
          "name": "stdout",
          "output_type": "stream",
          "text": [
            "KIỂM TRA CHẤT LƯỢNG DỮ LIỆU\n",
            "==================================================\n",
            "MISSING VALUES:\n",
            "Age            0\n",
            "Sex            0\n",
            "BP             0\n",
            "Cholesterol    0\n",
            "Na_to_K        0\n",
            "Drug           0\n",
            "dtype: int64\n",
            "Tuyệt vời! Không có missing values nào\n",
            "\n",
            "DUPLICATE RECORDS: 0\n",
            "Không có bản ghi trùng lặp\n",
            "\n",
            "CATEGORICAL VARIABLES - UNIQUE VALUES:\n",
            "• Sex: 2 unique values → ['F', 'M']\n",
            "• BP: 3 unique values → ['HIGH', 'LOW', 'NORMAL']\n",
            "• Cholesterol: 2 unique values → ['HIGH', 'NORMAL']\n",
            "• Drug: 5 unique values → ['drugY', 'drugC', 'drugX', 'drugA', 'drugB']\n",
            "\n",
            "DISTRIBUTION SUMMARY:\n",
            "• Tổng số features: 6\n",
            "• Numeric features: 2\n",
            "• Categorical features: 4\n",
            "• Data quality: EXCELLENT\n"
          ]
        }
      ],
      "source": [
        "# Bước 3.2.3: Kiểm tra data quality - Missing values và duplicates\n",
        "# Step 3.2.3: Data quality check - Missing values and duplicates\n",
        "print(\"KIỂM TRA CHẤT LƯỢNG DỮ LIỆU\")  # Data quality check header / In tiêu đề\n",
        "print(\"=\"*50)                          # Decorative line / Dòng phân cách\n",
        "\n",
        "# Kiểm tra missing values / Check for missing values\n",
        "missing_values = my_data.isnull().sum()    # TODO: kiểm tra giá trị thiếu / check for missing values\n",
        "# Gợi ý / Suggestions:\n",
        "# - isnull().sum() → số lượng missing values theo từng cột / count missing values per column\n",
        "# - isna().sum() → tương tự như trên / same as above\n",
        "\n",
        "print(\"MISSING VALUES:\")\n",
        "print(missing_values)  # In ra số lượng missing values / Print missing values\n",
        "\n",
        "if missing_values.sum() == 0:   # TODO: tính tổng số missing values / total missing values\n",
        "    print(\"Tuyệt vời! Không có missing values nào\")  # No missing values\n",
        "else:\n",
        "    print(f\"Có {missing_values.sum()} missing values cần xử lý\")  # TODO: có thể dùng sum() để cộng tất cả missing values / total missing values\n",
        "\n",
        "# Kiểm tra duplicate records / Check for duplicate records\n",
        "duplicates = my_data.duplicated().sum()   # TODO: tìm số bản ghi trùng lặp / find number of duplicate rows\n",
        "# Gợi ý / Suggestions:\n",
        "# - duplicated().sum() → tổng số dòng trùng lặp / total duplicate rows\n",
        "# - drop_duplicates() → loại bỏ bản ghi trùng / remove duplicates\n",
        "\n",
        "print(f\"\\nDUPLICATE RECORDS: {duplicates}\")  # In số bản ghi trùng / Print duplicate count\n",
        "if duplicates == 0:\n",
        "    print(\"Không có bản ghi trùng lặp\")  # No duplicates\n",
        "else:\n",
        "    print(f\"Có {duplicates} bản ghi trùng lặp cần xử lý\")  # There are duplicates to handle\n",
        "\n",
        "# Kiểm tra unique values cho categorical variables / Check unique values for categorical variables\n",
        "print(f\"\\nCATEGORICAL VARIABLES - UNIQUE VALUES:\")\n",
        "categorical_cols = ['Sex', 'BP', 'Cholesterol', 'Drug']\n",
        "for col in categorical_cols:\n",
        "    unique_vals = my_data[col].nunique()   # TODO: số lượng giá trị unique / count unique values\n",
        "    values = my_data[col].unique()        # TODO: liệt kê các giá trị / list unique values\n",
        "    # Gợi ý / Suggestions:\n",
        "    # - .nunique() → đếm số unique values / count unique\n",
        "    # - .unique() → danh sách các giá trị khác nhau / list unique values\n",
        "    print(f\"• {col}: {unique_vals} unique values → {list(values)}\")\n",
        "\n",
        "print(f\"\\nDISTRIBUTION SUMMARY:\")  # Tóm tắt phân bố / Distribution summary\n",
        "print(f\"• Tổng số features: {len(my_data.columns)}\")\n",
        "# TODO: .columns để lấy danh sách cột / use .columns to get column list\n",
        "\n",
        "print(f\"• Numeric features: {len(my_data.select_dtypes(include=[np.number]).columns)}\")\n",
        "# TODO: select_dtypes(include=[np.number]).columns → chọn các biến số / select numeric variables\n",
        "\n",
        "print(f\"• Categorical features: {len(my_data.select_dtypes(include=['object']).columns)}\")\n",
        "# TODO: select_dtypes(include=['object']).columns → chọn biến phân loại / select categorical variables\n",
        "\n",
        "print(f\"• Data quality: EXCELLENT\")\n",
        "# Gợi ý / Suggestions:\n",
        "# - \"EXCELLENT\" → khi không có missing values và duplicates / if no missing or duplicates\n",
        "# - \"NEEDS CLEANING\" → khi có missing values hoặc duplicates / if missing or duplicates exist\n",
        "# - Hoặc tự định nghĩa các mức chất lượng khác / Or define custom quality levels\n"
      ]
    },
    {
      "cell_type": "markdown",
      "metadata": {
        "id": "xR_n2mgOEREI"
      },
      "source": [
        "### Bước 3.3: Trực quan hóa Phân phối Dữ liệu  \n",
        "*Step 3.3: Data Distribution Visualization*\n",
        "\n",
        "Sau khi hiểu được thống kê cơ bản, chúng ta sẽ **trực quan hóa** dữ liệu để:  \n",
        "*After understanding basic statistics, we will **visualize** the data to:*\n",
        "\n",
        "1. **Hiểu phân phối** của từng biến  \n",
        "   *Understand the distribution of each variable*  \n",
        "2. **Phát hiện outliers** và anomalies  \n",
        "   *Detect outliers and anomalies*  \n",
        "3. **Khám phá patterns** ẩn trong dữ liệu  \n",
        "   *Discover hidden patterns in the data*  \n",
        "4. **So sánh các nhóm** khác nhau  \n",
        "   *Compare different groups*\n",
        "\n",
        "**Nguyên tắc visualization**: Mỗi biểu đồ phải trả lời được một câu hỏi cụ thể về dữ liệu  \n",
        "*Visualization principle*: Each plot should answer a specific question about the data.\n",
        "\n",
        "#### Câu hỏi cần trả lời / Questions to answer:\n",
        "- Các biến categorical có **cân bằng** không?  \n",
        "  *Are the categorical variables balanced?*  \n",
        "- Phân phối của Age và Na_to_K như thế nào?  \n",
        "  *What is the distribution of Age and Na_to_K?*  \n",
        "- Có **outliers** trong dữ liệu không?  \n",
        "  *Are there outliers in the data?*  \n",
        "- Mối quan hệ giữa features và target (Drug) ra sao?  \n",
        "  *What is the relationship between features and the target (Drug)?*\n"
      ]
    },
    {
      "cell_type": "code",
      "execution_count": 44,
      "metadata": {
        "colab": {
          "base_uri": "https://localhost:8080/",
          "height": 1000
        },
        "id": "Jldpkln3J1DX",
        "outputId": "1c767af6-e625-46d5-9db7-f2a0e5167bbe"
      },
      "outputs": [
        {
          "name": "stdout",
          "output_type": "stream",
          "text": [
            "PHÂN TÍCH PHÂN BỐ CÁC BIẾN PHÂN LOẠI\n",
            "==================================================\n",
            "\n",
            "SEX:\n",
            "  • M: 104 bệnh nhân (52.0%)\n",
            "  • F: 96 bệnh nhân (48.0%)\n",
            "\n",
            "BP:\n",
            "  • HIGH: 77 bệnh nhân (38.5%)\n",
            "  • LOW: 64 bệnh nhân (32.0%)\n",
            "  • NORMAL: 59 bệnh nhân (29.5%)\n",
            "\n",
            "CHOLESTEROL:\n",
            "  • HIGH: 103 bệnh nhân (51.5%)\n",
            "  • NORMAL: 97 bệnh nhân (48.5%)\n",
            "\n",
            "DRUG:\n",
            "  • drugY: 91 bệnh nhân (45.5%)\n",
            "  • drugX: 54 bệnh nhân (27.0%)\n",
            "  • drugA: 23 bệnh nhân (11.5%)\n",
            "  • drugC: 16 bệnh nhân (8.0%)\n",
            "  • drugB: 16 bệnh nhân (8.0%)\n"
          ]
        },
        {
          "data": {
            "text/plain": [
              "<Figure size 1200x900 with 0 Axes>"
            ]
          },
          "metadata": {},
          "output_type": "display_data"
        },
        {
          "data": {
            "image/png": "[encoded data removed]",
            "text/plain": [
              "<Figure size 1200x900 with 4 Axes>"
            ]
          },
          "metadata": {},
          "output_type": "display_data"
        },
        {
          "name": "stdout",
          "output_type": "stream",
          "text": [
            "\n",
            "KEY INSIGHTS:\n",
            "• Giới tính: \n",
            "Cân bằng\n",
            "• Huyết áp: \n",
            "Giá trị có tần suất cao nhất: HIGH\n",
            "• Cholesterol: \n",
            "Giá trị có tần suất cao nhất: HIGH\n",
            "• Drug distribution: TODO\n",
            "Loại thuốc phổ biến nhất: drugY\n"
          ]
        },
        {
          "name": "stderr",
          "output_type": "stream",
          "text": [
            "C:\\Users\\DELL\\AppData\\Local\\Temp\\ipykernel_31536\\756720252.py:60: FutureWarning: Series.__getitem__ treating keys as positions is deprecated. In a future version, integer keys will always be treated as labels (consistent with DataFrame behavior). To access a value by position, use `ser.iloc[pos]`\n",
            "  num_gen1 = my_data['Sex'].value_counts()[0]\n",
            "C:\\Users\\DELL\\AppData\\Local\\Temp\\ipykernel_31536\\756720252.py:61: FutureWarning: Series.__getitem__ treating keys as positions is deprecated. In a future version, integer keys will always be treated as labels (consistent with DataFrame behavior). To access a value by position, use `ser.iloc[pos]`\n",
            "  num_gen2 = my_data['Sex'].value_counts()[0]\n"
          ]
        }
      ],
      "source": [
        "# Bước 3.3.1: Phân bố các biến phân loại (Categorical Variables)\n",
        "# Step 3.3.1: Distribution of Categorical Variables\n",
        "print(\"PHÂN TÍCH PHÂN BỐ CÁC BIẾN PHÂN LOẠI\")  # Print header / In tiêu đề\n",
        "print(\"=\"*50)                                  # Decorative line / Dòng phân cách\n",
        "\n",
        "# Tạo subplot cho 4 biến categorical / Create subplots for 4 categorical variables\n",
        "plt.figure(figsize=(12, 9))\n",
        "fig, axes = plt.subplots(2, 2)   # TODO: tạo figure và axes (gợi ý: subplots(2,2,figsize=(15,10)))\n",
        "\n",
        "# Suggestions:\n",
        "# - plt.subplots(2,2) → 4 subplots\n",
        "# - figsize=(w,h) → set figure size\n",
        "\n",
        "fig.suptitle(\"PHÂN BỐ CÁC BIẾN PHÂN LOẠI\", fontsize=16, fontweight='bold')\n",
        "# TODO: nhập tiêu đề chính cho figure / main title for figure\n",
        "\n",
        "# Danh sách các biến cần vẽ / List of columns to plot\n",
        "categorical_cols = ['Sex', 'BP', 'Cholesterol', 'Drug']    # TODO: liệt kê tên các cột phân loại (ví dụ: [\"Sex\",\"BP\",\"Cholesterol\",\"Drug\"])\n",
        "colors = ['skyblue', 'orange', 'lightcoral', 'red']              # TODO: chọn danh sách màu (gợi ý: ['skyblue','lightcoral',...])\n",
        "\n",
        "# Vẽ từng biểu đồ / Plot each chart\n",
        "for i, col in enumerate(categorical_cols):\n",
        "    row, col_idx = i // 2, i % 2\n",
        "    ax = axes[row, col_idx]\n",
        "\n",
        "    # Đếm tần suất / Count frequency\n",
        "    value_counts = my_data[col].value_counts()    # TODO: đếm số lượng các giá trị\n",
        "    # Suggestions:\n",
        "    # - value_counts() → count each category\n",
        "    # - nunique() → number of unique categories (less used here)\n",
        "\n",
        "    # Vẽ biểu đồ cột / Draw bar chart\n",
        "    sns.countplot(data=my_data, x=col, ax=ax, color=colors[i], order=value_counts.index)\n",
        "    # TODO: chọn hàm vẽ (gợi ý: countplot)\n",
        "\n",
        "    # Thiết lập tiêu đề và labels / Set title and labels\n",
        "    ax.set_title(f'Phân bố {col}', fontweight='bold', fontsize=12)\n",
        "    ax.set_xlabel(f\"{col}\", fontweight='bold')   # TODO: gán nhãn trục X / X-axis label\n",
        "    ax.set_ylabel(\"Số lượng bệnh nhân\", fontweight='bold')   # TODO: gán nhãn trục Y / Y-axis label\n",
        "\n",
        "    # Thêm số liệu trên mỗi cột / Annotate bars with values\n",
        "    for p in ax.patches:\n",
        "        ax.annotate(f'{int(p.get_height())}',\n",
        "                (p.get_x() + p.get_width()/2., p.get_height()),\n",
        "                 ha='center', va='bottom', fontweight='bold')\n",
        "\n",
        "    # In thống kê summary / Print frequency summary\n",
        "    print(f\"\\n{col.upper()}:\")\n",
        "    for category, count in value_counts.items():\n",
        "        percentage = (count / len(my_data)) * 100\n",
        "        print(f\"  • {category}: {count} bệnh nhân ({percentage:.1f}%)\")  # Patients count and percentage\n",
        "\n",
        "plt.tight_layout()    # TODO: căn chỉnh layout (gợi ý: tight_layout()) / adjust layout\n",
        "plt.show()    # TODO: hiển thị biểu đồ (gợi ý: show()) / display figure\n",
        "\n",
        "# Tổng kết insights / Summarize key insights\n",
        "print(f\"\\nKEY INSIGHTS:\")\n",
        "\n",
        "print(f\"• Giới tính: \")\n",
        "num_gen1 = my_data['Sex'].value_counts()[0]\n",
        "num_gen2 = my_data['Sex'].value_counts()[0]\n",
        "if num_gen1 / num_gen2 * 100 > 85:\n",
        "    print(\"Cân bằng\")\n",
        "else:\n",
        "    print(\"Không cân bằng\")\n",
        "# Gợi ý / Suggestion:\n",
        "# - Dùng value_counts() để so sánh nam vs nữ / use value_counts() to compare M vs F\n",
        "# - Điều kiện if … else để in “Cân bằng” hoặc “Không cân bằng” / if-else for \"Balanced\" or \"Unbalanced\"\n",
        "\n",
        "print(f\"• Huyết áp: \")\n",
        "print(f\"Giá trị có tần suất cao nhất: {my_data['BP'].mode()[0]}\")\n",
        "# Gợi ý: lấy mode hoặc giá trị tần suất cao nhất / take mode or value_counts().index[0]\n",
        "\n",
        "print(f\"• Cholesterol: \")\n",
        "print(f\"Giá trị có tần suất cao nhất: {my_data['Cholesterol'].mode()[0]}\")\n",
        "# Gợi ý: tương tự như trên / same as above\n",
        "\n",
        "print(f\"• Drug distribution: TODO\")\n",
        "print(f\"Loại thuốc phổ biến nhất: {my_data['Drug'].mode()[0]}\")\n",
        "\n",
        "# Gợi ý: value_counts().index[0] → loại thuốc phổ biến nhất / most prescribed drug\n"
      ]
    },
    {
      "cell_type": "code",
      "execution_count": 47,
      "metadata": {
        "colab": {
          "base_uri": "https://localhost:8080/",
          "height": 400
        },
        "id": "PvHxz8eAJ35A",
        "outputId": "eb785673-1699-4ed6-b988-2bd31ab3750f"
      },
      "outputs": [
        {
          "data": {
            "text/plain": [
              "<Figure size 1200x400 with 0 Axes>"
            ]
          },
          "metadata": {},
          "output_type": "display_data"
        },
        {
          "data": {
            "image/png": "[encoded data removed]",
            "text/plain": [
              "<Figure size 1200x900 with 2 Axes>"
            ]
          },
          "metadata": {},
          "output_type": "display_data"
        }
      ],
      "source": [
        "# Phân bố các biến số / Distribution of numeric variables\n",
        "plt.figure(figsize=(12, 4))\n",
        "fig, axes = plt.subplots(1, 2) \n",
        "# TODO: tạo subplot / create subplots\n",
        "# Gợi ý / Suggestion: plt.subplots(1, 2, figsize=(12,4)) → 1 hàng, 2 cột, kích thước 12×4\n",
        "# 1 row, 2 columns, figure size 12×4\n",
        "\n",
        "# Histogram Age\n",
        "sns.histplot(my_data[\"Age\"], bins=20, kde=True, ax=axes[0], color='skyblue')\n",
        "# TODO: vẽ biểu đồ histogram / draw histogram\n",
        "# Gợi ý / Suggestion:\n",
        "# - dùng histplot / use histplot\n",
        "# - bins=20 (số khoảng chia dữ liệu / number of bins)\n",
        "# - kde=True (có đường cong mật độ / with density curve), kde=False (không vẽ đường mật độ / no density curve)\n",
        "# ax=axes[0]: vẽ vào subplot đầu tiên (bên trái / left subplot)\n",
        "\n",
        "axes[0].set_title(\"Phân bố Age\")\n",
        "# TODO: đặt tiêu đề cho biểu đồ / set title\n",
        "# Gợi ý / Suggestion: set_title(\"\")\n",
        "\n",
        "# Histogram Na_to_K\n",
        "sns.histplot(my_data[\"Na_to_K\"], bins=20, kde=True, ax=axes[1])\n",
        "# TODO: vẽ histogram cho biến Na_to_K / draw histogram for Na_to_K\n",
        "# Gợi ý / Suggestion:\n",
        "# - histplot\n",
        "# - bins=20\n",
        "# - kde=True hoặc False\n",
        "\n",
        "axes[1].set_title(\"Phân bố Na_to_K\")\n",
        "# TODO: đặt tiêu đề cho biểu đồ / set title\n",
        "\n",
        "plt.tight_layout()\n",
        "# TODO: căn chỉnh layout / adjust layout\n",
        "# Gợi ý / Suggestion: tight_layout()\n",
        "\n",
        "plt.show()\n",
        "# TODO: hiển thị biểu đồ / display figure\n",
        "# Gợi ý / Suggestion: show()\n"
      ]
    },
    {
      "cell_type": "code",
      "execution_count": 54,
      "metadata": {
        "colab": {
          "base_uri": "https://localhost:8080/",
          "height": 498
        },
        "id": "8uU_0B5FJ6hN",
        "outputId": "c59c2a8a-b185-4dc4-e069-afcec62d08e0"
      },
      "outputs": [
        {
          "data": {
            "image/png": "[encoded data removed]",
            "text/plain": [
              "<Figure size 700x500 with 1 Axes>"
            ]
          },
          "metadata": {},
          "output_type": "display_data"
        }
      ],
      "source": [
        "# Boxplot Na_to_K theo loại thuốc / Boxplot of Na_to_K by Drug\n",
        "plt.figure(figsize=(7,5))\n",
        "# TODO: tạo figure mới với kích thước 7x5 / create a new figure with size 7x5\n",
        "# Gợi ý / Suggestion: plt.figure(figsize=(7,5))\n",
        "\n",
        "sns.boxplot(\n",
        "    data=my_data,   # TODO: chỉ định dữ liệu / specify the data\n",
        "    x='Drug',         # TODO: chọn biến phân loại trên trục X (gợi ý: \"Drug\") / categorical variable for X-axis\n",
        "    y='Na_to_K',         # TODO: chọn biến số trên trục Y (gợi ý: \"Na_to_K\") / numeric variable for Y-axis\n",
        "    hue=True,       # TODO: phân biệt màu theo biến phân loại / color by categorical variable\n",
        "    palette='husl',   # TODO: bảng màu / color palette (ví dụ: \"Set3\", \"husl\", \"coolwarm\", None)\n",
        "    legend=True,     # TODO: hiển thị legend hay không / show legend (True/False)\n",
        ")\n",
        "# Gợi ý / Suggestion:\n",
        "# - sns.boxplot → vẽ boxplot (phân bố, median, outliers) / plot boxplot showing distribution, median, outliers\n",
        "# - hue có thể bỏ trống nếu không muốn tách màu / can omit hue if no color separation\n",
        "# - palette có thể đổi để so sánh (Set2, Dark2, Paired...) / change palette for comparison\n",
        "\n",
        "plt.title(\"So sánh Na_to_K theo loại thuốc\")\n",
        "# TODO: đặt tiêu đề / set title (gợi ý: title(\"...\"))\n",
        "\n",
        "plt.show()\n",
        "# TODO: hiển thị biểu đồ / display figure (gợi ý: show())\n"
      ]
    },
    {
      "cell_type": "markdown",
      "metadata": {
        "id": "JiWoaQH_4d8r"
      },
      "source": [
        "## Kết luận và Gợi ý Mở rộng  \n",
        "*Conclusion and Suggestions for Extension*\n",
        "\n",
        "### Tóm tắt những gì đã học  \n",
        "*Summary of what we learned*\n",
        "\n",
        "Trong notebook này, chúng ta đã thực hiện **phân tích thăm dò dữ liệu** hoàn chỉnh trên bộ dữ liệu y tế:  \n",
        "*In this notebook, we performed a complete **exploratory data analysis** on a medical dataset:*\n",
        "\n",
        "- **Thống kê mô tả**: Hiểu được cấu trúc và đặc điểm cơ bản của 200 bệnh nhân  \n",
        "  *Descriptive statistics: Understand the basic structure and characteristics of 200 patients*  \n",
        "- **Kiểm tra chất lượng dữ liệu**: Xác nhận dữ liệu sạch, không có missing values  \n",
        "  *Data quality check: Confirm clean data with no missing values*  \n",
        "- **Phân tích đơn biến**: Khám phá phân phối của từng feature  \n",
        "  *Univariate analysis: Explore the distribution of each feature*  \n",
        "- **Phân tích đa biến**: Tìm hiểu mối quan hệ giữa features và target  \n",
        "  *Multivariate analysis: Investigate relationships between features and the target*  \n",
        "- **Rút ra insight**: Phát hiện những phát hiện quan trọng để hỗ trợ modeling  \n",
        "  *Insights extraction: Derive key findings to support modeling*\n",
        "\n",
        "### Key Insights từ phân tích  \n",
        "*Key insights from the analysis*\n",
        "\n",
        "**Về dữ liệu / About the data:**  \n",
        "- Dataset cân bằng tốt với 200 samples, không có missing values  \n",
        "  *The dataset is well-balanced with 200 samples, no missing values*  \n",
        "- Mix hợp lý giữa numeric (Age, Na_to_K) và categorical features  \n",
        "  *Reasonable mix of numeric (Age, Na_to_K) and categorical features*  \n",
        "- Phân bố Drug khá đều, tạo điều kiện tốt cho classification  \n",
        "  *Drug distribution is fairly even, providing good conditions for classification*\n",
        "\n",
        "**Về mối quan hệ / About relationships:**  \n",
        "- **Na_to_K ratio** có mối liên hệ mạnh với loại thuốc hiệu quả  \n",
        "  *Na_to_K ratio is strongly associated with the effective drug*  \n",
        "- **Age và BP** cũng ảnh hưởng đến việc lựa chọn thuốc  \n",
        "  *Age and BP also affect drug selection*  \n",
        "- Có patterns rõ ràng giữa patient characteristics và drug response  \n",
        "  *Clear patterns exist between patient characteristics and drug response*\n",
        "\n",
        "### Gợi ý Mở rộng và Cải tiến  \n",
        "*Suggestions for Extension and Improvement*\n",
        "\n",
        "#### 1. **Deep Dive Khai phá dữ liệu / Advanced EDA**  \n",
        "```python\n",
        "# Phân tích correlation nâng cao / Advanced correlation analysis\n",
        "from scipy.stats import chi2_contingency, pearsonr\n",
        "# Statistical significance testing / Kiểm định ý nghĩa thống kê\n",
        "# Feature importance analysis / Phân tích tầm quan trọng của các feature\n"
      ]
    },
    {
      "cell_type": "markdown",
      "metadata": {
        "id": "6WmLbCEqmv2v"
      },
      "source": [
        "# BÀI TẬP THỰC HÀNH KHÁM PHÁ DỮ LIỆU TẠI LỚP\n",
        "*IN-CLASS DATA EXPLORATION PRACTICE EXERCISES*\n",
        "\n",
        "---\n",
        "\n",
        "### Bài 1\n",
        "Đếm số lượng bệnh nhân theo từng loại thuốc trong cột Drug. Thuốc nào có nhiều bệnh nhân nhất?  \n",
        "*Count the number of patients for each drug in the 'Drug' column. Which drug has the most patients?*\n",
        "\n",
        "---\n",
        "\n",
        "### Bài 2\n",
        "So sánh trung bình chỉ số Na_to_K giữa nhóm bệnh nhân có Cholesterol cao và nhóm có Cholesterol bình thường. Nhóm nào có chỉ số cao hơn?  \n",
        "*Compare the average Na_to_K ratio between patients with high cholesterol and normal cholesterol. Which group has a higher value?*\n",
        "\n",
        "---\n",
        "\n",
        "### Bài 3\n",
        "Trong từng nhóm huyết áp (BP: LOW, NORMAL, HIGH), hãy xác định loại thuốc nào được kê nhiều nhất. Điều này giúp hiểu xem huyết áp có liên quan đến loại thuốc kê đơn không.  \n",
        "*For each blood pressure group (BP: LOW, NORMAL, HIGH), identify the drug prescribed most frequently. This helps to understand whether BP is related to prescribed drugs.*\n",
        "\n",
        "**Gợi ý / Hint:**  \n",
        "- Dùng `groupby(\"BP\")` để gom nhóm  \n",
        "  *Use `groupby(\"BP\")` to group the data*  \n",
        "- Với mỗi nhóm, tìm loại thuốc có tần suất xuất hiện cao nhất: `value_counts().idxmax()`  \n",
        "  *For each group, find the most frequent drug using `value_counts().idxmax()`*\n",
        "\n",
        "---\n",
        "\n",
        "### Bài 4\n",
        "Hãy lập bảng chéo giữa giới tính (Sex) và loại thuốc (Drug), sau đó tính tỷ lệ % từng loại thuốc trong mỗi giới tính. Nhận xét sự khác biệt giữa nam và nữ.  \n",
        "*Create a cross-tabulation between Sex and Drug, then calculate the % of each drug per gender. Comment on the differences between male and female.*\n",
        "\n",
        "**Gợi ý / Hint:**  \n",
        "- Dùng `pd.crosstab(df[\"Sex\"], df[\"Drug\"])`  \n",
        "  *Use `pd.crosstab(df[\"Sex\"], df[\"Drug\"])`*  \n",
        "- Thêm `normalize=\"index\"` để chuyển sang tỷ lệ %  \n",
        "  *Add `normalize=\"index\"` to convert counts to percentages*  \n",
        "- So sánh hàng \"M\" và \"F\"  \n",
        "  *Compare the rows \"M\" and \"F\"*\n"
      ]
    },
    {
      "cell_type": "markdown",
      "metadata": {},
      "source": [
        "### BÀI 1:\n",
        "Đếm số lượng bệnh nhân theo từng loại thuốc trong cột Drug. Thuốc nào có nhiều bệnh nhân nhất?  "
      ]
    },
    {
      "cell_type": "code",
      "execution_count": 55,
      "metadata": {},
      "outputs": [
        {
          "data": {
            "text/plain": [
              "Drug\n",
              "drugY    91\n",
              "drugX    54\n",
              "drugA    23\n",
              "drugC    16\n",
              "drugB    16\n",
              "Name: count, dtype: int64"
            ]
          },
          "execution_count": 55,
          "metadata": {},
          "output_type": "execute_result"
        }
      ],
      "source": [
        "my_data['Drug'].value_counts()"
      ]
    },
    {
      "cell_type": "code",
      "execution_count": 56,
      "metadata": {},
      "outputs": [
        {
          "name": "stdout",
          "output_type": "stream",
          "text": [
            "Thuốc có nhiều bệnh nhân nhất: drugY\n"
          ]
        }
      ],
      "source": [
        "print(f\"Thuốc có nhiều bệnh nhân nhất: {my_data['Drug'].mode()[0]}\")"
      ]
    },
    {
      "cell_type": "markdown",
      "metadata": {},
      "source": [
        "### BÀI 2:\n",
        "So sánh trung bình chỉ số Na_to_K giữa nhóm bệnh nhân có Cholesterol cao và nhóm có Cholesterol bình thường. Nhóm nào có chỉ số cao hơn? "
      ]
    },
    {
      "cell_type": "code",
      "execution_count": 57,
      "metadata": {},
      "outputs": [
        {
          "data": {
            "text/plain": [
              "Cholesterol\n",
              "HIGH      103\n",
              "NORMAL     97\n",
              "Name: count, dtype: int64"
            ]
          },
          "execution_count": 57,
          "metadata": {},
          "output_type": "execute_result"
        }
      ],
      "source": [
        "my_data['Cholesterol'].value_counts()"
      ]
    }
  ],
  "metadata": {
    "colab": {
      "provenance": []
    },
    "kernelspec": {
      "display_name": "practice_DS",
      "language": "python",
      "name": "python3"
    },
    "language_info": {
      "codemirror_mode": {
        "name": "ipython",
        "version": 3
      },
      "file_extension": ".py",
      "mimetype": "text/x-python",
      "name": "python",
      "nbconvert_exporter": "python",
      "pygments_lexer": "ipython3",
      "version": "3.13.7"
    }
  },
  "nbformat": 4,
  "nbformat_minor": 0
}
